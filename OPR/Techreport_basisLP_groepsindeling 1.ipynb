{
 "cells": [
  {
   "cell_type": "markdown",
   "id": "b5126e04-8167-469b-b3b3-38a88a3cea9b",
   "metadata": {},
   "source": [
    "# Een lineair programma oplossen in Python: studenten indelen bij opdrachten."
   ]
  },
  {
   "cell_type": "markdown",
   "id": "b8df7c5e-5c6e-4f3b-861e-62d9814d242f",
   "metadata": {},
   "source": [
    "### Introductie\n",
    "In dit techreport bespreken we hoe een  lineair programma (LP) opgelost kan worden met behulp van Python. Lineair programmeren is een methode die gebruikt kan worden om optimalisatieproblemen op te lossen waarbij een doelfuctie wordt geminimaliseerd onder bepaalde randvoorwaarden. \n",
    "\n",
    "Ter illustratie introduceren we een eenvoudig LP model om de groepsindeling van een project te maken. Voor dit project zijn er een aantal verschillende opdrachten en studenten geven een voorkeur voor een project aan. Op basis van deze voorkeuren worden de groepen ingedeeld zodanig dat zoveel mogelijk studenten bij het project van hun voorkeur zitten. \n",
    "\n",
    "Eerst wordt het LP-model kort gegeven en vervolgens laten we zien hoe dit in Python wordt opgelost met behulp van pulp. Daarna bespreken we ook een aantal mogelijke uitbreidingen. "
   ]
  },
  {
   "cell_type": "markdown",
   "id": "d74bbb08-9293-4a20-a66a-bd930a754372",
   "metadata": {},
   "source": [
    "### Het LP model\n",
    "Een LP model bestaat uit verschillende elementen: de parameters en beslissingsvariabelen, de doelfunctie en de randvoorwaarde. De parameters geven de input van het model weer.\n",
    "<br>\n",
    "$n = \\text{aantal studenten}$\n",
    "<br>\n",
    "$m = \\text{aantal opdrachten}$\n",
    "<br>\n",
    "$\n",
    "    v_{ij}=\n",
    "    \\begin{cases}\n",
    "      1, & \\text{als student $i$ voorkeur heeft voor opdracht $j$,} \\\\\n",
    "      0, & \\text{anders,}\n",
    "    \\end{cases} \\quad i=1,...,n;j=1,...,m.\n",
    "$\n",
    "<br>\n",
    "$g_{max} = \\text{maximale groepsgrootte}$ \n",
    "<br>\n",
    "$g_{min} = \\text{minimale groepsgrootte}$ \n",
    "<br><br>\n",
    "De beslissing die gemaakt moet worden is welke student in welk groepje wordt ingedeeld. Hiervoor worden de beslissingsvariabelen geintroduceerd.\n",
    "<br>\n",
    "$\n",
    "    x_{ij}=\n",
    "    \\begin{cases}\n",
    "      1, & \\text{als student $i$ wordt ingedeeld bij opdracht $j$,} \\\\\n",
    "      0, & \\text{anders,}\n",
    "    \\end{cases} \\quad  i=1,...,n;j=1,...,m.\n",
    "$\n",
    "<br>\n",
    "Met behulp van de doelfunctie kan aangegeven wordt wat er geoptimaliseerd moet worden. In dit geval willen we het aantal studenten dat bij een opdracht van hun voorkeur wordt ingedeeld maximaliseren.\n",
    "<br>\n",
    "$ \\max \\sum_{i=1}^n\\sum_{j=1}^mv_{ij}x_{ij}$\n",
    "<br>\n",
    "De randvoorwaarden geven aan aan welke voorwaarde er voldaan moet worden. De eerste randvoorwaarde zorgt ervoor dat elke student in een groepje wordt ingedeeld. De tweede en derde randvoorwaarden zorgen ervoor dat alle groepjes niet minder dan het minimaal aantal studenten en niet meer dan het maximaal aantal studenten heeft. De laatste randvoorwaarde (ook wel tekenvoorwaarde) zorgt ervoor dat $x_{ij}$ alleen de waarden 0 en 1 kan aannemmen. \n",
    "<br>\n",
    "$\\sum_{j=1}^m x_{ij} = 1  \\quad\\quad\\quad\\quad i=1,...,n$\n",
    "<br>\n",
    "$\\sum_{i=1}^n x_{ij} \\ge g_{min} \\quad\\quad\\quad j=1,...,m$\n",
    "<br>\n",
    "$\\sum_{i=1}^n x_{ij} \\le g_{max} \\quad\\quad\\quad j=1,...,m$\n",
    "<br>\n",
    "$x_{ij} \\in \\{0,1\\} \\quad\\quad\\quad\\quad i=1,...,n;j=1,...,m$ "
   ]
  },
  {
   "cell_type": "markdown",
   "id": "b4f297e4-0927-4850-8401-1c35d4620e7d",
   "metadata": {},
   "source": [
    "### LP in Python\n",
    "\n",
    "We laten nu zien hoe het LP-model in Python opgelost kan worden. Er zijn verschillende packages die gebruikt kunnem worden. Wij gebruiken hiervoor het package Pulp. Daarnaast worden de packages Numpy en Pandas gebruikt om het model in te voeren en de output te presenteren. "
   ]
  },
  {
   "cell_type": "code",
   "execution_count": 1,
   "id": "1a494027-ad38-4b0e-9bbe-5b125e2470f4",
   "metadata": {},
   "outputs": [],
   "source": [
    "import pulp as plp\n",
    "import numpy as np\n",
    "import pandas as pd"
   ]
  },
  {
   "cell_type": "markdown",
   "id": "0ff5b256-f920-42dd-8911-6144359818da",
   "metadata": {},
   "source": [
    "**Parameters**<br>\n",
    "Ter illustratie gebruiken we eenvoudig voorbeeld met 20 studenten en 5 opdrachten. Elke groep bestaat uit 4 tot 6 personen. De formulering van het uiteindelijke LP is algemeen en kan voor willekeurige instanties opgelost worden. "
   ]
  },
  {
   "cell_type": "code",
   "execution_count": 2,
   "id": "f013c674-06e0-4571-b35a-c68a5b81af55",
   "metadata": {},
   "outputs": [],
   "source": [
    "## parameters\n",
    "\n",
    "n = 20 # aantal studenten\n",
    "m = 5 # aantal opdrachten\n",
    "g_min = 4 # minimaal aantal studenten per opdracht\n",
    "g_max = 6 # maximaal aantal studenten per opdracht\n",
    "# nxm matrix die de voorkeur van studenten voor opdrachten aangeeft\n",
    "v = np.array([[0,1,0,1,0],\n",
    "              [1,1,0,0,0],\n",
    "              [0,1,0,1,0],\n",
    "              [0,0,0,1,1],\n",
    "              [0,1,0,1,0],\n",
    "              [1,1,0,0,0],\n",
    "              [0,1,1,0,0],\n",
    "              [0,0,0,1,1],\n",
    "              [0,1,0,1,0],\n",
    "              [1,1,0,0,0],\n",
    "              [0,0,1,1,0],\n",
    "              [0,0,0,1,1],\n",
    "              [0,1,0,0,1],\n",
    "              [0,0,1,1,0],\n",
    "              [1,0,0,1,0],\n",
    "              [1,0,0,0,1],\n",
    "              [1,1,0,0,0],\n",
    "              [1,1,0,0,0],\n",
    "              [0,1,0,0,1],\n",
    "              [0,1,0,1,0]])"
   ]
  },
  {
   "cell_type": "markdown",
   "id": "b90acfdc-6ce4-46f3-906c-fccb3f2d92c4",
   "metadata": {},
   "source": [
    "**Model**<br>\n",
    "We maken eerst het LP model aan. Hierbij kunnen we ook al aangeven of het een  minimalisatie (plp.LpMinimize) of maximalisatie (plp.LpMaximize) is. "
   ]
  },
  {
   "cell_type": "code",
   "execution_count": 3,
   "id": "373e2d67-d843-4509-a9c3-5483110d02ab",
   "metadata": {},
   "outputs": [],
   "source": [
    "# maak het model aan\n",
    "lp_model = plp.LpProblem(name=\"LPgroepsindeling\",sense=plp.LpMaximize)"
   ]
  },
  {
   "cell_type": "markdown",
   "id": "a5bfd640-3b00-4952-9195-498266a55082",
   "metadata": {},
   "source": [
    "**Beslissingsvariabelen**<br>\n",
    "Vervolgens worden beslissingsvariabelen aangemaakt in een dictionary. Hiervoor wordt de functie plp.LpVariable gebruikt. We maken de variabele x_ij aan. Hierbij voegen we meteen de tekenrestricties toe. \n",
    "\n",
    "Je kunt kiezen uit 3 soorten categoriën: plp.LpInteger, plp.LpBinary, plp.LpContinuous. De argumenten lowBound en upBound zijn optioneel. Voor een binaire variabele zijn die niet nodig omdat die alleen de waarde 0 en één kunnen aangeven, maar bij een continue variabele kun je op deze manier meteen de grenzen aangeven (bijvoorbeeld lowBound=0, upBound=None).\n"
   ]
  },
  {
   "cell_type": "code",
   "execution_count": 4,
   "id": "ff8005b7-ed07-4794-869d-412128712805",
   "metadata": {},
   "outputs": [],
   "source": [
    "# Variabelen\n",
    "x = {(i,j): plp.LpVariable(cat=plp.LpBinary, \n",
    "                           name=f\"x_{i}_{j}\")\n",
    "     for i in range(n) for j in range(m)}"
   ]
  },
  {
   "cell_type": "markdown",
   "id": "e7959228-537b-4967-ad01-ae6e8724a158",
   "metadata": {},
   "source": [
    "**Doelfunctie en randvoorwaarden**<br>\n",
    "Vervolgens worden de doelfunctie en randvoorwaarden één voor een aan het model toegevoegd. Let op: het is belangrijk om altijd eerst de doelfunctie \n",
    "toe te voegen en dan de randvoorwaarden. Om een som te kunnen nemen gebruik je de functie plp.lpSum()"
   ]
  },
  {
   "cell_type": "code",
   "execution_count": 5,
   "id": "3dcc0e76-33d7-4be6-9d5c-b26a929ed04a",
   "metadata": {},
   "outputs": [],
   "source": [
    "# doelfuntie (voeg altijd als eerste de doelfunctie toe)\n",
    "lp_model += (\n",
    "    plp.lpSum(v[i,j] * x[i,j] for i in range(n) for j in range(m)),\n",
    "    \"objective\")"
   ]
  },
  {
   "cell_type": "code",
   "execution_count": 6,
   "id": "b7aab830-723a-496b-ba3d-532ab7ca5eca",
   "metadata": {},
   "outputs": [],
   "source": [
    "# Randvoorwaarden \n",
    "for i in range(n):\n",
    "    lp_model += (\n",
    "        plp.lpSum(x[i,j] for j in range(m)) == 1,\n",
    "        f\"constraint1_{i}\")\n",
    "    \n",
    "for j in range(m):\n",
    "    lp_model += (\n",
    "        plp.lpSum(x[i,j] for i in range(n)) >= g_min,\n",
    "        f\"constraint2_{j}\")\n",
    "    \n",
    "for j in range(m):\n",
    "    lp_model += (\n",
    "        plp.lpSum(x[i,j] for i in range(n)) <= g_max,\n",
    "        f\"constraint3_{j}\")"
   ]
  },
  {
   "cell_type": "markdown",
   "id": "e4a1bedb-04bc-4d1a-9233-37d4c9fb593b",
   "metadata": {},
   "source": [
    "**LP oplossen**<br>\n",
    "Nu de doelfunctie en alle randvoorwaarden zijn toegevoegd aan het model kunnen we het model oplossen. Aan de output kun je zien of het model is opgelost. Een aantal mogelijke outputs zijn: \n",
    "- 0: niet opgelost;\n",
    "- 1: optimaal;\n",
    "- -1: onoplosbaar;\n",
    "- -2: onbegrensd;\n",
    "- -3: ongedefiniëerd."
   ]
  },
  {
   "cell_type": "code",
   "execution_count": 7,
   "id": "e0152159-102d-40fa-b73a-2e8467072686",
   "metadata": {},
   "outputs": [],
   "source": [
    "# Model oplossen\n",
    "lp_model.solve()\n",
    "\n",
    "#Uitkomsten \n",
    "objvalue = plp.value(lp_model.objective)\n",
    "\n",
    "varsvalue = {}\n",
    "for i in lp_model.variables():\n",
    "    varsvalue[i.name] = i.varValue"
   ]
  },
  {
   "cell_type": "markdown",
   "id": "9e879f8e-2035-4906-abbf-fdd478c0e9e0",
   "metadata": {},
   "source": [
    "**Uitkomsten**<br>\n",
    "De uitkomsten van het model zijn nu te vinden in een dictionary. Het kan lastig zijn om de resultaten hieruit te halen om er verder mee te rekenen. Het is een optie om de resultaten in een dataframe te zetten, vanaf daar kun je er makkelijker verder mee werken."
   ]
  },
  {
   "cell_type": "code",
   "execution_count": 8,
   "id": "96f0041c-e368-4cf5-8e90-c6b73ecaa880",
   "metadata": {},
   "outputs": [
    {
     "name": "stdout",
     "output_type": "stream",
     "text": [
      "doelfunctiewaarde: 19.0\n",
      "toewijzing: [[0. 1. 0. 0. 0.]\n",
      " [1. 0. 0. 0. 0.]\n",
      " [0. 0. 0. 1. 0.]\n",
      " [0. 0. 0. 0. 1.]\n",
      " [0. 0. 0. 1. 0.]\n",
      " [1. 0. 0. 0. 0.]\n",
      " [0. 0. 1. 0. 0.]\n",
      " [0. 0. 0. 1. 0.]\n",
      " [0. 0. 0. 1. 0.]\n",
      " [1. 0. 0. 0. 0.]\n",
      " [0. 0. 1. 0. 0.]\n",
      " [0. 0. 0. 0. 1.]\n",
      " [0. 1. 0. 0. 0.]\n",
      " [0. 0. 1. 0. 0.]\n",
      " [1. 0. 0. 0. 0.]\n",
      " [0. 0. 0. 0. 1.]\n",
      " [0. 1. 0. 0. 0.]\n",
      " [0. 0. 1. 0. 0.]\n",
      " [0. 0. 0. 0. 1.]\n",
      " [0. 1. 0. 0. 0.]]\n"
     ]
    }
   ],
   "source": [
    "# Resultaten in een dataframe presenteren\n",
    "df = pd.DataFrame.from_dict(varsvalue.items()).loc[lambda d:d.iloc[:,0].str.contains('x')]\n",
    "df.columns = ['variable','value']\n",
    "df[['x','i','j']] = df.variable.str.split('_',expand = True)\n",
    "\n",
    "df['i'] = df['i'].astype('int')\n",
    "df['j'] = df['j'].astype('int')\n",
    "\n",
    "df = df.sort_values(['i','j'])\n",
    "\n",
    "# matrix met alle waarden van x_ij        \n",
    "values_x = np.full((n,m),0.0)\n",
    "values_x[df['i'],df['j']] = df['value']\n",
    "\n",
    "print('doelfunctiewaarde:',objvalue)\n",
    "print('toewijzing:',values_x.round())"
   ]
  },
  {
   "cell_type": "markdown",
   "id": "65c84c26-9b14-4e79-8a38-56842cc7e325",
   "metadata": {},
   "source": [
    "Als je dit model echt wilt gaan gebruiken om groepsindelingen te maken in het natuurlijk handig om hier een functie van te maken waarbij de parameters als input worden gegeven en de uitkomst als output. Dit zullen we bij volgende voorbeelden in één keer doen. "
   ]
  },
  {
   "cell_type": "markdown",
   "id": "1177b3c7-810e-45c3-9494-70f3aae6d4d8",
   "metadata": {},
   "source": [
    "### Mogelijke uitbreidingen\n",
    "\n",
    "We hebben nu met een eenvoudig model voor groepsindelingen laten zien hoe een LP in Python geïmplementeerd kan worden. Het is natuurlijk mogelijk om dit model op allerlei manieren uit te breiden. We bespreken er 3: \n",
    "- weging voor opdrachten meegeven;\n",
    "- mogelijkheid om een opdracht niet te doen;\n",
    "- voorkeuren voor groepsgenoten.\n",
    "\n",
    "**Weging voor opdrachten meegeven**<br>\n",
    "In het model dat we hebben geintroduceerd hebben we aangenomen dat voor elke opdracht aangegeven wordt of de student deze wel of niet kan doen. Echter, je kunt je ook voorstellen dat de student een top 3 van opdrachten samenstelt. Het model hoeft hier niet voor te veranderen, alleen de definitie van de volgende parameter is iets aangepast: <br>\n",
    "$\n",
    "    v_{ij}=\\text{de waarde die student $i$ geeft aan opdracht $j$}\\quad i=1,...,n;j=1,...,m.\n",
    "$<br>\n",
    "Hierbij geldt: hoe hoger de waarde, hoe groter de voorkeur. Door met de mogelijke waardes te spelen kun je verschillende situaties modelleren, bijvoorbeeld:\n",
    "- Als je  liever hebt dat alle studenten in hun top 3 worden ingedeeld dan dat de helft bij hun eerste voorkeur wordt ingedeeld en de andere helft bij een opdracht buiten hun top 3 kun je bijvoorbeeld de 3de keus een waarde 10 geven, de 2de keus een waarde 12 en de eerste keus een waarde van 15.\n",
    "- Je zou opdrachten kunnen uitsluiten door de waarde negatief te maken.\n",
    "\n",
    "**Mogelijkheid om een opdracht niet te doen** <br> \n",
    "Het is ook mogelijk om ervoor te kiezen om niet alle opdrachten uiteindelijk te doen, bijvoorbeeld als je te veel opdrachten hebt voor het aantal studenten. Om dit je kunnen doen zijn er wel een aantal aanpassingen nodig aan het model. De volgende beslissingsvariabele wordt geïntroduceerd:<br>\n",
    "$\n",
    "    y_{j}=\n",
    "    \\begin{cases}\n",
    "      1, & \\text{als opdracht $j$ wordt uitgevoerd,} \\\\\n",
    "      0, & \\text{anders,}\n",
    "    \\end{cases} \\quad  i=1,...,n;j=1,...,m.\n",
    "$\n",
    "Om ervoor te zorgen dat studenten alleen worden ingedeeld bij opdrachten die ook daadwerkelijk worden uitgevoerd moeten de randvoorwaarden worden aangepast. De doelfunctie blijft hetzelfde. <br>\n",
    "<br>\n",
    "$\\sum_{j=1}^m x_{ij} = 1  \\quad\\quad\\quad\\quad i=1,...,n$\n",
    "<br>\n",
    "$\\sum_{i=1}^n x_{ij} \\ge g_{min}\\cdot y_j \\quad j=1,...,m$\n",
    "<br>\n",
    "$\\sum_{i=1}^n x_{ij} \\le g_{min}\\cdot y_j \\quad j=1,...,m$\n",
    "<br>\n",
    "$x_{ij},y_j \\in \\{0,1\\} \\quad\\quad\\quad i=1,...,n;j=1,...,m$ <br>\n",
    "Met onderstaande functie kan dit model ook worden opgelost in Pulp. "
   ]
  },
  {
   "cell_type": "code",
   "execution_count": 9,
   "id": "8f1af765-3482-451d-98f1-1b1bc4ac90b9",
   "metadata": {},
   "outputs": [],
   "source": [
    "def Groepsindeling2(n,m,g_min,g_max,v):\n",
    "    # Deze functie implementeerd een LP model om een groepsindeling te maken waarbij studenten\n",
    "    # een voorkeur kunnen aangeven voor een opdracht en mogelijk niet alle opdrachten worden uitgevoerd.\n",
    "    # n: aantal studenten\n",
    "    # m: aantal opdrachten\n",
    "    # g_min: minimaal aantal studenten per opdracht\n",
    "    # g_max: maximaal aantal studenten per opdracht\n",
    "    # v: nxm matrix die de voorkeur van studenten voor opdrachten aangeeft\n",
    "    \n",
    "    # maak het model aan\n",
    "    lp_model = plp.LpProblem(name=\"LPgroepsindeling\",sense=plp.LpMaximize)\n",
    "\n",
    "    # Variabelen\n",
    "    x = {(i,j): plp.LpVariable(cat=plp.LpBinary, \n",
    "                               name=f\"x_{i}_{j}\")\n",
    "         for i in range(n) for j in range(m)}\n",
    "\n",
    "    y = {j: plp.LpVariable(cat=plp.LpBinary, \n",
    "                               name=f\"y_{j}\")\n",
    "         for j in range(m)}\n",
    "    \n",
    "    # doelfuntie \n",
    "    lp_model += (\n",
    "        plp.lpSum(v[i,j] * x[i,j] for i in range(n) for j in range(m)))\n",
    "    \n",
    "    # Randvoorwaarden \n",
    "    for i in range(n):\n",
    "        lp_model += (\n",
    "            plp.lpSum(x[i,j] for j in range(m)) == 1)\n",
    "        \n",
    "    for j in range(m):\n",
    "        lp_model += (\n",
    "            plp.lpSum(x[i,j] for i in range(n)) >= g_min * y[j])\n",
    "        \n",
    "    for j in range(m):\n",
    "        lp_model += (\n",
    "            plp.lpSum(x[i,j] for i in range(n)) <= g_max * y[j])\n",
    "    # Model oplossen\n",
    "    lp_model.solve()\n",
    "    \n",
    "    #Uitkomsten \n",
    "    objvalue = plp.value(lp_model.objective)\n",
    "    \n",
    "    varsvalue = {}\n",
    "    for i in lp_model.variables():\n",
    "        varsvalue[i.name] = i.varValue\n",
    "    \n",
    "    return objvalue, varsvalue"
   ]
  },
  {
   "cell_type": "code",
   "execution_count": 10,
   "id": "c76f4429-3b14-473d-ae96-49cab3d32b25",
   "metadata": {},
   "outputs": [
    {
     "name": "stdout",
     "output_type": "stream",
     "text": [
      "doelfunctiewaarde:  20.0\n"
     ]
    }
   ],
   "source": [
    "# oplossen\n",
    "objvalue, varsvalue = Groepsindeling2(n,m,g_min,g_max,v)\n",
    "\n",
    "print('doelfunctiewaarde: ', objvalue)"
   ]
  },
  {
   "cell_type": "markdown",
   "id": "b6aa9279-121d-470c-bca8-4250e74ea11c",
   "metadata": {},
   "source": [
    "We zien dat de doelfunctiewaarde nu iets hoger is omdat er geen studenten worden ingedeeld bij opdracht 3."
   ]
  },
  {
   "cell_type": "markdown",
   "id": "044622e7-78ee-4271-b106-c23f791daddb",
   "metadata": {},
   "source": [
    "**Voorkeuren voor groepsgenoten**<br> \n",
    "Ten slotte bekijken we een uitbreiding waarbij studenten kunnen aangeven met wie ze graag samen willen werken. Hiervoor wordt het model wat meer aangepast. We gaan weer uit van het basis model om mee te starten. De volgende extra parameter wordt geïntroduceerd:\n",
    "$\n",
    "    s_{ik}=\n",
    "    \\begin{cases}\n",
    "      1, & \\text{als als student $i$ met student $k$ wil samenwerken,} \\\\\n",
    "      0, & \\text{anders,}\n",
    "    \\end{cases} \\quad  i,j=1,...,n.\n",
    "$\n",
    "Er is ook een extra beslissingsvariabele nodig:\n",
    "$\n",
    "    z_{ijk}=\n",
    "    \\begin{cases}\n",
    "      1, & \\text{als student $i$ en $k$ samen aan opdracht $j$ werken,} \\\\\n",
    "      0, & \\text{anders,}\n",
    "    \\end{cases} \\quad  i=1,...,n;j=1,...,m.\n",
    "$\n",
    "\n",
    "De waarde van deze variabele is afhankelijk van de keuze van $x_{ij}$, hiervoor voegen we de volgende randvoorwaarden toe:<br>\n",
    "$ z_{ijk} \\ge x_{ij}+x{kj}-1 \\quad i,k=1,...,n;j=1,...,m $<br>\n",
    "$ z_{ijk} \\le x_{ij} \\quad i,k=1,...,n;j=1,...,m $<br>\n",
    "$ z_{ijk} \\le x_{kj} \\quad i,k=1,...,n;j=1,...,m $ <br>\n",
    "De eerste extra randvoorwaarde zorgt ervoor dat de waarde van $z_{ijk}$ gelijk is aan 1 als student $i$ en $k$ allebei aan project $j$ werken en de laatste twee extra randvoorwaarden zorgen ervoor dat $z_{ijk}$ gelijk is aan 0 als of student $i$ of student $k$ (of allebei) niet aan project $j$ werken. \n",
    "\n",
    "Tenslotte moet ook de doelfunctie worden aangepast omdat we ervoor willen zorgen dat studenten zoveel mogelijk worden ingedeeld met medestudenten die ze als voorkeur hebben aangegeven: <br>\n",
    "<br>\n",
    "$ \\max c_1\\sum_{i=1}^n\\sum_{j=1}^mv_{ij}x_{ij} + c_2\\sum_{i=1}^n\\sum_{k=1}^ns_{ik}\\sum_{j=1}^mz_{ijk} $\n",
    "<br>\n",
    "Het eerste deel geeft aan hoeveel studenten ook daarwerkelijk bij een opdracht van hun voorkeur zitten en het tweede deel geeft aan hoeveel studenten zijn ingedeeld met medestudenten met wie ze graag samenwerken. De constanten $c_1$ en $c_2$ kunnen gebruikt worden om aan te geven welk deel het belangrijkst is. Moeten studenten bijvoorbeeld in eerste instantie bij de opdracht naar keuze worden ingedeeld en wordt daarna pas gekeken naar de samenwerking, dan kun je de waarde van $c_1$ wat hoger kiezen dan die van $c_2$. \n",
    "\n",
    "Met onderstaande functie kan dit model worden opgelost in pulp."
   ]
  },
  {
   "cell_type": "code",
   "execution_count": 11,
   "id": "d40e24e2-250d-497b-b9f5-7e3730ee6cfd",
   "metadata": {},
   "outputs": [],
   "source": [
    "def Groepsindeling3(n,m,g_min,g_max,v,s,c1=1,c2=1):\n",
    "    # Deze functie implementeerd een LP model om een groepsindeling te maken waarbij studenten\n",
    "    # zowel een voorkeur kunnen aangeven voor een opdracht als met wie ze willen samenwerken.\n",
    "    # n: aantal studenten\n",
    "    # m: aantal opdrachten\n",
    "    # g_min: minimaal aantal studenten per opdracht\n",
    "    # g_max: maximaal aantal studenten per opdracht\n",
    "    # v: nxm matrix die de voorkeur van studenten voor opdrachten aangeeft\n",
    "    # s: nxn matrix die de voorkeur van studenten voor medestudenten aangeeft\n",
    "    # c1: score voor hoe belangrijk voorkeur van studenten voor opdracht is (default: c1=1)\n",
    "    # c1: score voor hoe belangrijk voorkeur van studenten voor medestudenten is (default: c2=1)\n",
    "    \n",
    "    # maak het model aan\n",
    "    lp_model = plp.LpProblem(name=\"LPgroepsindeling\",sense=plp.LpMaximize)\n",
    "\n",
    "    # Variabelen\n",
    "    x = {(i,j): plp.LpVariable(cat=plp.LpBinary, \n",
    "                               name=f\"x_{i}_{j}\")\n",
    "         for i in range(n) for j in range(m)}\n",
    "\n",
    "    z = {(i,j,k): plp.LpVariable(cat=plp.LpBinary, \n",
    "                               name=f\"z_{i}_{j}_{k}\")\n",
    "         for i in range(n) for j in range(m) for k in range(n)}\n",
    "    \n",
    "    # doelfuntie \n",
    "    lp_model += (\n",
    "        c1*plp.lpSum(v[i,j] * x[i,j] for i in range(n) for j in range(m)) + \n",
    "        c2*plp.lpSum(s[i,k] * plp.lpSum(z[i,j,k] for j in range(m)) for i in range(n) for k in range(n)))\n",
    "    \n",
    "    # Randvoorwaarden \n",
    "    for i in range(n):\n",
    "        lp_model += (\n",
    "            plp.lpSum(x[i,j] for j in range(m)) == 1)\n",
    "        \n",
    "    for j in range(m):\n",
    "        lp_model += (\n",
    "            plp.lpSum(x[i,j] for i in range(n)) >= g_min)\n",
    "        \n",
    "    for j in range(m):\n",
    "        lp_model += (\n",
    "            plp.lpSum(x[i,j] for i in range(n)) <= g_max)\n",
    "\n",
    "    for i in range(n):\n",
    "        for j in range(m):\n",
    "            for k in range(n):\n",
    "                lp_model += (\n",
    "                    z[i,j,k]>=x[i,j]+x[k,j]-1)\n",
    "                lp_model += (\n",
    "                    z[i,j,k]<=x[i,j])\n",
    "                lp_model += (\n",
    "                    z[i,j,k]<=x[k,j])\n",
    "                \n",
    "    # Model oplossen\n",
    "    lp_model.solve()\n",
    "    \n",
    "    #Uitkomsten \n",
    "    objvalue = plp.value(lp_model.objective)\n",
    "    \n",
    "    varsvalue = {}\n",
    "    for i in lp_model.variables():\n",
    "        varsvalue[i.name] = i.varValue\n",
    "    \n",
    "    return objvalue, varsvalue"
   ]
  },
  {
   "cell_type": "code",
   "execution_count": 12,
   "id": "477f2e9e-77b9-4489-bd98-97def92aec9c",
   "metadata": {},
   "outputs": [
    {
     "name": "stdout",
     "output_type": "stream",
     "text": [
      "doelfunctiewaarde:  26.0\n"
     ]
    }
   ],
   "source": [
    "# nieuwe parameters\n",
    "s = np.array([[0,0,1,0,0,0,0,0,0,0,0,0,0,0,1,0,0,0,0,0],\n",
    "              [0,0,0,0,0,0,0,0,0,0,0,0,0,0,0,0,0,0,0,0],\n",
    "              [1,0,0,0,0,0,1,0,0,0,0,0,0,0,0,0,0,0,0,0],\n",
    "              [0,0,0,0,0,0,0,0,0,0,1,0,0,0,0,0,0,0,0,0],\n",
    "              [0,0,0,0,0,0,0,0,0,0,0,0,0,0,0,0,0,0,0,0],\n",
    "              [0,0,1,0,0,0,0,0,0,0,0,0,0,0,0,1,0,0,0,0],\n",
    "              [0,0,0,0,0,0,0,0,0,0,0,0,0,0,0,0,0,0,0,0],\n",
    "              [0,0,0,0,0,0,0,0,0,0,0,1,0,0,0,0,0,0,0,0],\n",
    "              [0,0,0,0,0,0,0,0,0,0,0,0,0,0,0,0,0,0,0,0],\n",
    "              [0,1,0,0,0,0,0,0,0,0,0,0,0,0,0,0,0,0,0,0],\n",
    "              [0,0,0,0,0,0,0,0,0,0,0,0,0,0,0,0,0,0,0,0],\n",
    "              [0,0,0,0,0,0,0,0,0,0,0,0,0,0,0,0,0,0,0,0],\n",
    "              [0,0,0,0,0,0,0,0,0,0,0,0,0,0,0,0,0,0,0,0],\n",
    "              [0,0,0,0,0,0,0,0,0,0,0,0,0,0,0,0,0,0,0,0],\n",
    "              [0,0,0,0,0,0,0,0,0,0,0,0,0,0,0,0,0,0,0,0],\n",
    "              [0,0,0,0,0,0,0,0,0,0,0,0,0,0,1,0,0,0,0,0],\n",
    "              [0,0,0,0,0,0,0,0,0,0,0,0,0,0,0,0,0,0,0,0],\n",
    "              [0,0,0,1,0,0,0,0,0,0,0,1,0,0,0,0,0,0,0,0],\n",
    "              [0,0,0,0,0,0,0,0,0,0,0,0,0,0,1,0,0,0,0,0],\n",
    "              [0,0,0,0,0,0,0,0,0,0,0,0,0,0,0,0,0,0,0,0]])\n",
    "\n",
    "c1 = 1 # score voor hoe belangrijk voorkeur van studenten voor opdracht is  \n",
    "c2 = 1 # score voor hoe belangrijk voorkeur van studenten voor medestudenten is \n",
    "\n",
    "# oplossen\n",
    "objvalue, varsvalue = Groepsindeling3(n,m,g_min,g_max,v,s,c1,c2)\n",
    "\n",
    "print('doelfunctiewaarde: ', objvalue)"
   ]
  },
  {
   "cell_type": "markdown",
   "id": "3080f884-1728-4922-b1f8-f4d9c17c9a2c",
   "metadata": {},
   "source": [
    "Deze uitkomst is iets lastiger te vergelijken met het basis model omdat de doelfunctie nu ook is veranderd. Hiervoor moeten de uitkomsten wat verder bekeken worden."
   ]
  },
  {
   "cell_type": "markdown",
   "id": "2ca9346e-96b5-462b-92a0-46da81632eac",
   "metadata": {},
   "source": [
    "### Conclusie\n",
    "\n",
    "We hebben nu gezien hoe een LP model om een groepsindeling te maken eruit ziet en hoe dat in Python geïmplementeerd kan worden. We hebben naar een aantal uitbreidingen gekeken, maar er zijn natuurlijk nog veel meer variaties mogelijk!"
   ]
  }
 ],
 "metadata": {
  "kernelspec": {
   "display_name": "Python 3 (ipykernel)",
   "language": "python",
   "name": "python3"
  },
  "language_info": {
   "codemirror_mode": {
    "name": "ipython",
    "version": 3
   },
   "file_extension": ".py",
   "mimetype": "text/x-python",
   "name": "python",
   "nbconvert_exporter": "python",
   "pygments_lexer": "ipython3",
   "version": "3.8.18"
  }
 },
 "nbformat": 4,
 "nbformat_minor": 5
}
