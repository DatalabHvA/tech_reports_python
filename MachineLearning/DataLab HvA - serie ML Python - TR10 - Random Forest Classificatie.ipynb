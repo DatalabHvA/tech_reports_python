{
 "cells": [
  {
   "cell_type": "markdown",
   "id": "2bc53274",
   "metadata": {},
   "source": [
    "<div class=\"alert alert-block alert-success\">\n",
    "    <h1>DataLab HvA - serie Machine Learning Python - Tech report 10</h1>\n",
    "</div>"
   ]
  },
  {
   "cell_type": "markdown",
   "id": "7c92d689",
   "metadata": {},
   "source": [
    "<div class=\"alert alert-block alert-warning\">\n",
    "    <h2>Random Forest Classificatie</h2>\n",
    "</div>"
   ]
  },
  {
   "cell_type": "markdown",
   "id": "37623910",
   "metadata": {},
   "source": [
    "### 0. Doel van deze les\n",
    "Vanwege de serie lessen waarbinnen deze les valt is het hierin de insteek is om het gemaakte model te gaan vergelijken met andere andere Machine Learning modellen en daarbij een kwaliteitscriterium te hanteren waarmee *alle* modellen onderling vergelijkbaar zijn. Dit is de reden dat we werken met een test- en een trainset van onze data.\n",
    "**Je leert** \n",
    "- hoe je in Python met behulp van het package `sklearn` een Random Forest t.b.v. een Classificatietaak kunt maken\n",
    "- (een selectie van) hyperparameters die gekozen kunnen worden om het model te optimaliseren\n",
    "- hoe je dit model kunt gebruiken om voorspellingen te genereren op nieuwe data\n",
    "\n",
    "**Je leert niet:**\n",
    "- wat de preciese wiskundige definitie en werking van het algoritme is\n",
    "- hoe je met het package `seaborn` eerste visuele verkenningen van de (variatie in de) data kan uitvoeren, zie hiervoor *Tech report 1: Introductie Machine Learning* uit deze serie.\n",
    "- hoe je data importeert en inlaadt in de python sessie, zie hiervoor echter wel [deze instructie](https://www.youtube.com/watch?v=1oBVx7pyuXo&list=PLwkTCAI_gJjW10xaAJpdqeQx7EQgFolfG&index=10) \n",
    "- wat het preciese concept en de werking van K-fold crossvalidatie en grid search zijn, zie hiervoor *Tech report 6: K-fold crossvalidatie en grid search* uit deze serie.\n",
    "\n",
    "**Machine Learning framework**\n",
    "- Om een consistente leerlijn in de serie Machine Learning aan te houden kiezen we telkens voor een opzet waarin een inititeel model bepaald wordt o.b.v. een *deel* van de beschikbare data: de *train data*. Om het model te kunnen vergelijken met ándere modeltypen (waarbij andere algoritmen worden gebruikt) stellen we de voorspellende prestaties vast a.h.v. de nog niet gebruikte data: de *test data*. "
   ]
  },
  {
   "cell_type": "markdown",
   "id": "a7ffe4c0",
   "metadata": {},
   "source": [
    "### 1. Laden van de benodigde packages\n",
    "Packages die je zelf nog niet hebt geinstalleerd dien je vooraf in Python te installeren. "
   ]
  },
  {
   "cell_type": "code",
   "execution_count": 1,
   "id": "429d3b4a",
   "metadata": {},
   "outputs": [],
   "source": [
    "# Voor de dataset en plots\n",
    "import matplotlib.pyplot as plt\n",
    "import seaborn as sns\n",
    "\n",
    "# Voor het bewerken en inspecteren van de data\n",
    "import pandas as pd\n",
    "\n",
    "# Voor het afsplitsen van een train- en test dataset\n",
    "from sklearn.model_selection import train_test_split\n",
    "\n",
    "# Voor het modelleren\n",
    "from sklearn.ensemble import RandomForestClassifier\n"
   ]
  },
  {
   "cell_type": "markdown",
   "id": "c7dd14a4",
   "metadata": {},
   "source": [
    "### 2. Laden en prepareren van de data"
   ]
  },
  {
   "cell_type": "markdown",
   "id": "c88e407b",
   "metadata": {},
   "source": [
    "We gebruiken als voorbeeld een dataset `'diamonds'`. Het betreft data van verschillende kenmerken uit een grote verzameling waarnemingen van diamanten. Eén van de kenmerken is de kwaliteit van het het slijpen (`cut`). Deze kwaliteit zal onder andere mogelijk samenhangen met andere kenmerken, zoals prijs, uitgedrukt in het aantal *US dollars* (`price`), de afmetingen (`x`, `y` en `z`), het gewicht (`carat`), de kleur (`color`) en de helderheid (`clarity`). Lees meer over deze dataset in de link [hier](https://ggplot2.tidyverse.org/reference/diamonds.html), daar worden ook de variabelen `table` en `depth` toegelicht en lees je dat voor `cut` de volgende waarden gedefinieerd zijn: `Fair`, `Good`, `Very Good`, `Premium`, `Ideal`.\n",
    "\n",
    "#### Laden en weergave data\n",
    "Zie de code hieronder voor het laden van de data. Er zijn geen missende waarden aanwezig (inspecteer dit ook zélf!) - zie *TR2 - Datapreparatie*  uit deze serie. "
   ]
  },
  {
   "cell_type": "code",
   "execution_count": 2,
   "id": "f87e46c6",
   "metadata": {},
   "outputs": [
    {
     "name": "stdout",
     "output_type": "stream",
     "text": [
      "   carat      cut color clarity  depth  table  price     x     y     z\n",
      "0   0.23    Ideal     E     SI2   61.5   55.0    326  3.95  3.98  2.43\n",
      "1   0.21  Premium     E     SI1   59.8   61.0    326  3.89  3.84  2.31\n",
      "2   0.23     Good     E     VS1   56.9   65.0    327  4.05  4.07  2.31\n",
      "3   0.29  Premium     I     VS2   62.4   58.0    334  4.20  4.23  2.63\n",
      "4   0.31     Good     J     SI2   63.3   58.0    335  4.34  4.35  2.75\n",
      "(53940, 10)\n",
      "carat       float64\n",
      "cut        category\n",
      "color      category\n",
      "clarity    category\n",
      "depth       float64\n",
      "table       float64\n",
      "price         int64\n",
      "x           float64\n",
      "y           float64\n",
      "z           float64\n",
      "dtype: object\n"
     ]
    }
   ],
   "source": [
    "# Laden van een standaard dataset uit package seaborn \n",
    "data = sns.load_dataset('diamonds')\n",
    "print(data.head())\n",
    "print(data.shape)\n",
    "print(data.dtypes)"
   ]
  },
  {
   "cell_type": "markdown",
   "id": "dc98451a",
   "metadata": {},
   "source": [
    "#### One-Hot encoding categoriale variabelen\n",
    "We zien dat we te maken hebben met drie categoriale variabelen (`cut`, `color` en `clarity`), waarvan de *eerste* onze te voorspellen variabele (`y`) zal worden. Het random forest kan met *de andere twee* categoriale variabelen in de *X-data* niet overweg. We maken hiervoor *one-hot encoded variabelen* aan, voor iedere waarde van de categoriale variabelen één (`drop_first=False`) :"
   ]
  },
  {
   "cell_type": "code",
   "execution_count": 3,
   "id": "d157fcdb",
   "metadata": {
    "scrolled": true
   },
   "outputs": [
    {
     "name": "stdout",
     "output_type": "stream",
     "text": [
      "   carat      cut  depth  table  price     x     y     z  color_D  color_E  \\\n",
      "0   0.23    Ideal   61.5   55.0    326  3.95  3.98  2.43        0        1   \n",
      "1   0.21  Premium   59.8   61.0    326  3.89  3.84  2.31        0        1   \n",
      "2   0.23     Good   56.9   65.0    327  4.05  4.07  2.31        0        1   \n",
      "3   0.29  Premium   62.4   58.0    334  4.20  4.23  2.63        0        0   \n",
      "4   0.31     Good   63.3   58.0    335  4.34  4.35  2.75        0        0   \n",
      "\n",
      "   ...  color_I  color_J  clarity_IF  clarity_VVS1  clarity_VVS2  clarity_VS1  \\\n",
      "0  ...        0        0           0             0             0            0   \n",
      "1  ...        0        0           0             0             0            0   \n",
      "2  ...        0        0           0             0             0            1   \n",
      "3  ...        1        0           0             0             0            0   \n",
      "4  ...        0        1           0             0             0            0   \n",
      "\n",
      "   clarity_VS2  clarity_SI1  clarity_SI2  clarity_I1  \n",
      "0            0            0            1           0  \n",
      "1            0            1            0           0  \n",
      "2            0            0            0           0  \n",
      "3            1            0            0           0  \n",
      "4            0            0            1           0  \n",
      "\n",
      "[5 rows x 23 columns]\n",
      "(53940, 23)\n",
      "carat            float64\n",
      "cut             category\n",
      "depth            float64\n",
      "table            float64\n",
      "price              int64\n",
      "x                float64\n",
      "y                float64\n",
      "z                float64\n",
      "color_D            uint8\n",
      "color_E            uint8\n",
      "color_F            uint8\n",
      "color_G            uint8\n",
      "color_H            uint8\n",
      "color_I            uint8\n",
      "color_J            uint8\n",
      "clarity_IF         uint8\n",
      "clarity_VVS1       uint8\n",
      "clarity_VVS2       uint8\n",
      "clarity_VS1        uint8\n",
      "clarity_VS2        uint8\n",
      "clarity_SI1        uint8\n",
      "clarity_SI2        uint8\n",
      "clarity_I1         uint8\n",
      "dtype: object\n"
     ]
    }
   ],
   "source": [
    "data = pd.get_dummies(data=data, columns= ['color', 'clarity'], drop_first=False)\n",
    "print(data.head())\n",
    "print(data.shape)\n",
    "print(data.dtypes)"
   ]
  },
  {
   "cell_type": "markdown",
   "id": "c514582d",
   "metadata": {},
   "source": [
    "#### Split variabelen X en y\n",
    "In dit voorbeeld willen we de waarde voor `cut` gaan voorspellen, zie ook *sectie 3: Voorbeschouwing* verderop."
   ]
  },
  {
   "cell_type": "code",
   "execution_count": 4,
   "id": "74870365",
   "metadata": {},
   "outputs": [],
   "source": [
    "#independent variables / explanatory variables\n",
    "X = data.drop('cut', axis=1)\n",
    "\n",
    "#dependent variable / response / target variable.\n",
    "y = data['cut']"
   ]
  },
  {
   "cell_type": "code",
   "execution_count": 5,
   "id": "f636d264",
   "metadata": {},
   "outputs": [],
   "source": [
    "#type(y) #pandas.core.series.Series\n",
    "#type(X) #pandas.core.frame.DataFrame"
   ]
  },
  {
   "cell_type": "markdown",
   "id": "7b232cab",
   "metadata": {},
   "source": [
    "#### Afsplitsen test data en train data\n",
    "Voor meer details over deze stap, zie *Tech report 2: Datapreparatie* uit deze serie."
   ]
  },
  {
   "cell_type": "code",
   "execution_count": 6,
   "id": "7552e3f7",
   "metadata": {},
   "outputs": [
    {
     "name": "stdout",
     "output_type": "stream",
     "text": [
      "(40455, 22)\n",
      "(13485, 22)\n",
      "(40455,)\n",
      "(13485,)\n"
     ]
    }
   ],
   "source": [
    "# Split in training en test data \n",
    "# random_state kiezen zorgt voor reproduceerbaarheid van dit resultaat - gebruik dat ! Een andere waarde is uiteraard ook prima\n",
    "# we kiezen voor een verhouden train - test van 75% - 25%. Andere keuzen kunnen ook!\n",
    "train_X, test_X, train_y, test_y = train_test_split(X,y,test_size=0.25,random_state=999)\n",
    "print(train_X.shape)\n",
    "print(test_X.shape)\n",
    "print(train_y.shape)\n",
    "print(test_y.shape)"
   ]
  },
  {
   "cell_type": "markdown",
   "id": "61780f58",
   "metadata": {},
   "source": [
    "### 3. Voorbeschouwing\n",
    "Zomaar modelleren doe je niet, eerst moeten we vaststellen wat we willen bereiken of welke vraag we zouden willen beantwoorden. Voor deze les zal dat worden:\n",
    "- Taak: stel een random forest classificatiemodel op om de kwaliteit van het slijpen van de diamant zo goed mogelijk te voorspellen op basis van de overige variabelen \n",
    "\n",
    "Vanuit de taak zullen we dus stellen:\n",
    "- De *onafhankelijke* variabelen ($x_i$) zijn de variabelen `carat`, `price`, `color_[7x]`, `clarity_[8x]`, `depth`, `table`, `x`, `y`, en `z`.\n",
    "- De *afhankelijke* variabele ($y$) is de variabele `cut`\n",
    "\n",
    "#### Random Forest\n",
    "Een random forest model is een vorm van *ensemble learning*, waarbij uit wordt gegaan van het volgende inzicht:\n",
    "\n",
    "- Als je meerdere slechte modellen hebt, dan:\n",
    "    - Zal ieder model overfit zijn op een gedeelte van de data.\n",
    "    - Zal ieder model een grote fout (hoge variantie) hebben.\n",
    "- Maar als je een nieuw model maakt door de resultaten van andere modellen te middelen, dan:\n",
    "    - Zal dit nieuwe model minder overfit zijn.\n",
    "    - Zal dit nieuwe model een lagere variantie hebben.\n",
    "    \n",
    "Een random forest bestaat uit een aantal (default: `n_estimators = 100`) verschillende regressiebomen, waarvan een voorspelling zal bestaan uit het gemiddelde van alle voorspelde waarden van al deze bomen afzonderlijk (*aggregation*). Alle mogelijke *hyperparameters* voor deze bomen zijn daarom ook in het random forest beschikbaar, zoals bijvoorbeeld: `max_depth`, `ccp_alpha` en `criterion`, die ook worden besproken in *TR 8 - Beslisbomen* in deze serie. \n",
    "\n",
    "Om ervoor te zorgen dat we **niet** telkens *dezelfde boom* schatten\n",
    "\n",
    "- wordt iedere boom gefit op een random steekproef, met teruglegging, (een bag) van de data (dit wordt *bagging* of *bootstrapping* genoemd); dit heeft als bijkomend voordeel dat het deel dat niet gebruikt wordt als validatieset kan worden gebruikt (*Out Of Bag - OOB*) (hyperparameter `bootstrap = True` (default)). Lees hierover meer in sectie 6 verderderop.   \n",
    "- kan ook het *aantal samples* aan data dat voor het trainen van iedere boom afzonderlijk wordt gebruikt worden gereguleerd: \n",
    "    - evenveel als het aantal samples dat de traindata in totaal bevat: `max_samples = None`(default). NB: bedenk dat random sampling *met teruglegging* ervoor zorgt dat je dan tóch steeds een andere trainingset per boom zal gebruiken  \n",
    "    - het is ook in te stellen als een percentage van het aantal traindata samples of een absoluut aantal  \n",
    "- is het een optie ervoor te kiezen dat bij iedere split er slechts gekozen mag worden uit een random selectie van de verklarende variabelen $X_1$ t/m $X_p$. (NB: onderstaande hyperparameter was óók al tekiezen bij de beslisboom)\n",
    "    - De hyperparameter `max_features = 1.0` (default) zal default zo staan ingesteld dat *alle* variabelen bij een split in aanmerking kunnen worden genomen.   \n",
    "    - Een veelvoorkomende keuze is om de optie `max_features = 'sqrt'` te kiezen, dan wordt er steeds een random set van (afgerond) de wortel van het totaal aantal variabelen beschikbaar gesteld om tot de *beste split* te komen. Andere opties zijn ook beschikbaar. \n",
    "\n",
    "Ga na dat wanneer we `max_features` aanpassen t.o.v. de default, er *twee* random elementen per boom aanwezig zijn in dit proces, dit zorgt voor een forest met allemaal verschillende bomen. "
   ]
  },
  {
   "cell_type": "markdown",
   "id": "66d5070f",
   "metadata": {},
   "source": [
    "### 4. Model schatten\n",
    "#### lees documentatie bij package\n",
    "Voordat we een model gaan schatten is het van belang dat je de documentatie van het algoritme dat we uit het package gaan gebruiken lezen. In dit geval is dat dus voor `RandomForestClassifier()`, die lees je bijvoorbeeld online [hier](https://scikit-learn.org/stable/modules/generated/sklearn.ensemble.RandomForestClassifier.html). Alternatief is om de `help()` functie te gebruiken, zie hieronder. "
   ]
  },
  {
   "cell_type": "code",
   "execution_count": 7,
   "id": "27d3c650",
   "metadata": {},
   "outputs": [
    {
     "name": "stdout",
     "output_type": "stream",
     "text": [
      "Help on RandomForestClassifier in module sklearn.ensemble._forest object:\n",
      "\n",
      "class RandomForestClassifier(ForestClassifier)\n",
      " |  RandomForestClassifier(n_estimators=100, *, criterion='gini', max_depth=None, min_samples_split=2, min_samples_leaf=1, min_weight_fraction_leaf=0.0, max_features='sqrt', max_leaf_nodes=None, min_impurity_decrease=0.0, bootstrap=True, oob_score=False, n_jobs=None, random_state=None, verbose=0, warm_start=False, class_weight=None, ccp_alpha=0.0, max_samples=None)\n",
      " |  \n",
      " |  A random forest classifier.\n",
      " |  \n",
      " |  A random forest is a meta estimator that fits a number of decision tree\n",
      " |  classifiers on various sub-samples of the dataset and uses averaging to\n",
      " |  improve the predictive accuracy and control over-fitting.\n",
      " |  The sub-sample size is controlled with the `max_samples` parameter if\n",
      " |  `bootstrap=True` (default), otherwise the whole dataset is used to build\n",
      " |  each tree.\n",
      " |  \n",
      " |  Read more in the :ref:`User Guide <forest>`.\n",
      " |  \n",
      " |  Parameters\n",
      " |  ----------\n",
      " |  n_estimators : int, default=100\n",
      " |      The number of trees in the forest.\n",
      " |  \n",
      " |      .. versionchanged:: 0.22\n",
      " |         The default value of ``n_estimators`` changed from 10 to 100\n",
      " |         in 0.22.\n",
      " |  \n",
      " |  criterion : {\"gini\", \"entropy\", \"log_loss\"}, default=\"gini\"\n",
      " |      The function to measure the quality of a split. Supported criteria are\n",
      " |      \"gini\" for the Gini impurity and \"log_loss\" and \"entropy\" both for the\n",
      " |      Shannon information gain, see :ref:`tree_mathematical_formulation`.\n",
      " |      Note: This parameter is tree-specific.\n",
      " |  \n",
      " |  max_depth : int, default=None\n",
      " |      The maximum depth of the tree. If None, then nodes are expanded until\n",
      " |      all leaves are pure or until all leaves contain less than\n",
      " |      min_samples_split samples.\n",
      " |  \n",
      " |  min_samples_split : int or float, default=2\n",
      " |      The minimum number of samples required to split an internal node:\n",
      " |  \n",
      " |      - If int, then consider `min_samples_split` as the minimum number.\n",
      " |      - If float, then `min_samples_split` is a fraction and\n",
      " |        `ceil(min_samples_split * n_samples)` are the minimum\n",
      " |        number of samples for each split.\n",
      " |  \n",
      " |      .. versionchanged:: 0.18\n",
      " |         Added float values for fractions.\n",
      " |  \n",
      " |  min_samples_leaf : int or float, default=1\n",
      " |      The minimum number of samples required to be at a leaf node.\n",
      " |      A split point at any depth will only be considered if it leaves at\n",
      " |      least ``min_samples_leaf`` training samples in each of the left and\n",
      " |      right branches.  This may have the effect of smoothing the model,\n",
      " |      especially in regression.\n",
      " |  \n",
      " |      - If int, then consider `min_samples_leaf` as the minimum number.\n",
      " |      - If float, then `min_samples_leaf` is a fraction and\n",
      " |        `ceil(min_samples_leaf * n_samples)` are the minimum\n",
      " |        number of samples for each node.\n",
      " |  \n",
      " |      .. versionchanged:: 0.18\n",
      " |         Added float values for fractions.\n",
      " |  \n",
      " |  min_weight_fraction_leaf : float, default=0.0\n",
      " |      The minimum weighted fraction of the sum total of weights (of all\n",
      " |      the input samples) required to be at a leaf node. Samples have\n",
      " |      equal weight when sample_weight is not provided.\n",
      " |  \n",
      " |  max_features : {\"sqrt\", \"log2\", None}, int or float, default=\"sqrt\"\n",
      " |      The number of features to consider when looking for the best split:\n",
      " |  \n",
      " |      - If int, then consider `max_features` features at each split.\n",
      " |      - If float, then `max_features` is a fraction and\n",
      " |        `max(1, int(max_features * n_features_in_))` features are considered at each\n",
      " |        split.\n",
      " |      - If \"auto\", then `max_features=sqrt(n_features)`.\n",
      " |      - If \"sqrt\", then `max_features=sqrt(n_features)`.\n",
      " |      - If \"log2\", then `max_features=log2(n_features)`.\n",
      " |      - If None, then `max_features=n_features`.\n",
      " |  \n",
      " |      .. versionchanged:: 1.1\n",
      " |          The default of `max_features` changed from `\"auto\"` to `\"sqrt\"`.\n",
      " |  \n",
      " |      .. deprecated:: 1.1\n",
      " |          The `\"auto\"` option was deprecated in 1.1 and will be removed\n",
      " |          in 1.3.\n",
      " |  \n",
      " |      Note: the search for a split does not stop until at least one\n",
      " |      valid partition of the node samples is found, even if it requires to\n",
      " |      effectively inspect more than ``max_features`` features.\n",
      " |  \n",
      " |  max_leaf_nodes : int, default=None\n",
      " |      Grow trees with ``max_leaf_nodes`` in best-first fashion.\n",
      " |      Best nodes are defined as relative reduction in impurity.\n",
      " |      If None then unlimited number of leaf nodes.\n",
      " |  \n",
      " |  min_impurity_decrease : float, default=0.0\n",
      " |      A node will be split if this split induces a decrease of the impurity\n",
      " |      greater than or equal to this value.\n",
      " |  \n",
      " |      The weighted impurity decrease equation is the following::\n",
      " |  \n",
      " |          N_t / N * (impurity - N_t_R / N_t * right_impurity\n",
      " |                              - N_t_L / N_t * left_impurity)\n",
      " |  \n",
      " |      where ``N`` is the total number of samples, ``N_t`` is the number of\n",
      " |      samples at the current node, ``N_t_L`` is the number of samples in the\n",
      " |      left child, and ``N_t_R`` is the number of samples in the right child.\n",
      " |  \n",
      " |      ``N``, ``N_t``, ``N_t_R`` and ``N_t_L`` all refer to the weighted sum,\n",
      " |      if ``sample_weight`` is passed.\n",
      " |  \n",
      " |      .. versionadded:: 0.19\n",
      " |  \n",
      " |  bootstrap : bool, default=True\n",
      " |      Whether bootstrap samples are used when building trees. If False, the\n",
      " |      whole dataset is used to build each tree.\n",
      " |  \n",
      " |  oob_score : bool, default=False\n",
      " |      Whether to use out-of-bag samples to estimate the generalization score.\n",
      " |      Only available if bootstrap=True.\n",
      " |  \n",
      " |  n_jobs : int, default=None\n",
      " |      The number of jobs to run in parallel. :meth:`fit`, :meth:`predict`,\n",
      " |      :meth:`decision_path` and :meth:`apply` are all parallelized over the\n",
      " |      trees. ``None`` means 1 unless in a :obj:`joblib.parallel_backend`\n",
      " |      context. ``-1`` means using all processors. See :term:`Glossary\n",
      " |      <n_jobs>` for more details.\n",
      " |  \n",
      " |  random_state : int, RandomState instance or None, default=None\n",
      " |      Controls both the randomness of the bootstrapping of the samples used\n",
      " |      when building trees (if ``bootstrap=True``) and the sampling of the\n",
      " |      features to consider when looking for the best split at each node\n",
      " |      (if ``max_features < n_features``).\n",
      " |      See :term:`Glossary <random_state>` for details.\n",
      " |  \n",
      " |  verbose : int, default=0\n",
      " |      Controls the verbosity when fitting and predicting.\n",
      " |  \n",
      " |  warm_start : bool, default=False\n",
      " |      When set to ``True``, reuse the solution of the previous call to fit\n",
      " |      and add more estimators to the ensemble, otherwise, just fit a whole\n",
      " |      new forest. See :term:`Glossary <warm_start>` and\n",
      " |      :ref:`gradient_boosting_warm_start` for details.\n",
      " |  \n",
      " |  class_weight : {\"balanced\", \"balanced_subsample\"}, dict or list of dicts,             default=None\n",
      " |      Weights associated with classes in the form ``{class_label: weight}``.\n",
      " |      If not given, all classes are supposed to have weight one. For\n",
      " |      multi-output problems, a list of dicts can be provided in the same\n",
      " |      order as the columns of y.\n",
      " |  \n",
      " |      Note that for multioutput (including multilabel) weights should be\n",
      " |      defined for each class of every column in its own dict. For example,\n",
      " |      for four-class multilabel classification weights should be\n",
      " |      [{0: 1, 1: 1}, {0: 1, 1: 5}, {0: 1, 1: 1}, {0: 1, 1: 1}] instead of\n",
      " |      [{1:1}, {2:5}, {3:1}, {4:1}].\n",
      " |  \n",
      " |      The \"balanced\" mode uses the values of y to automatically adjust\n",
      " |      weights inversely proportional to class frequencies in the input data\n",
      " |      as ``n_samples / (n_classes * np.bincount(y))``\n",
      " |  \n",
      " |      The \"balanced_subsample\" mode is the same as \"balanced\" except that\n",
      " |      weights are computed based on the bootstrap sample for every tree\n",
      " |      grown.\n",
      " |  \n",
      " |      For multi-output, the weights of each column of y will be multiplied.\n",
      " |  \n",
      " |      Note that these weights will be multiplied with sample_weight (passed\n",
      " |      through the fit method) if sample_weight is specified.\n",
      " |  \n",
      " |  ccp_alpha : non-negative float, default=0.0\n",
      " |      Complexity parameter used for Minimal Cost-Complexity Pruning. The\n",
      " |      subtree with the largest cost complexity that is smaller than\n",
      " |      ``ccp_alpha`` will be chosen. By default, no pruning is performed. See\n",
      " |      :ref:`minimal_cost_complexity_pruning` for details.\n",
      " |  \n",
      " |      .. versionadded:: 0.22\n",
      " |  \n",
      " |  max_samples : int or float, default=None\n",
      " |      If bootstrap is True, the number of samples to draw from X\n",
      " |      to train each base estimator.\n",
      " |  \n",
      " |      - If None (default), then draw `X.shape[0]` samples.\n",
      " |      - If int, then draw `max_samples` samples.\n",
      " |      - If float, then draw `max_samples * X.shape[0]` samples. Thus,\n",
      " |        `max_samples` should be in the interval `(0.0, 1.0]`.\n",
      " |  \n",
      " |      .. versionadded:: 0.22\n",
      " |  \n",
      " |  Attributes\n",
      " |  ----------\n",
      " |  estimator_ : :class:`~sklearn.tree.DecisionTreeClassifier`\n",
      " |      The child estimator template used to create the collection of fitted\n",
      " |      sub-estimators.\n",
      " |  \n",
      " |      .. versionadded:: 1.2\n",
      " |         `base_estimator_` was renamed to `estimator_`.\n",
      " |  \n",
      " |  base_estimator_ : DecisionTreeClassifier\n",
      " |      The child estimator template used to create the collection of fitted\n",
      " |      sub-estimators.\n",
      " |  \n",
      " |      .. deprecated:: 1.2\n",
      " |          `base_estimator_` is deprecated and will be removed in 1.4.\n",
      " |          Use `estimator_` instead.\n",
      " |  \n",
      " |  estimators_ : list of DecisionTreeClassifier\n",
      " |      The collection of fitted sub-estimators.\n",
      " |  \n",
      " |  classes_ : ndarray of shape (n_classes,) or a list of such arrays\n",
      " |      The classes labels (single output problem), or a list of arrays of\n",
      " |      class labels (multi-output problem).\n",
      " |  \n",
      " |  n_classes_ : int or list\n",
      " |      The number of classes (single output problem), or a list containing the\n",
      " |      number of classes for each output (multi-output problem).\n",
      " |  \n",
      " |  n_features_in_ : int\n",
      " |      Number of features seen during :term:`fit`.\n",
      " |  \n",
      " |      .. versionadded:: 0.24\n",
      " |  \n",
      " |  feature_names_in_ : ndarray of shape (`n_features_in_`,)\n",
      " |      Names of features seen during :term:`fit`. Defined only when `X`\n",
      " |      has feature names that are all strings.\n",
      " |  \n",
      " |      .. versionadded:: 1.0\n",
      " |  \n",
      " |  n_outputs_ : int\n",
      " |      The number of outputs when ``fit`` is performed.\n",
      " |  \n",
      " |  feature_importances_ : ndarray of shape (n_features,)\n",
      " |      The impurity-based feature importances.\n",
      " |      The higher, the more important the feature.\n",
      " |      The importance of a feature is computed as the (normalized)\n",
      " |      total reduction of the criterion brought by that feature.  It is also\n",
      " |      known as the Gini importance.\n",
      " |  \n",
      " |      Warning: impurity-based feature importances can be misleading for\n",
      " |      high cardinality features (many unique values). See\n",
      " |      :func:`sklearn.inspection.permutation_importance` as an alternative.\n",
      " |  \n",
      " |  oob_score_ : float\n",
      " |      Score of the training dataset obtained using an out-of-bag estimate.\n",
      " |      This attribute exists only when ``oob_score`` is True.\n",
      " |  \n",
      " |  oob_decision_function_ : ndarray of shape (n_samples, n_classes) or             (n_samples, n_classes, n_outputs)\n",
      " |      Decision function computed with out-of-bag estimate on the training\n",
      " |      set. If n_estimators is small it might be possible that a data point\n",
      " |      was never left out during the bootstrap. In this case,\n",
      " |      `oob_decision_function_` might contain NaN. This attribute exists\n",
      " |      only when ``oob_score`` is True.\n",
      " |  \n",
      " |  See Also\n",
      " |  --------\n",
      " |  sklearn.tree.DecisionTreeClassifier : A decision tree classifier.\n",
      " |  sklearn.ensemble.ExtraTreesClassifier : Ensemble of extremely randomized\n",
      " |      tree classifiers.\n",
      " |  \n",
      " |  Notes\n",
      " |  -----\n",
      " |  The default values for the parameters controlling the size of the trees\n",
      " |  (e.g. ``max_depth``, ``min_samples_leaf``, etc.) lead to fully grown and\n",
      " |  unpruned trees which can potentially be very large on some data sets. To\n",
      " |  reduce memory consumption, the complexity and size of the trees should be\n",
      " |  controlled by setting those parameter values.\n",
      " |  \n",
      " |  The features are always randomly permuted at each split. Therefore,\n",
      " |  the best found split may vary, even with the same training data,\n",
      " |  ``max_features=n_features`` and ``bootstrap=False``, if the improvement\n",
      " |  of the criterion is identical for several splits enumerated during the\n",
      " |  search of the best split. To obtain a deterministic behaviour during\n",
      " |  fitting, ``random_state`` has to be fixed.\n",
      " |  \n",
      " |  References\n",
      " |  ----------\n",
      " |  .. [1] L. Breiman, \"Random Forests\", Machine Learning, 45(1), 5-32, 2001.\n",
      " |  \n",
      " |  Examples\n",
      " |  --------\n",
      " |  >>> from sklearn.ensemble import RandomForestClassifier\n",
      " |  >>> from sklearn.datasets import make_classification\n",
      " |  >>> X, y = make_classification(n_samples=1000, n_features=4,\n",
      " |  ...                            n_informative=2, n_redundant=0,\n",
      " |  ...                            random_state=0, shuffle=False)\n",
      " |  >>> clf = RandomForestClassifier(max_depth=2, random_state=0)\n",
      " |  >>> clf.fit(X, y)\n",
      " |  RandomForestClassifier(...)\n",
      " |  >>> print(clf.predict([[0, 0, 0, 0]]))\n",
      " |  [1]\n",
      " |  \n",
      " |  Method resolution order:\n",
      " |      RandomForestClassifier\n",
      " |      ForestClassifier\n",
      " |      sklearn.base.ClassifierMixin\n",
      " |      BaseForest\n",
      " |      sklearn.base.MultiOutputMixin\n",
      " |      sklearn.ensemble._base.BaseEnsemble\n",
      " |      sklearn.base.MetaEstimatorMixin\n",
      " |      sklearn.base.BaseEstimator\n",
      " |      builtins.object\n",
      " |  \n",
      " |  Methods defined here:\n",
      " |  \n",
      " |  __init__(self, n_estimators=100, *, criterion='gini', max_depth=None, min_samples_split=2, min_samples_leaf=1, min_weight_fraction_leaf=0.0, max_features='sqrt', max_leaf_nodes=None, min_impurity_decrease=0.0, bootstrap=True, oob_score=False, n_jobs=None, random_state=None, verbose=0, warm_start=False, class_weight=None, ccp_alpha=0.0, max_samples=None)\n",
      " |      Initialize self.  See help(type(self)) for accurate signature.\n",
      " |  \n",
      " |  ----------------------------------------------------------------------\n",
      " |  Data and other attributes defined here:\n",
      " |  \n",
      " |  __abstractmethods__ = frozenset()\n",
      " |  \n",
      " |  __annotations__ = {'_parameter_constraints': <class 'dict'>}\n",
      " |  \n",
      " |  ----------------------------------------------------------------------\n",
      " |  Methods inherited from ForestClassifier:\n",
      " |  \n",
      " |  predict(self, X)\n",
      " |      Predict class for X.\n",
      " |      \n",
      " |      The predicted class of an input sample is a vote by the trees in\n",
      " |      the forest, weighted by their probability estimates. That is,\n",
      " |      the predicted class is the one with highest mean probability\n",
      " |      estimate across the trees.\n",
      " |      \n",
      " |      Parameters\n",
      " |      ----------\n",
      " |      X : {array-like, sparse matrix} of shape (n_samples, n_features)\n",
      " |          The input samples. Internally, its dtype will be converted to\n",
      " |          ``dtype=np.float32``. If a sparse matrix is provided, it will be\n",
      " |          converted into a sparse ``csr_matrix``.\n",
      " |      \n",
      " |      Returns\n",
      " |      -------\n",
      " |      y : ndarray of shape (n_samples,) or (n_samples, n_outputs)\n",
      " |          The predicted classes.\n",
      " |  \n",
      " |  predict_log_proba(self, X)\n",
      " |      Predict class log-probabilities for X.\n",
      " |      \n",
      " |      The predicted class log-probabilities of an input sample is computed as\n",
      " |      the log of the mean predicted class probabilities of the trees in the\n",
      " |      forest.\n",
      " |      \n",
      " |      Parameters\n",
      " |      ----------\n",
      " |      X : {array-like, sparse matrix} of shape (n_samples, n_features)\n",
      " |          The input samples. Internally, its dtype will be converted to\n",
      " |          ``dtype=np.float32``. If a sparse matrix is provided, it will be\n",
      " |          converted into a sparse ``csr_matrix``.\n",
      " |      \n",
      " |      Returns\n",
      " |      -------\n",
      " |      p : ndarray of shape (n_samples, n_classes), or a list of such arrays\n",
      " |          The class probabilities of the input samples. The order of the\n",
      " |          classes corresponds to that in the attribute :term:`classes_`.\n",
      " |  \n",
      " |  predict_proba(self, X)\n",
      " |      Predict class probabilities for X.\n",
      " |      \n",
      " |      The predicted class probabilities of an input sample are computed as\n",
      " |      the mean predicted class probabilities of the trees in the forest.\n",
      " |      The class probability of a single tree is the fraction of samples of\n",
      " |      the same class in a leaf.\n",
      " |      \n",
      " |      Parameters\n",
      " |      ----------\n",
      " |      X : {array-like, sparse matrix} of shape (n_samples, n_features)\n",
      " |          The input samples. Internally, its dtype will be converted to\n",
      " |          ``dtype=np.float32``. If a sparse matrix is provided, it will be\n",
      " |          converted into a sparse ``csr_matrix``.\n",
      " |      \n",
      " |      Returns\n",
      " |      -------\n",
      " |      p : ndarray of shape (n_samples, n_classes), or a list of such arrays\n",
      " |          The class probabilities of the input samples. The order of the\n",
      " |          classes corresponds to that in the attribute :term:`classes_`.\n",
      " |  \n",
      " |  ----------------------------------------------------------------------\n",
      " |  Methods inherited from sklearn.base.ClassifierMixin:\n",
      " |  \n",
      " |  score(self, X, y, sample_weight=None)\n",
      " |      Return the mean accuracy on the given test data and labels.\n",
      " |      \n",
      " |      In multi-label classification, this is the subset accuracy\n",
      " |      which is a harsh metric since you require for each sample that\n",
      " |      each label set be correctly predicted.\n",
      " |      \n",
      " |      Parameters\n",
      " |      ----------\n",
      " |      X : array-like of shape (n_samples, n_features)\n",
      " |          Test samples.\n",
      " |      \n",
      " |      y : array-like of shape (n_samples,) or (n_samples, n_outputs)\n",
      " |          True labels for `X`.\n",
      " |      \n",
      " |      sample_weight : array-like of shape (n_samples,), default=None\n",
      " |          Sample weights.\n",
      " |      \n",
      " |      Returns\n",
      " |      -------\n",
      " |      score : float\n",
      " |          Mean accuracy of ``self.predict(X)`` wrt. `y`.\n",
      " |  \n",
      " |  ----------------------------------------------------------------------\n",
      " |  Data descriptors inherited from sklearn.base.ClassifierMixin:\n",
      " |  \n",
      " |  __dict__\n",
      " |      dictionary for instance variables (if defined)\n",
      " |  \n",
      " |  __weakref__\n",
      " |      list of weak references to the object (if defined)\n",
      " |  \n",
      " |  ----------------------------------------------------------------------\n",
      " |  Methods inherited from BaseForest:\n",
      " |  \n",
      " |  apply(self, X)\n",
      " |      Apply trees in the forest to X, return leaf indices.\n",
      " |      \n",
      " |      Parameters\n",
      " |      ----------\n",
      " |      X : {array-like, sparse matrix} of shape (n_samples, n_features)\n",
      " |          The input samples. Internally, its dtype will be converted to\n",
      " |          ``dtype=np.float32``. If a sparse matrix is provided, it will be\n",
      " |          converted into a sparse ``csr_matrix``.\n",
      " |      \n",
      " |      Returns\n",
      " |      -------\n",
      " |      X_leaves : ndarray of shape (n_samples, n_estimators)\n",
      " |          For each datapoint x in X and for each tree in the forest,\n",
      " |          return the index of the leaf x ends up in.\n",
      " |  \n",
      " |  decision_path(self, X)\n",
      " |      Return the decision path in the forest.\n",
      " |      \n",
      " |      .. versionadded:: 0.18\n",
      " |      \n",
      " |      Parameters\n",
      " |      ----------\n",
      " |      X : {array-like, sparse matrix} of shape (n_samples, n_features)\n",
      " |          The input samples. Internally, its dtype will be converted to\n",
      " |          ``dtype=np.float32``. If a sparse matrix is provided, it will be\n",
      " |          converted into a sparse ``csr_matrix``.\n",
      " |      \n",
      " |      Returns\n",
      " |      -------\n",
      " |      indicator : sparse matrix of shape (n_samples, n_nodes)\n",
      " |          Return a node indicator matrix where non zero elements indicates\n",
      " |          that the samples goes through the nodes. The matrix is of CSR\n",
      " |          format.\n",
      " |      \n",
      " |      n_nodes_ptr : ndarray of shape (n_estimators + 1,)\n",
      " |          The columns from indicator[n_nodes_ptr[i]:n_nodes_ptr[i+1]]\n",
      " |          gives the indicator value for the i-th estimator.\n",
      " |  \n",
      " |  fit(self, X, y, sample_weight=None)\n",
      " |      Build a forest of trees from the training set (X, y).\n",
      " |      \n",
      " |      Parameters\n",
      " |      ----------\n",
      " |      X : {array-like, sparse matrix} of shape (n_samples, n_features)\n",
      " |          The training input samples. Internally, its dtype will be converted\n",
      " |          to ``dtype=np.float32``. If a sparse matrix is provided, it will be\n",
      " |          converted into a sparse ``csc_matrix``.\n",
      " |      \n",
      " |      y : array-like of shape (n_samples,) or (n_samples, n_outputs)\n",
      " |          The target values (class labels in classification, real numbers in\n",
      " |          regression).\n",
      " |      \n",
      " |      sample_weight : array-like of shape (n_samples,), default=None\n",
      " |          Sample weights. If None, then samples are equally weighted. Splits\n",
      " |          that would create child nodes with net zero or negative weight are\n",
      " |          ignored while searching for a split in each node. In the case of\n",
      " |          classification, splits are also ignored if they would result in any\n",
      " |          single class carrying a negative weight in either child node.\n",
      " |      \n",
      " |      Returns\n",
      " |      -------\n",
      " |      self : object\n",
      " |          Fitted estimator.\n",
      " |  \n",
      " |  ----------------------------------------------------------------------\n",
      " |  Readonly properties inherited from BaseForest:\n",
      " |  \n",
      " |  feature_importances_\n",
      " |      The impurity-based feature importances.\n",
      " |      \n",
      " |      The higher, the more important the feature.\n",
      " |      The importance of a feature is computed as the (normalized)\n",
      " |      total reduction of the criterion brought by that feature.  It is also\n",
      " |      known as the Gini importance.\n",
      " |      \n",
      " |      Warning: impurity-based feature importances can be misleading for\n",
      " |      high cardinality features (many unique values). See\n",
      " |      :func:`sklearn.inspection.permutation_importance` as an alternative.\n",
      " |      \n",
      " |      Returns\n",
      " |      -------\n",
      " |      feature_importances_ : ndarray of shape (n_features,)\n",
      " |          The values of this array sum to 1, unless all trees are single node\n",
      " |          trees consisting of only the root node, in which case it will be an\n",
      " |          array of zeros.\n",
      " |  \n",
      " |  ----------------------------------------------------------------------\n",
      " |  Methods inherited from sklearn.ensemble._base.BaseEnsemble:\n",
      " |  \n",
      " |  __getitem__(self, index)\n",
      " |      Return the index'th estimator in the ensemble.\n",
      " |  \n",
      " |  __iter__(self)\n",
      " |      Return iterator over estimators in the ensemble.\n",
      " |  \n",
      " |  __len__(self)\n",
      " |      Return the number of estimators in the ensemble.\n",
      " |  \n",
      " |  ----------------------------------------------------------------------\n",
      " |  Readonly properties inherited from sklearn.ensemble._base.BaseEnsemble:\n",
      " |  \n",
      " |  base_estimator_\n",
      " |      Estimator used to grow the ensemble.\n",
      " |  \n",
      " |  estimator_\n",
      " |      Estimator used to grow the ensemble.\n",
      " |  \n",
      " |  ----------------------------------------------------------------------\n",
      " |  Methods inherited from sklearn.base.BaseEstimator:\n",
      " |  \n",
      " |  __getstate__(self)\n",
      " |  \n",
      " |  __repr__(self, N_CHAR_MAX=700)\n",
      " |      Return repr(self).\n",
      " |  \n",
      " |  __setstate__(self, state)\n",
      " |  \n",
      " |  get_params(self, deep=True)\n",
      " |      Get parameters for this estimator.\n",
      " |      \n",
      " |      Parameters\n",
      " |      ----------\n",
      " |      deep : bool, default=True\n",
      " |          If True, will return the parameters for this estimator and\n",
      " |          contained subobjects that are estimators.\n",
      " |      \n",
      " |      Returns\n",
      " |      -------\n",
      " |      params : dict\n",
      " |          Parameter names mapped to their values.\n",
      " |  \n",
      " |  set_params(self, **params)\n",
      " |      Set the parameters of this estimator.\n",
      " |      \n",
      " |      The method works on simple estimators as well as on nested objects\n",
      " |      (such as :class:`~sklearn.pipeline.Pipeline`). The latter have\n",
      " |      parameters of the form ``<component>__<parameter>`` so that it's\n",
      " |      possible to update each component of a nested object.\n",
      " |      \n",
      " |      Parameters\n",
      " |      ----------\n",
      " |      **params : dict\n",
      " |          Estimator parameters.\n",
      " |      \n",
      " |      Returns\n",
      " |      -------\n",
      " |      self : estimator instance\n",
      " |          Estimator instance.\n",
      "\n"
     ]
    }
   ],
   "source": [
    "# We gaan de methode RandomForestClassifier() uit het sklearn package gebruiken, inspecteer hiervoor de documentatie. Dat kan \n",
    "help(RandomForestClassifier())"
   ]
  },
  {
   "cell_type": "markdown",
   "id": "4f1bd7ba",
   "metadata": {},
   "source": [
    "Zie bijvoorbeeld de parameters die we ook zien bij enkele regressiebomen: `criterion`, `max_depth`, en `ccp_alpha`, maar daarnaast dus zoals ook al eerder genoemde `n_estimators`, `bootstrap` en `max_samples` en bijvoorbeeld ook een parameter die het evalueren van de *Out Of Bag score* gedurende het trainen kan activeren: `oob_score`.  Ook lees je dat er een *method*  `fit()` voor deze *object class* gedefinieerd is om het model te *fitten*."
   ]
  },
  {
   "cell_type": "markdown",
   "id": "e92aae34",
   "metadata": {},
   "source": [
    "#### model fitten\n",
    "We gebruiken dus de train data om een model te fitten. Dit is, zoals je ziet, een eenvoudig regeltje code. We geven het model een naam (`rfc`) zodat we het later weer opnieuw kunnen aanroepen / gebruiken."
   ]
  },
  {
   "cell_type": "code",
   "execution_count": 8,
   "id": "28dc8f46",
   "metadata": {},
   "outputs": [
    {
     "data": {
      "text/html": [
       "<style>#sk-container-id-1 {color: black;background-color: white;}#sk-container-id-1 pre{padding: 0;}#sk-container-id-1 div.sk-toggleable {background-color: white;}#sk-container-id-1 label.sk-toggleable__label {cursor: pointer;display: block;width: 100%;margin-bottom: 0;padding: 0.3em;box-sizing: border-box;text-align: center;}#sk-container-id-1 label.sk-toggleable__label-arrow:before {content: \"▸\";float: left;margin-right: 0.25em;color: #696969;}#sk-container-id-1 label.sk-toggleable__label-arrow:hover:before {color: black;}#sk-container-id-1 div.sk-estimator:hover label.sk-toggleable__label-arrow:before {color: black;}#sk-container-id-1 div.sk-toggleable__content {max-height: 0;max-width: 0;overflow: hidden;text-align: left;background-color: #f0f8ff;}#sk-container-id-1 div.sk-toggleable__content pre {margin: 0.2em;color: black;border-radius: 0.25em;background-color: #f0f8ff;}#sk-container-id-1 input.sk-toggleable__control:checked~div.sk-toggleable__content {max-height: 200px;max-width: 100%;overflow: auto;}#sk-container-id-1 input.sk-toggleable__control:checked~label.sk-toggleable__label-arrow:before {content: \"▾\";}#sk-container-id-1 div.sk-estimator input.sk-toggleable__control:checked~label.sk-toggleable__label {background-color: #d4ebff;}#sk-container-id-1 div.sk-label input.sk-toggleable__control:checked~label.sk-toggleable__label {background-color: #d4ebff;}#sk-container-id-1 input.sk-hidden--visually {border: 0;clip: rect(1px 1px 1px 1px);clip: rect(1px, 1px, 1px, 1px);height: 1px;margin: -1px;overflow: hidden;padding: 0;position: absolute;width: 1px;}#sk-container-id-1 div.sk-estimator {font-family: monospace;background-color: #f0f8ff;border: 1px dotted black;border-radius: 0.25em;box-sizing: border-box;margin-bottom: 0.5em;}#sk-container-id-1 div.sk-estimator:hover {background-color: #d4ebff;}#sk-container-id-1 div.sk-parallel-item::after {content: \"\";width: 100%;border-bottom: 1px solid gray;flex-grow: 1;}#sk-container-id-1 div.sk-label:hover label.sk-toggleable__label {background-color: #d4ebff;}#sk-container-id-1 div.sk-serial::before {content: \"\";position: absolute;border-left: 1px solid gray;box-sizing: border-box;top: 0;bottom: 0;left: 50%;z-index: 0;}#sk-container-id-1 div.sk-serial {display: flex;flex-direction: column;align-items: center;background-color: white;padding-right: 0.2em;padding-left: 0.2em;position: relative;}#sk-container-id-1 div.sk-item {position: relative;z-index: 1;}#sk-container-id-1 div.sk-parallel {display: flex;align-items: stretch;justify-content: center;background-color: white;position: relative;}#sk-container-id-1 div.sk-item::before, #sk-container-id-1 div.sk-parallel-item::before {content: \"\";position: absolute;border-left: 1px solid gray;box-sizing: border-box;top: 0;bottom: 0;left: 50%;z-index: -1;}#sk-container-id-1 div.sk-parallel-item {display: flex;flex-direction: column;z-index: 1;position: relative;background-color: white;}#sk-container-id-1 div.sk-parallel-item:first-child::after {align-self: flex-end;width: 50%;}#sk-container-id-1 div.sk-parallel-item:last-child::after {align-self: flex-start;width: 50%;}#sk-container-id-1 div.sk-parallel-item:only-child::after {width: 0;}#sk-container-id-1 div.sk-dashed-wrapped {border: 1px dashed gray;margin: 0 0.4em 0.5em 0.4em;box-sizing: border-box;padding-bottom: 0.4em;background-color: white;}#sk-container-id-1 div.sk-label label {font-family: monospace;font-weight: bold;display: inline-block;line-height: 1.2em;}#sk-container-id-1 div.sk-label-container {text-align: center;}#sk-container-id-1 div.sk-container {/* jupyter's `normalize.less` sets `[hidden] { display: none; }` but bootstrap.min.css set `[hidden] { display: none !important; }` so we also need the `!important` here to be able to override the default hidden behavior on the sphinx rendered scikit-learn.org. See: https://github.com/scikit-learn/scikit-learn/issues/21755 */display: inline-block !important;position: relative;}#sk-container-id-1 div.sk-text-repr-fallback {display: none;}</style><div id=\"sk-container-id-1\" class=\"sk-top-container\"><div class=\"sk-text-repr-fallback\"><pre>RandomForestClassifier(oob_score=True, random_state=9)</pre><b>In a Jupyter environment, please rerun this cell to show the HTML representation or trust the notebook. <br />On GitHub, the HTML representation is unable to render, please try loading this page with nbviewer.org.</b></div><div class=\"sk-container\" hidden><div class=\"sk-item\"><div class=\"sk-estimator sk-toggleable\"><input class=\"sk-toggleable__control sk-hidden--visually\" id=\"sk-estimator-id-1\" type=\"checkbox\" checked><label for=\"sk-estimator-id-1\" class=\"sk-toggleable__label sk-toggleable__label-arrow\">RandomForestClassifier</label><div class=\"sk-toggleable__content\"><pre>RandomForestClassifier(oob_score=True, random_state=9)</pre></div></div></div></div></div>"
      ],
      "text/plain": [
       "RandomForestClassifier(oob_score=True, random_state=9)"
      ]
     },
     "execution_count": 8,
     "metadata": {},
     "output_type": "execute_result"
    }
   ],
   "source": [
    "# Met model fitten default van package\n",
    "rfc = RandomForestClassifier(random_state = 9, oob_score = True) #oob_score = True met oog op sectie 7\n",
    "#Fit the regressor object to the dataset.\n",
    "rfc.fit(train_X,train_y)"
   ]
  },
  {
   "cell_type": "markdown",
   "id": "9161ee58",
   "metadata": {},
   "source": [
    "### 5. Model weergeven\n",
    "Het weergeven van (kenmerken van) een random forest classifier is visueel gezien lastig. Zoals een paar cellen hieronder te zien is (of te lezen is in de boven getoonde help-functie van `RandomForestClassifier()`) hebben we te maken met de defaultwaarde `'n_estimators': 100` regressiebomen. We kunnen wel de *feature importance* weergeven, lees hierover meer op [deze pagina](https://scikit-learn.org/stable/modules/generated/sklearn.ensemble.RandomForestClassifier.html#sklearn.ensemble.RandomForestClassifier.feature_importances_). We tonen meteen een handige visualisatie:"
   ]
  },
  {
   "cell_type": "code",
   "execution_count": 9,
   "id": "caa2b57d",
   "metadata": {},
   "outputs": [
    {
     "data": {
      "image/png": "[encoded data removed]",
      "text/plain": [
       "<Figure size 640x480 with 1 Axes>"
      ]
     },
     "metadata": {},
     "output_type": "display_data"
    }
   ],
   "source": [
    "imp_data = pd.DataFrame({'Name':rfc.feature_names_in_, 'Importance':rfc.feature_importances_})\n",
    "imp_data = imp_data.sort_values(by='Importance', ascending=True)\n",
    "plt.barh(range(rfc.n_features_in_), imp_data['Importance'])\n",
    "plt.yticks(range(rfc.n_features_in_),imp_data['Name'].to_numpy())\n",
    "plt.xlabel('Importance')\n",
    "plt.title('Feature Importance\\nRF Regressor')\n",
    "plt.show()"
   ]
  },
  {
   "cell_type": "markdown",
   "id": "66b968d6",
   "metadata": {},
   "source": [
    "Het lijkt erop dat `table` en `depth` de meest belangrijke variabelen zijn om een split op te maken voor deze classificatietaak. "
   ]
  },
  {
   "cell_type": "markdown",
   "id": "e30e8de8",
   "metadata": {},
   "source": [
    "De gebruikte parameters in de aanroep (nu dus cf. de defaults, m.u.v. `random_state` en `oob_score`):"
   ]
  },
  {
   "cell_type": "code",
   "execution_count": 10,
   "id": "4200c6a6",
   "metadata": {},
   "outputs": [
    {
     "data": {
      "text/plain": [
       "{'bootstrap': True,\n",
       " 'ccp_alpha': 0.0,\n",
       " 'class_weight': None,\n",
       " 'criterion': 'gini',\n",
       " 'max_depth': None,\n",
       " 'max_features': 'sqrt',\n",
       " 'max_leaf_nodes': None,\n",
       " 'max_samples': None,\n",
       " 'min_impurity_decrease': 0.0,\n",
       " 'min_samples_leaf': 1,\n",
       " 'min_samples_split': 2,\n",
       " 'min_weight_fraction_leaf': 0.0,\n",
       " 'n_estimators': 100,\n",
       " 'n_jobs': None,\n",
       " 'oob_score': True,\n",
       " 'random_state': 9,\n",
       " 'verbose': 0,\n",
       " 'warm_start': False}"
      ]
     },
     "execution_count": 10,
     "metadata": {},
     "output_type": "execute_result"
    }
   ],
   "source": [
    "rfc.get_params()"
   ]
  },
  {
   "cell_type": "markdown",
   "id": "6161ceb2",
   "metadata": {},
   "source": [
    "Het type model in het ensemble (bos):"
   ]
  },
  {
   "cell_type": "code",
   "execution_count": 11,
   "id": "7e506b91",
   "metadata": {
    "scrolled": true
   },
   "outputs": [
    {
     "data": {
      "text/html": [
       "<style>#sk-container-id-2 {color: black;background-color: white;}#sk-container-id-2 pre{padding: 0;}#sk-container-id-2 div.sk-toggleable {background-color: white;}#sk-container-id-2 label.sk-toggleable__label {cursor: pointer;display: block;width: 100%;margin-bottom: 0;padding: 0.3em;box-sizing: border-box;text-align: center;}#sk-container-id-2 label.sk-toggleable__label-arrow:before {content: \"▸\";float: left;margin-right: 0.25em;color: #696969;}#sk-container-id-2 label.sk-toggleable__label-arrow:hover:before {color: black;}#sk-container-id-2 div.sk-estimator:hover label.sk-toggleable__label-arrow:before {color: black;}#sk-container-id-2 div.sk-toggleable__content {max-height: 0;max-width: 0;overflow: hidden;text-align: left;background-color: #f0f8ff;}#sk-container-id-2 div.sk-toggleable__content pre {margin: 0.2em;color: black;border-radius: 0.25em;background-color: #f0f8ff;}#sk-container-id-2 input.sk-toggleable__control:checked~div.sk-toggleable__content {max-height: 200px;max-width: 100%;overflow: auto;}#sk-container-id-2 input.sk-toggleable__control:checked~label.sk-toggleable__label-arrow:before {content: \"▾\";}#sk-container-id-2 div.sk-estimator input.sk-toggleable__control:checked~label.sk-toggleable__label {background-color: #d4ebff;}#sk-container-id-2 div.sk-label input.sk-toggleable__control:checked~label.sk-toggleable__label {background-color: #d4ebff;}#sk-container-id-2 input.sk-hidden--visually {border: 0;clip: rect(1px 1px 1px 1px);clip: rect(1px, 1px, 1px, 1px);height: 1px;margin: -1px;overflow: hidden;padding: 0;position: absolute;width: 1px;}#sk-container-id-2 div.sk-estimator {font-family: monospace;background-color: #f0f8ff;border: 1px dotted black;border-radius: 0.25em;box-sizing: border-box;margin-bottom: 0.5em;}#sk-container-id-2 div.sk-estimator:hover {background-color: #d4ebff;}#sk-container-id-2 div.sk-parallel-item::after {content: \"\";width: 100%;border-bottom: 1px solid gray;flex-grow: 1;}#sk-container-id-2 div.sk-label:hover label.sk-toggleable__label {background-color: #d4ebff;}#sk-container-id-2 div.sk-serial::before {content: \"\";position: absolute;border-left: 1px solid gray;box-sizing: border-box;top: 0;bottom: 0;left: 50%;z-index: 0;}#sk-container-id-2 div.sk-serial {display: flex;flex-direction: column;align-items: center;background-color: white;padding-right: 0.2em;padding-left: 0.2em;position: relative;}#sk-container-id-2 div.sk-item {position: relative;z-index: 1;}#sk-container-id-2 div.sk-parallel {display: flex;align-items: stretch;justify-content: center;background-color: white;position: relative;}#sk-container-id-2 div.sk-item::before, #sk-container-id-2 div.sk-parallel-item::before {content: \"\";position: absolute;border-left: 1px solid gray;box-sizing: border-box;top: 0;bottom: 0;left: 50%;z-index: -1;}#sk-container-id-2 div.sk-parallel-item {display: flex;flex-direction: column;z-index: 1;position: relative;background-color: white;}#sk-container-id-2 div.sk-parallel-item:first-child::after {align-self: flex-end;width: 50%;}#sk-container-id-2 div.sk-parallel-item:last-child::after {align-self: flex-start;width: 50%;}#sk-container-id-2 div.sk-parallel-item:only-child::after {width: 0;}#sk-container-id-2 div.sk-dashed-wrapped {border: 1px dashed gray;margin: 0 0.4em 0.5em 0.4em;box-sizing: border-box;padding-bottom: 0.4em;background-color: white;}#sk-container-id-2 div.sk-label label {font-family: monospace;font-weight: bold;display: inline-block;line-height: 1.2em;}#sk-container-id-2 div.sk-label-container {text-align: center;}#sk-container-id-2 div.sk-container {/* jupyter's `normalize.less` sets `[hidden] { display: none; }` but bootstrap.min.css set `[hidden] { display: none !important; }` so we also need the `!important` here to be able to override the default hidden behavior on the sphinx rendered scikit-learn.org. See: https://github.com/scikit-learn/scikit-learn/issues/21755 */display: inline-block !important;position: relative;}#sk-container-id-2 div.sk-text-repr-fallback {display: none;}</style><div id=\"sk-container-id-2\" class=\"sk-top-container\"><div class=\"sk-text-repr-fallback\"><pre>DecisionTreeClassifier()</pre><b>In a Jupyter environment, please rerun this cell to show the HTML representation or trust the notebook. <br />On GitHub, the HTML representation is unable to render, please try loading this page with nbviewer.org.</b></div><div class=\"sk-container\" hidden><div class=\"sk-item\"><div class=\"sk-estimator sk-toggleable\"><input class=\"sk-toggleable__control sk-hidden--visually\" id=\"sk-estimator-id-2\" type=\"checkbox\" checked><label for=\"sk-estimator-id-2\" class=\"sk-toggleable__label sk-toggleable__label-arrow\">DecisionTreeClassifier</label><div class=\"sk-toggleable__content\"><pre>DecisionTreeClassifier()</pre></div></div></div></div></div>"
      ],
      "text/plain": [
       "DecisionTreeClassifier()"
      ]
     },
     "execution_count": 11,
     "metadata": {},
     "output_type": "execute_result"
    }
   ],
   "source": [
    "rfc.estimator"
   ]
  },
  {
   "cell_type": "markdown",
   "id": "e05820fa",
   "metadata": {},
   "source": [
    "### 6. OOB-score\n",
    "Zoals in sectie 3 - Voorbeschouwing - al werd vermeld is er per boom in de Random Forest een set trainings samples die *niet* werd betrokken bij de training van die specifieke boom. Deze set (per boom dus anders) zijn de *Out of Bag* samples. We kunnen bij de training van het model nagaan wat de (gemiddelde) grootte van de modelscore (bijvoorbeeld de *accuracy*) is naarmate het bos aanwast met meer bomen. Bedenk dat *alle bomen samen* als modeloutput, via middeling, de voorspelde waarde teruggeven. Dit is de *OOB-score* (of *OOB-error*) van het random forest. \n",
    "\n",
    "#### Aantal variabelen per split en aantal bomen in het bos\n",
    "Een belangrijke parameterkeuze voor een random forest is de eerder genoemde `max_features` (het aantal variabelen dat wordt betrokken in de vaststelling van *de beste split* in iedere beslisboom). Default is de waarde `max_features = 1.0` (*alle variabelen*), maar als er bijvoorbeeld een grote correlatie tussen één of meerdere variabelen is, werkt het beter om *minder* variabelen in de split te betrekken. We zouden graag een idee van het effect hiervan willen hebben bij onze data.  \n",
    "\n",
    "Een andere variabele die de moeite van het zorgvuldig kiezen waard is, is het aantal bomen in het bos: `n_estimators`(default `n_estimators = 100`). Ga na dat het voor de uiteindelijke modelprestaties niet uitmaakt als je er *te veel* opneemt, alleen wel voor de trainingstijd natuurlijk en de omvang van het model qua opslag op je computer. We zouden een idee willen hebben van wanneer het bos groot genoeg is. \n",
    "\n",
    "Een veel gehanteerde wijze om bovenstaande parameters te kiezen, waarbij rekening wordt gehouden met onderlinge samenhang, is het plotten van de *OOB-score* gedurende het trainingsproces naarmate het aantal bomen toeneemt (tot maximaal de gekozen waarde van `n_estimators`). Dit kan het beste grafisch worden weergegeven, hiervan wordt hieronder een codevoorbeeld gegeven dat is gebaseerd op het voorbeeld [hier](https://scikit-learn.org/stable/auto_examples/ensemble/plot_ensemble_oob.html). \n",
    "\n",
    "Een parameter die hierbij nog interessant is om in overweging te nemen is `max_samples`, dat is het *aantal samples* dat met teruglegging (random) wordt gesampled uit de gehele traindataset bij het vaststellen van de *Bag* die per boom wordt gekozen. (default `max_samples = None`, dat betekent: evenveel als het complete aantal samples in de traindataset). Des te *groter* die is, des te *kleiner* is de set *Out of Bag* samples. We gaan hier verderop wat dieper op in, die subsectie kan ook overgeslagen worden.\n",
    "\n",
    "Lees zélf in de documentatie (output helpfunctie hierboven) wat de betekenis is van de `score` die hier wordt bepaald!"
   ]
  },
  {
   "cell_type": "code",
   "execution_count": 12,
   "id": "70730a2c",
   "metadata": {
    "scrolled": true
   },
   "outputs": [
    {
     "name": "stderr",
     "output_type": "stream",
     "text": [
      "C:\\Users\\kesjs\\Anaconda3\\envs\\datalab\\lib\\site-packages\\sklearn\\ensemble\\_forest.py:584: UserWarning: Some inputs do not have OOB scores. This probably means too few trees were used to compute any reliable OOB estimates.\n",
      "  warn(\n",
      "C:\\Users\\kesjs\\Anaconda3\\envs\\datalab\\lib\\site-packages\\sklearn\\ensemble\\_forest.py:584: UserWarning: Some inputs do not have OOB scores. This probably means too few trees were used to compute any reliable OOB estimates.\n",
      "  warn(\n",
      "C:\\Users\\kesjs\\Anaconda3\\envs\\datalab\\lib\\site-packages\\sklearn\\ensemble\\_forest.py:584: UserWarning: Some inputs do not have OOB scores. This probably means too few trees were used to compute any reliable OOB estimates.\n",
      "  warn(\n",
      "C:\\Users\\kesjs\\Anaconda3\\envs\\datalab\\lib\\site-packages\\sklearn\\ensemble\\_forest.py:584: UserWarning: Some inputs do not have OOB scores. This probably means too few trees were used to compute any reliable OOB estimates.\n",
      "  warn(\n",
      "C:\\Users\\kesjs\\Anaconda3\\envs\\datalab\\lib\\site-packages\\sklearn\\ensemble\\_forest.py:584: UserWarning: Some inputs do not have OOB scores. This probably means too few trees were used to compute any reliable OOB estimates.\n",
      "  warn(\n",
      "C:\\Users\\kesjs\\Anaconda3\\envs\\datalab\\lib\\site-packages\\sklearn\\ensemble\\_forest.py:584: UserWarning: Some inputs do not have OOB scores. This probably means too few trees were used to compute any reliable OOB estimates.\n",
      "  warn(\n"
     ]
    },
    {
     "data": {
      "image/png": "[encoded data removed]",
      "text/plain": [
       "<Figure size 640x480 with 1 Axes>"
      ]
     },
     "metadata": {},
     "output_type": "display_data"
    }
   ],
   "source": [
    "RANDOM_STATE = 9 #Uiteraard aanpasbaar\n",
    "\n",
    "ensemble_clfs = [\n",
    "    (\n",
    "        \"RandomForestClassifier, max_features='sqrt'\",\n",
    "        RandomForestClassifier(\n",
    "            warm_start=True,  #Om niet bij toevoeging van een extra boom in de for-loop onder het complete bos opnieuw te schatten!\n",
    "            oob_score=True,   #We willen deze beschikbaar hebben\n",
    "            max_features=\"sqrt\", #Dit is onze variatie per model\n",
    "            random_state=RANDOM_STATE,\n",
    "        ),\n",
    "    ),\n",
    "    (\n",
    "        \"RandomForestClassifier, max_features='log2'\",\n",
    "        RandomForestClassifier(\n",
    "            warm_start=True,\n",
    "            oob_score=True,\n",
    "            max_features=\"log2\",\n",
    "            random_state=RANDOM_STATE,\n",
    "        ),\n",
    "    ),\n",
    "    (\n",
    "        \"RandomForestClassifier, max_features=None\",\n",
    "        RandomForestClassifier(\n",
    "            warm_start=True,\n",
    "            oob_score=True,\n",
    "            max_features=None,\n",
    "            random_state=RANDOM_STATE,\n",
    "        ),\n",
    "    ),\n",
    "]\n",
    "\n",
    "# Map a classifier name to a list of (<n_estimators>, <error rate>) pairs.\n",
    "from collections import OrderedDict\n",
    "error_rate = OrderedDict((label, []) for label, _ in ensemble_clfs)\n",
    "\n",
    "# Range of `n_estimators` values to explore.\n",
    "min_estimators = 15\n",
    "max_estimators = 200\n",
    "\n",
    "for label, clf in ensemble_clfs:\n",
    "    for i in range(min_estimators, max_estimators + 1, 5):\n",
    "        clf.set_params(n_estimators=i)\n",
    "        clf.fit(train_X,train_y)\n",
    "\n",
    "        # Record the OOB error for each `n_estimators=i` setting.\n",
    "        oob_error = 1 - clf.oob_score_\n",
    "        error_rate[label].append((i, oob_error))\n",
    "\n",
    "# Generate the \"OOB error rate\" vs. \"n_estimators\" plot.\n",
    "for label, clf_err in error_rate.items():\n",
    "    xs, ys = zip(*clf_err)\n",
    "    plt.plot(xs, ys, label=label)\n",
    "\n",
    "plt.xlim(min_estimators, max_estimators)\n",
    "plt.xlabel(\"n_estimators\")\n",
    "plt.ylabel(\"OOB error rate\")\n",
    "plt.legend(loc=\"upper right\")\n",
    "plt.show()"
   ]
  },
  {
   "cell_type": "code",
   "execution_count": 13,
   "id": "e30d8941",
   "metadata": {},
   "outputs": [
    {
     "name": "stdout",
     "output_type": "stream",
     "text": [
      "max_features='sqrt': \n",
      " [(15, 0.2782350760103819), (20, 0.2645161290322581), (25, 0.25697688790013595), (30, 0.253639846743295), (35, 0.24852305030280564), (40, 0.24649610678531697), (45, 0.24518600914596467), (50, 0.24362872327277219), (55, 0.2418489679891237)] \n",
      "\n",
      "max_features='log2': \n",
      " [(15, 0.2782350760103819), (20, 0.2645161290322581), (25, 0.25697688790013595), (30, 0.253639846743295), (35, 0.24852305030280564), (40, 0.24649610678531697), (45, 0.24518600914596467), (50, 0.24362872327277219), (55, 0.2418489679891237)]\n"
     ]
    }
   ],
   "source": [
    "# De max_features='sqrt' en max_features='log2' geven exact dezelfde score\n",
    "print(\"max_features='sqrt': \\n\", error_rate[\"RandomForestClassifier, max_features='sqrt'\"][:9], \"\\n\")\n",
    "print(\"max_features='log2': \\n\", error_rate[\"RandomForestClassifier, max_features='log2'\"][:9])"
   ]
  },
  {
   "cell_type": "markdown",
   "id": "3e3fb624",
   "metadata": {},
   "source": [
    "Wat we hier bijvoorbeeld zien is   \n",
    "1. dat de error rate na ongeveer 200 bomen stabiliseert (méér heeft dus geen zin)\n",
    "2. de error bij alle variabelen per split (`max_features=None`, oftewel de default waarde `1.0`) het laagst is\n",
    "3. de error voor `max_features='sqrt'` en `max_features='log2'` identiek zijn (de plots vallen over elkaar heen)  \n",
    "\n",
    "Aan de lezer om na te gaan dat het hanteren van een kleinere waarde voor `max_samples` niet tot een ander inzicht zal leiden, hieraan gekoppeld is ook de (facultatieve) sectie hieronder. "
   ]
  },
  {
   "cell_type": "markdown",
   "id": "d3789197",
   "metadata": {},
   "source": [
    "#### Omvang Out of Bag set\n",
    "De vraag zou kunnen opkomen of de *Out of Bag* set wel groot genoeg is om als betrouwbare validatie dataset te dienen? Hier volgt een korte analyse hierop.\n",
    "\n",
    "Algemeen: we starten met een complete traindataset van $N$ samples trekken daar *met teruglegging* $N$ samples uit voor onze *Bag* die we voor een specifieke boom uit het bos gaan gebruiken. Eenzelfde sample kan dus **meerdere malen** in de *Bag* voorkomen(!). Wat is de kans dat een specifiek sample $S_i$ *helemaal niet wordt gekozen* in de *Bag*? Ga na dat die gelijk is aan:  \n",
    "\n",
    "$$p = \\mathbb{P}(S_i \\notin Bag) = (1-\\frac{1}{N})^N \\qquad for \\quad i = 1\\ldots N $$  \n",
    "\n",
    "Definiëer vervolgens de kansvariabele $OOB$ als het *aantal samples* dat *niet* in de *Bag* gekozen is:  \n",
    "\n",
    "$$OOB := \\Sigma_{i = 1}^{N} 1_{\\{S_i \\notin Bag\\}})$$ \n",
    "\n",
    "met $1_{\\{S_i \\notin Bag\\}} := 1$ als sample $S_i$ *niet* in de *Bag* terecht is gekomen en $1_{\\{S_i \\notin Bag\\}} := 0$ als sample $S_i$ minstens eenmaal in de *Bag* terecht is gekomen.\n",
    "\n",
    "Dan is $OOB \\sim Bin(N,p)$ en $\\mathbb{E}[OOB] = N \\cdot p$\n",
    "\n",
    "Met de gegevens uit ons voorbeeld:"
   ]
  },
  {
   "cell_type": "code",
   "execution_count": 14,
   "id": "a525e2cf",
   "metadata": {},
   "outputs": [
    {
     "name": "stdout",
     "output_type": "stream",
     "text": [
      "Het aantal samples in de complete traindataset: N =  40455\n",
      "de kans dat een sample niet in de Bag ter grootte N komt, p= 0.368\n",
      "het verwacht aantal OOB-samples E[OOB] =  14882\n"
     ]
    }
   ],
   "source": [
    "import numpy as np\n",
    "print(\"Het aantal samples in de complete traindataset: N = \", train_X.shape[0])\n",
    "print(\"de kans dat een sample niet in de Bag ter grootte N komt, p=\", np.around((1-1/train_X.shape[0])**train_X.shape[0],3))\n",
    "print(\"het verwacht aantal OOB-samples E[OOB] = \", int(np.floor(train_X.shape[0]*(1-1/train_X.shape[0])**train_X.shape[0])))"
   ]
  },
  {
   "cell_type": "markdown",
   "id": "f3ab0fbe",
   "metadata": {},
   "source": [
    "In het algemeen geldt:\n",
    "$$p(N) := (1-\\frac{1}{N})^N \\quad en \\quad  \\lim_{N\\to\\infty} p(N) = \\lim_{N\\to\\infty} (1-\\frac{1}{N})^N = \\frac{1}{e} \\approx 0.368$$\n",
    "\n",
    "Met andere woorden, bij grote traindatasets zal per getrainde boom rond de 37% van de samples in de OOB-score betrokken zijn. indien we steeds `N` samples gebruiken in de trainfase per boom (`max_samples = None`). "
   ]
  },
  {
   "cell_type": "markdown",
   "id": "01140364",
   "metadata": {},
   "source": [
    "### 7. Tuning hyperparameters - MEE VERDER!"
   ]
  },
  {
   "cell_type": "markdown",
   "id": "69b23ebf",
   "metadata": {},
   "source": [
    "<div class=\"alert alert-block alert-danger\">\n",
    "    <h2>Hoe divesre scores op OOB data vaststellen??</h2>\n",
    "    Kan het uberhaupt?\n",
    "</div>"
   ]
  },
  {
   "cell_type": "markdown",
   "id": "56ce0d7f",
   "metadata": {},
   "source": [
    "#### OOB vs Train resultaten\n",
    "Hieronder vergelijken we de prestaties op OOB-sets met die op de traindataset. Lees zélf in de documentatie (output helpfunctie hierboven) wat de betekenis is van de `score` die hier wordt bepaald!"
   ]
  },
  {
   "cell_type": "code",
   "execution_count": 15,
   "id": "29375bf2",
   "metadata": {},
   "outputs": [
    {
     "name": "stdout",
     "output_type": "stream",
     "text": [
      "OOB-score initiele model =  0.7631689531578297\n",
      "Model-score initiele model op traindata =  1.0\n"
     ]
    }
   ],
   "source": [
    "predicted_y_tr = rfc.predict(train_X)\n",
    "print(\"OOB-score initiele model = \", rfc.oob_score_)\n",
    "print(\"Model-score initiele model op traindata = \", rfc.score(train_X, predicted_y_tr))"
   ]
  },
  {
   "cell_type": "markdown",
   "id": "51bf49c9",
   "metadata": {},
   "source": [
    "We kunnen ook een andere metric kiezen, start met de oob-voorspellingen (`rfc.oob_decision_function_`) van het (kans)model:"
   ]
  },
  {
   "cell_type": "code",
   "execution_count": 54,
   "id": "6d380d1e",
   "metadata": {},
   "outputs": [
    {
     "name": "stdout",
     "output_type": "stream",
     "text": [
      "           Fair      Good     Ideal   Premium  Very Good\n",
      "0      0.000000  0.000000  0.055556  0.861111   0.083333\n",
      "1      0.000000  0.000000  0.655172  0.137931   0.206897\n",
      "2      0.000000  0.000000  0.073171  0.804878   0.121951\n",
      "3      0.024390  0.195122  0.048780  0.365854   0.365854\n",
      "4      0.000000  0.027778  0.666667  0.138889   0.166667\n",
      "...         ...       ...       ...       ...        ...\n",
      "40450  0.026316  0.631579  0.026316  0.078947   0.236842\n",
      "40451  0.000000  0.000000  0.135135  0.567568   0.297297\n",
      "40452  0.000000  0.000000  1.000000  0.000000   0.000000\n",
      "40453  0.000000  0.000000  0.000000  0.976744   0.023256\n",
      "40454  0.000000  0.000000  0.023810  0.714286   0.261905\n",
      "\n",
      "[40455 rows x 5 columns]\n"
     ]
    }
   ],
   "source": [
    "print(pd.DataFrame(rfc.oob_decision_function_, columns = rfc.classes_))"
   ]
  },
  {
   "cell_type": "code",
   "execution_count": 119,
   "id": "42743e81",
   "metadata": {},
   "outputs": [
    {
     "name": "stdout",
     "output_type": "stream",
     "text": [
      "[3 2 3 ... 2 3 3]\n"
     ]
    }
   ],
   "source": [
    "# De classificatie wordt dan als volgt naar de klassen 0, 1, 2, 3 en 4 \n",
    "# die corresponderen met de resp. 5 klassen 'Fair' 'Good' 'Ideal' 'Premium' 'Very Good' van variabele `cut`:\n",
    "pred_oob = np.argmax(rfc.oob_decision_function_,axis=1)\n",
    "print(pred_oob)"
   ]
  },
  {
   "cell_type": "code",
   "execution_count": 120,
   "id": "cdcdea0a",
   "metadata": {},
   "outputs": [
    {
     "name": "stdout",
     "output_type": "stream",
     "text": [
      "['Premium' 'Ideal' 'Premium' ... 'Ideal' 'Premium' 'Premium']\n"
     ]
    }
   ],
   "source": [
    "# Als we dit willen terugvertalen naar de originele klasselabels dan kan dat als volgt:\n",
    "from sklearn import preprocessing\n",
    "le = preprocessing.LabelEncoder()\n",
    "le.fit(rfc.classes_) #de encoder kent nu de link tussen klassenummer en klassenaam\n",
    "\n",
    "# Van klassenummer naar klassenaam:\n",
    "pred_oob = le.inverse_transform(pred_oob)\n",
    "print(pred_oob)"
   ]
  },
  {
   "cell_type": "markdown",
   "id": "c160d5de",
   "metadata": {},
   "source": [
    "Nu kun je diverse scores berekenen, zoals de accuracy (die ook als default werd bepaald in de reguliere `score()` methode bij dit model:"
   ]
  },
  {
   "cell_type": "code",
   "execution_count": 121,
   "id": "34807e10",
   "metadata": {},
   "outputs": [
    {
     "name": "stdout",
     "output_type": "stream",
     "text": [
      "De accuracy op de trainset =  0.9998764058830799\n",
      "De accuracy op de OOB-sets =  0.7631689531578297\n"
     ]
    }
   ],
   "source": [
    "from sklearn import metrics\n",
    "\n",
    "#Accuracy train\n",
    "print(\"De accuracy op de trainset = \", metrics.accuracy_score(train_y, predicted_y_tr))\n",
    "#Accuracy OOB\n",
    "print(\"De accuracy op de OOB-sets = \", metrics.accuracy_score(train_y, pred_oob))\n",
    "#rfr.oob_prediction_"
   ]
  },
  {
   "cell_type": "markdown",
   "id": "7c5ce0be",
   "metadata": {},
   "source": [
    "Maar ook een (multi-class variant van) de Confusion Matrix kan:"
   ]
  },
  {
   "cell_type": "code",
   "execution_count": 127,
   "id": "45d23741",
   "metadata": {},
   "outputs": [
    {
     "name": "stdout",
     "output_type": "stream",
     "text": [
      "De Confusion Matrix op de trainset : \n",
      " [[ 1177     0     0     0     0]\n",
      " [    0  3685     0     0     0]\n",
      " [    0     0 16170     0     0]\n",
      " [    0     0     1 10331     0]\n",
      " [    0     0     0     4  9087]]\n",
      "De Confusion Matrix op de OOB-sets : \n",
      " [[  948   149    13    34    33]\n",
      " [   92  2468    71   229   825]\n",
      " [    9    24 14835   681   621]\n",
      " [    0    50  1138  8301   843]\n",
      " [    5   586  2035  2143  4322]]\n"
     ]
    }
   ],
   "source": [
    "#Confusion Matrix train\n",
    "print(\"De Confusion Matrix op de trainset : \\n\", metrics.confusion_matrix(train_y, predicted_y_tr))\n",
    "#Confusion Matrix OOB\n",
    "print(\"De Confusion Matrix op de OOB-sets : \\n\", metrics.confusion_matrix(train_y, pred_oob))\n",
    "#rfr.oob_prediction_"
   ]
  },
  {
   "cell_type": "markdown",
   "id": "e4c9974f",
   "metadata": {},
   "source": [
    "Het model is zo lang doorgegaan met het maken van vertakkingen tot de scoremaat niet meer beter werd op de traindataset...er is hierdoor wel duidelijk sprake van overfitting: op de OOB-set (functioneert als validatieset) presteert het model aanmerkelijk minder goed. \n",
    "\n",
    "#### hyperparameters\n",
    "Om dit te verbeteren zullen we moeten zoeken naar een betere samenstelling van de hyperparameters in de training van het model. We hebben ons random forest uit het voorbeeld in sectie 4 hierboven zónder enige restrictie gefit. Zoals te zien in de documentatie (via `help(RandomForestRegressor())`) zijn er flink wat hyperparameters om de te kiezen. Het is mogelijk dit via een *grid search* te doen, lees hierover meer in *Tech report 6 K-fold crossvalidatie en Grid Search* uit deze serie. Een **nadeel** hiervan is dat het aantal modellen dat moeten worden vergeleken vanwege het hoge aantal parametercombinaties heel groot kan worden en de doorlooptijd van een gridsearch (met ook nog de gebruikelijke werkwijze via een k-fold Cross Validatie) **heel lang** kan duren. Houd hier rekening mee.\n",
    "\n",
    "Via de OOB-score hebben we met betrekking tot `max_features` en `n_estimators` zoals in sectie 6 werd besproken wel een indruk m.b.t. de ligging van de beste parameterwaarden gekregen. \n",
    "\n",
    "Ten slotte kan worden opgemerkt dat veel van de *default parameterwaarden* door de bouwers van het package al zodanig gekozen zijn dat ze initieel al behoorlijk goede resultaten zullen geven in de meest gangbare gevallen."
   ]
  },
  {
   "cell_type": "markdown",
   "id": "b155df55",
   "metadata": {},
   "source": [
    "### 7. Trainen model met optimale parameterwaarden\n",
    "Op het moment dat je een geoptimaliseerde parameterset hebt gevonden train je het model met *deze parameters* nogmaals op de hele traindataset (*from scratch*). "
   ]
  },
  {
   "cell_type": "code",
   "execution_count": null,
   "id": "dcc8d49f",
   "metadata": {},
   "outputs": [],
   "source": [
    "#Definitie\n",
    "rfc_opt = RandomForestClassifier(...) # op ... de samenstelling van de optimale parameterwaardenset\n",
    "#fitten\n",
    "rfc_opt.fit(train_X,train_y)\n"
   ]
  },
  {
   "cell_type": "markdown",
   "id": "9cb070c2",
   "metadata": {},
   "source": [
    "We maken voorspelling op de train data en evalueren deze:"
   ]
  },
  {
   "cell_type": "code",
   "execution_count": null,
   "id": "f4f715ee",
   "metadata": {},
   "outputs": [],
   "source": [
    "predicted_y_tr = rfr_opt.predict(train_X)\n",
    "from sklearn import metrics\n",
    "\n",
    "#Accuracy op train\n",
    "print(\"De accuracy op de trainset = \", metrics.accuracy_score(train_y, predicted_y_tr))"
   ]
  },
  {
   "cell_type": "markdown",
   "id": "2d029999",
   "metadata": {},
   "source": [
    "### 7. Voorspellingen en perfomance op testset\n",
    "Ten slotte genereren we de voorspellingen van y op de testset. Tevens produceren we een modelscore. Voor meer toelichting daarover verwijzen we naar *Tech report 3: performance metrics regressie en classificatie*."
   ]
  },
  {
   "cell_type": "code",
   "execution_count": null,
   "id": "713226d3",
   "metadata": {},
   "outputs": [],
   "source": [
    "predicted_y = rfc_opt.predict(test_X)\n",
    "\n",
    "#Accuracy op train\n",
    "print(\"De accuracy op de testset = \", metrics.accuracy_score(test_y, predicted_y))"
   ]
  }
 ],
 "metadata": {
  "kernelspec": {
   "display_name": "Python 3 (ipykernel)",
   "language": "python",
   "name": "python3"
  },
  "language_info": {
   "codemirror_mode": {
    "name": "ipython",
    "version": 3
   },
   "file_extension": ".py",
   "mimetype": "text/x-python",
   "name": "python",
   "nbconvert_exporter": "python",
   "pygments_lexer": "ipython3",
   "version": "3.10.9"
  }
 },
 "nbformat": 4,
 "nbformat_minor": 5
}
