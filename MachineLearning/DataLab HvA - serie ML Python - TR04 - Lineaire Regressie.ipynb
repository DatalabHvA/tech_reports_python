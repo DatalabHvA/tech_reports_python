{
 "cells": [
  {
   "cell_type": "markdown",
   "id": "2bc53274",
   "metadata": {},
   "source": [
    "<div class=\"alert alert-block alert-success\">\n",
    "    <h1>DataLab HvA - serie Machine Learning Python - Tech report 4</h1>\n",
    "</div>"
   ]
  },
  {
   "cell_type": "markdown",
   "id": "7c92d689",
   "metadata": {},
   "source": [
    "<div class=\"alert alert-block alert-warning\">\n",
    "    <h2>Lineaire Regressie</h2>\n",
    "</div>"
   ]
  },
  {
   "cell_type": "markdown",
   "id": "37623910",
   "metadata": {},
   "source": [
    "### 0. Doel van deze les\n",
    "Vanwege de serie lessen waarbinnen deze les valt is het hierin de insteek is om het gemaakte model te gaan vergelijken met andere andere Machine Learning modellen en daarbij een kwaliteitscriterium te hanteren waarmee *alle* modellen onderling vergelijkbaar zijn. Dit is de reden dat we werken met een test- en een trainset van onze data.\n",
    "**Je leert** \n",
    "- hoe je in Python met behulp van het package `sklearn` een Lineair Regressiemodel kunt maken\n",
    "- hoe je de geevalueerde modelcoëfficiënten van dit model kunt bekijken\n",
    "- hoe je dit model kunt gebruiken om voorspellingen te genereren op nieuwe data\n",
    "\n",
    "**Je leert niet:**\n",
    "- algemene theoretisch wiskundige achtergronden over Lineaire Regressie, hiervoor verwijzen we naar een les statistiek in je eigen opleiding of één van de vele online tutorials hierover.\n",
    "- bij meervoudige regressie: strategiën met betrekking tot het selecteren van de in het model te gebruiken variabelen (*feature selection*). \n",
    "- hoe je met het package `seaborn` eerste visuele verkenningen van de (variatie in de) data kan uitvoeren, zie hiervoor *Tech report 1: Introductie Machine Learning* uit deze serie.\n",
    "- hoe je data importeert en inlaadt in de python sessie, zie hiervoor echter wel [deze instructie](https://www.youtube.com/watch?v=1oBVx7pyuXo&list=PLwkTCAI_gJjW10xaAJpdqeQx7EQgFolfG&index=10) \n",
    "\n",
    "**Machine Learning framework**\n",
    "- Om een consistente leerlijn in de serie Machine Learning aan te houden kiezen we telkens voor een opzet waarin een inititeel model bepaald wordt o.b.v. een *deel* van de beschikbare data: de *train data*. Om het model te kunnen vergelijken met ándere modeltypen (waarbij andere algoritmen worden gebruikt) stellen we de voorspellende prestaties vast a.h.v. de nog niet gebruikte data: de *test data*. "
   ]
  },
  {
   "cell_type": "markdown",
   "id": "a7ffe4c0",
   "metadata": {},
   "source": [
    "### 1. Laden van de benodigde packages\n",
    "Packages die je zelf nog niet hebt geinstalleerd dien je vooraf in Python te installeren. "
   ]
  },
  {
   "cell_type": "code",
   "execution_count": null,
   "id": "429d3b4a",
   "metadata": {},
   "outputs": [],
   "source": [
    "# Voor de dataset\n",
    "import seaborn as sns\n",
    "\n",
    "# Voor het bewerken en inspecteren van de data\n",
    "import pandas as pd\n",
    "\n",
    "# Voor het afsplitsen van een train- en test dataset\n",
    "from sklearn.model_selection import train_test_split\n",
    "\n",
    "# Voor het modelleren\n",
    "from sklearn.linear_model import LinearRegression"
   ]
  },
  {
   "cell_type": "markdown",
   "id": "c7dd14a4",
   "metadata": {},
   "source": [
    "### 2. Laden en prepareren van de data"
   ]
  },
  {
   "cell_type": "markdown",
   "id": "c88e407b",
   "metadata": {},
   "source": [
    "We gebruiken als voorbeeld een dataset `'tips'`: \"*One waiter recorded information about each tip he received over a period of a few months working in one restaurant. He collected several variables*\". In totaal beschikken we over 244 waarnemingen. Lees eventueel meer over deze set [hier](https://rdrr.io/cran/reshape2/man/tips.html).   \n",
    "\n",
    "#### Laden en weergave data"
   ]
  },
  {
   "cell_type": "code",
   "execution_count": null,
   "id": "f87e46c6",
   "metadata": {},
   "outputs": [],
   "source": [
    "# Laden van een standaard dataset uit package seaborn \n",
    "data = sns.load_dataset('tips')\n",
    "print(data.head())\n",
    "print(data.shape)\n",
    "print(data.dtypes)"
   ]
  },
  {
   "cell_type": "markdown",
   "id": "dc98451a",
   "metadata": {},
   "source": [
    "#### Dummy encoding categoriale variabelen\n",
    "We zien dat we te maken hebben met een aantal categoriale variabelen, het regressiemodel kan hier niet mee overweg (zie ook de korte toelichting op het modeltype hieronder). We maken hiervoor *dummie variabelen* aan. Om ervoor te zorgen dat deze onderling niet volledig gecorreleerd zijn zal er één dummy minder worden aangemaakt dan er mogelijke waarden zijn (`drop_first=True`) :"
   ]
  },
  {
   "cell_type": "code",
   "execution_count": null,
   "id": "d157fcdb",
   "metadata": {
    "scrolled": true
   },
   "outputs": [],
   "source": [
    "data = pd.get_dummies(data=data, drop_first=True)\n",
    "print(data.head())\n",
    "print(data.shape)\n",
    "print(data.dtypes)"
   ]
  },
  {
   "cell_type": "markdown",
   "id": "ee356ed6",
   "metadata": {},
   "source": [
    "Voor de taak van aanmaken van Dummies of One-Hot-Encodig kan ook gebruik worden gemaakt van de scikit learn functies  `OneHotEncoder, LabelEncoder`. Echter ontstaan daarna objecte van het type `'numpy.ndarray'` (matrices) waarin bijvoorbeeld géén namen van de variabelen meer te vinden zijn. We geven hier de voorkeur aan de functie `get_dummies()` uit de `pandas` library waarin een panda's data frame wordt aangemaakt.\n",
    "\n",
    "In het tech Report *TR04a - Lineaire Regressie-OneHotEncoder* is te zien hoe je met One-Hot encoding kan werken!"
   ]
  },
  {
   "cell_type": "markdown",
   "id": "c514582d",
   "metadata": {},
   "source": [
    "#### Split variabelen X en y\n",
    "In dit voorbeeld willen we de waarde voor `tip` gaan voorspellen, zie ook *sectie 3: Voorbeschouwing* verderop."
   ]
  },
  {
   "cell_type": "code",
   "execution_count": null,
   "id": "74870365",
   "metadata": {},
   "outputs": [],
   "source": [
    "#independent variables / explanatory variables\n",
    "X = data.drop('tip', axis=1)\n",
    "\n",
    "#dependent variable / response / target variable.\n",
    "y = data['tip']"
   ]
  },
  {
   "cell_type": "markdown",
   "id": "7b232cab",
   "metadata": {},
   "source": [
    "#### Afsplitsen test data en train data\n",
    "Voor meer details over deze stap, zie *Tech report 2: Datapreparatie* uit deze serie."
   ]
  },
  {
   "cell_type": "code",
   "execution_count": null,
   "id": "7552e3f7",
   "metadata": {},
   "outputs": [],
   "source": [
    "# Split in training en test data \n",
    "# random_state kiezen zorgt voor reproduceerbaarheid van dit resultaat - gebruik dat ! Een andere waarde is uiteraard ook prima\n",
    "# we kiezen voor een verhouden train - test van 70% - 30%. Andere keuzen kunnen ook!\n",
    "train_X, test_X, train_y, test_y = train_test_split(X,y,test_size=0.30,random_state=999)\n",
    "print(train_X.shape)\n",
    "print(test_X.shape)\n",
    "print(train_y.shape)\n",
    "print(test_y.shape)"
   ]
  },
  {
   "cell_type": "markdown",
   "id": "61780f58",
   "metadata": {},
   "source": [
    "### 3. Voorbeschouwing\n",
    "Zomaar modelleren doe je niet, eerst moeten we vaststellen wat we willen bereiken of welke vraag we zouden willen beantwoorden. Voor deze les zal dat worden:\n",
    "- Taak: stel een lineair regressie model op om de hoogte van de fooi te voorspellen op basis van de overige variabelen \n",
    "\n",
    "Vanuit de taak zullen we dus stellen:\n",
    "- De *onafhankelijke* variabelen ($x_i$) zijn de variabelen `total_bill`, `size`, `sex_Female`, `smoker_No`, `day_Fri`, `day_Sat`, `day_Sun`, `time_Dinner`, \n",
    "- De *afhankelijke* variabele ($y$) is de variabele `tip`\n",
    "\n",
    "We zijn, met bovengenoemde definitie van $x_i$ en $y$ dus op zoek naar het model:\n",
    "$$ y = \\alpha + \\beta_1 x_1 + \\beta_2 x_2 + ... + \\beta_k x_k +\\epsilon$$\n",
    "\n",
    "Met in ons geval $k = 8$\n",
    "\n",
    "Dat wil zeggen: we willen de *modelparameters* $\\alpha$ en $\\beta_i$ vaststellen. De term $\\epsilon$ drukt de *fout* uit die elke voorspelling onvermijdelijk zal hebben. De algoritmen in `sklearn` die ons dit model gaan geven zorgen ervoor dat deze *fout* (eigelijk: het kwadraat ervan) voor de voorspellingen op de gebruikte traindata gemiddeld genomen zo klein mogelijk zal zijn. "
   ]
  },
  {
   "cell_type": "markdown",
   "id": "66d5070f",
   "metadata": {},
   "source": [
    "### 4. Model schatten\n",
    "#### lees documentatie bij package\n",
    "Voordat we een model gaan schatten is het van belang dat je de documentatie van het algoritme dat we uit het package gaan gebruiken lezen. In dit geval is dat dus voor `LinearRegression()`, die lees je bijvoorbeeld online [hier](https://scikit-learn.org/stable/modules/generated/sklearn.linear_model.LinearRegression.html). Alternatief is om de `help()` functie te gebruiken, zie hieronder. "
   ]
  },
  {
   "cell_type": "code",
   "execution_count": null,
   "id": "27d3c650",
   "metadata": {},
   "outputs": [],
   "source": [
    "# We gaan de methode LinearRegression() uit het sklearn package gebruiken, inspecteer hiervoor de documentatie. Dat kan \n",
    "help(LinearRegression())"
   ]
  },
  {
   "cell_type": "markdown",
   "id": "4f1bd7ba",
   "metadata": {},
   "source": [
    "Zie bijvoorbeeld de parameter: `fit_intercept=True` (default waarde), als je die `=False` kiest zul je een $\\alpha = 0$ afdwingen in het model. Ook lees je dat er een *method*  `fit()` voor deze *object class* gedefinieerd is om het model te *fitten*."
   ]
  },
  {
   "cell_type": "markdown",
   "id": "e92aae34",
   "metadata": {},
   "source": [
    "#### model fitten\n",
    "We gebruiken dus de train data om een model te fitten. Dit is, zoals je ziet, een eenvoudig regeltje code. We geven het model een naam (`model_linreg`) zodat we het later weer opnieuw kunnen aanroepen / gebruiken."
   ]
  },
  {
   "cell_type": "code",
   "execution_count": null,
   "id": "28dc8f46",
   "metadata": {},
   "outputs": [],
   "source": [
    "# Met model fitten default van package\n",
    "model_linreg = LinearRegression().fit(train_X, train_y)"
   ]
  },
  {
   "cell_type": "markdown",
   "id": "9161ee58",
   "metadata": {},
   "source": [
    "### 5. Model coëfficiënten en metrics van model zelf\n",
    "We stellen vast welke modelcoëfficiënten $\\alpha$ en $\\beta_i$ het model voor ons heeft geschat. "
   ]
  },
  {
   "cell_type": "code",
   "execution_count": null,
   "id": "2c0e1ac8",
   "metadata": {},
   "outputs": [],
   "source": [
    "# Model mét constante\n",
    "# coefficiënt alpha\n",
    "print(\"alpha =\", model_linreg.intercept_)\n",
    "# coefficient beta\n",
    "print(\"[beta_1, beta_2, ..., beta_8] =\", model_linreg.coef_)"
   ]
  },
  {
   "cell_type": "markdown",
   "id": "2d029999",
   "metadata": {},
   "source": [
    "### 6. Voorspellingen en perfomance op testset\n",
    "Hieronder genereren we voorspellingen van y op de testset. Tevens produceren we een modelscore in termen van prestatiematen (performance measures, metrics) op de testset. Voor meer toelichting daarover verwijzen we naar *Tech report 3: performance metrics regressie en classificatie*"
   ]
  },
  {
   "cell_type": "code",
   "execution_count": null,
   "id": "713226d3",
   "metadata": {},
   "outputs": [],
   "source": [
    "predicted_y = model_linreg.predict(test_X)"
   ]
  },
  {
   "cell_type": "code",
   "execution_count": null,
   "id": "c1d9e777",
   "metadata": {},
   "outputs": [],
   "source": [
    "from sklearn import metrics\n",
    "#MAE\n",
    "print(\"DE MAE op de testset = \", metrics.mean_absolute_error(test_y, predicted_y))\n",
    "\n",
    "#MSE\n",
    "print(\"DE MSE op de testset = \", metrics.mean_squared_error(test_y, predicted_y))\n",
    "\n",
    "#RMSE\n",
    "print(\"DE RMSE op de testset = \", metrics.mean_squared_error(test_y, predicted_y, squared=False))\n",
    "\n",
    "#MAPE\n",
    "print(\"DE MAPE op de testset = \", metrics.mean_absolute_percentage_error(test_y, predicted_y))\n"
   ]
  },
  {
   "cell_type": "code",
   "execution_count": null,
   "id": "b759609c",
   "metadata": {},
   "outputs": [],
   "source": []
  }
 ],
 "metadata": {
  "kernelspec": {
   "display_name": "Python 3 (ipykernel)",
   "language": "python",
   "name": "python3"
  },
  "language_info": {
   "codemirror_mode": {
    "name": "ipython",
    "version": 3
   },
   "file_extension": ".py",
   "mimetype": "text/x-python",
   "name": "python",
   "nbconvert_exporter": "python",
   "pygments_lexer": "ipython3",
   "version": "3.10.0"
  }
 },
 "nbformat": 4,
 "nbformat_minor": 5
}
