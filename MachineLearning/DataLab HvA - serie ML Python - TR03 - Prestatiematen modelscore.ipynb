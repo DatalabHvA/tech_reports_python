{
 "cells": [
  {
   "cell_type": "markdown",
   "id": "2bc53274",
   "metadata": {},
   "source": [
    "<div class=\"alert alert-block alert-success\">\n",
    "    <h1>DataLab HvA - serie Machine Learning Python - Tech report 3</h1>\n",
    "</div>"
   ]
  },
  {
   "cell_type": "markdown",
   "id": "7c92d689",
   "metadata": {},
   "source": [
    "<div class=\"alert alert-block alert-warning\">\n",
    "    <h2>Prestatiematen modelscore</h2>\n",
    "</div>"
   ]
  },
  {
   "cell_type": "markdown",
   "id": "37623910",
   "metadata": {},
   "source": [
    "### 0. Doel van deze les\n",
    "Voordat je gaat modelleren heb je een doel geformuleerd van jouw machine learning project. Vanuit dat doel zal duidelijk worden of je een model gaat leveren voor een regressietaak of voor een classificatietaak. Zie *Tech Report 1 - Introductie Machine Learning*. Om modellen onderling te kunnen vergelijken is het van belang dat er vooraf is nagedacht over een modelscore die de kwaliteit van de modelprestatie uitdrukt: hierop zul je optimaliseren tijdens het proces van trainen van, en later een keuze te maken tussen, de modellen.\n",
    "\n",
    "**Je leert** \n",
    "- Enkele gangbare prestatiematen bestaan voor regressie- en classificatiemodellen  \n",
    "- hoe het *doel* van het project samenhangt met de keuze voor de prestatiemaat  \n",
    "- hoe deze prestatiematen in package `sklearn` vast te stellen zijn "
   ]
  },
  {
   "cell_type": "markdown",
   "id": "a7ffe4c0",
   "metadata": {},
   "source": [
    "### 1. Laden van de benodigde packages\n",
    "Packages die je zelf nog niet hebt geinstalleerd dien je vooraf in Python te installeren. "
   ]
  },
  {
   "cell_type": "code",
   "execution_count": 1,
   "id": "429d3b4a",
   "metadata": {},
   "outputs": [],
   "source": [
    "# Voor de afbeeldingen en de datsasets\n",
    "import seaborn as sns\n",
    "from sklearn import datasets\n",
    "import matplotlib.pyplot as plt\n",
    "\n",
    "# Voor de berekening van de metrics\n",
    "import numpy as np\n",
    "from sklearn import metrics\n",
    "\n",
    "# Voor het bewerken en inspecteren van de data\n",
    "import pandas as pd\n",
    "from sklearn.model_selection import train_test_split\n",
    "\n",
    "#Om voorbeeldmodellen te kunnen maken:\n",
    "from sklearn.linear_model import LinearRegression\n",
    "from sklearn.linear_model import LogisticRegression"
   ]
  },
  {
   "cell_type": "markdown",
   "id": "c7dd14a4",
   "metadata": {},
   "source": [
    "### 2. Voorbeeldmodellen en data\n",
    "We zullen diverse datasets en modellen gebruiken ter illustratie van de concepten. Het doel in dit Tech report is **niet** om welk model dan ook te optimaliseren. Wat we nodig hebben is een voorspelling van de afhankelijke variabele op de trainset om de prestatiematen te illustreren."
   ]
  },
  {
   "cell_type": "code",
   "execution_count": 2,
   "id": "f87e46c6",
   "metadata": {},
   "outputs": [
    {
     "name": "stdout",
     "output_type": "stream",
     "text": [
      "De data X van diabetes set: \n",
      "         age       sex       bmi        bp        s1        s2        s3  \\\n",
      "0  0.038076  0.050680  0.061696  0.021872 -0.044223 -0.034821 -0.043401   \n",
      "1 -0.001882 -0.044642 -0.051474 -0.026328 -0.008449 -0.019163  0.074412   \n",
      "2  0.085299  0.050680  0.044451 -0.005670 -0.045599 -0.034194 -0.032356   \n",
      "3 -0.089063 -0.044642 -0.011595 -0.036656  0.012191  0.024991 -0.036038   \n",
      "4  0.005383 -0.044642 -0.036385  0.021872  0.003935  0.015596  0.008142   \n",
      "\n",
      "         s4        s5        s6  \n",
      "0 -0.002592  0.019907 -0.017646  \n",
      "1 -0.039493 -0.068332 -0.092204  \n",
      "2 -0.002592  0.002861 -0.025930  \n",
      "3  0.034309  0.022688 -0.009362  \n",
      "4 -0.002592 -0.031988 -0.046641  \n",
      "\n",
      " De data y (numeriek) van diabetes set: \n",
      " 0    151.0\n",
      "1     75.0\n",
      "2    141.0\n",
      "3    206.0\n",
      "4    135.0\n",
      "Name: Progression, dtype: float64\n",
      "\n",
      " De data X van b.c. set: \n",
      "    mean radius  mean texture  mean perimeter  mean area  mean smoothness  \\\n",
      "0        17.99         10.38          122.80     1001.0          0.11840   \n",
      "1        20.57         17.77          132.90     1326.0          0.08474   \n",
      "2        19.69         21.25          130.00     1203.0          0.10960   \n",
      "3        11.42         20.38           77.58      386.1          0.14250   \n",
      "4        20.29         14.34          135.10     1297.0          0.10030   \n",
      "\n",
      "   mean compactness  mean concavity  mean concave points  mean symmetry  \\\n",
      "0           0.27760          0.3001              0.14710         0.2419   \n",
      "1           0.07864          0.0869              0.07017         0.1812   \n",
      "2           0.15990          0.1974              0.12790         0.2069   \n",
      "3           0.28390          0.2414              0.10520         0.2597   \n",
      "4           0.13280          0.1980              0.10430         0.1809   \n",
      "\n",
      "   mean fractal dimension  ...  worst radius  worst texture  worst perimeter  \\\n",
      "0                 0.07871  ...         25.38          17.33           184.60   \n",
      "1                 0.05667  ...         24.99          23.41           158.80   \n",
      "2                 0.05999  ...         23.57          25.53           152.50   \n",
      "3                 0.09744  ...         14.91          26.50            98.87   \n",
      "4                 0.05883  ...         22.54          16.67           152.20   \n",
      "\n",
      "   worst area  worst smoothness  worst compactness  worst concavity  \\\n",
      "0      2019.0            0.1622             0.6656           0.7119   \n",
      "1      1956.0            0.1238             0.1866           0.2416   \n",
      "2      1709.0            0.1444             0.4245           0.4504   \n",
      "3       567.7            0.2098             0.8663           0.6869   \n",
      "4      1575.0            0.1374             0.2050           0.4000   \n",
      "\n",
      "   worst concave points  worst symmetry  worst fractal dimension  \n",
      "0                0.2654          0.4601                  0.11890  \n",
      "1                0.1860          0.2750                  0.08902  \n",
      "2                0.2430          0.3613                  0.08758  \n",
      "3                0.2575          0.6638                  0.17300  \n",
      "4                0.1625          0.2364                  0.07678  \n",
      "\n",
      "[5 rows x 30 columns]\n",
      "\n",
      " De data y (binair discreet) van b.c. set: \n",
      " 0    0\n",
      "1    0\n",
      "2    0\n",
      "3    0\n",
      "4    0\n",
      "Name: Class, dtype: int32\n",
      "\n",
      " de unieke waarden zijn:  [0 1]\n",
      "\n",
      " De data X van wine set: \n",
      "    alcohol  malic_acid   ash  alcalinity_of_ash  magnesium  total_phenols  \\\n",
      "0    14.23        1.71  2.43               15.6      127.0           2.80   \n",
      "1    13.20        1.78  2.14               11.2      100.0           2.65   \n",
      "2    13.16        2.36  2.67               18.6      101.0           2.80   \n",
      "3    14.37        1.95  2.50               16.8      113.0           3.85   \n",
      "4    13.24        2.59  2.87               21.0      118.0           2.80   \n",
      "\n",
      "   flavanoids  nonflavanoid_phenols  proanthocyanins  color_intensity   hue  \\\n",
      "0        3.06                  0.28             2.29             5.64  1.04   \n",
      "1        2.76                  0.26             1.28             4.38  1.05   \n",
      "2        3.24                  0.30             2.81             5.68  1.03   \n",
      "3        3.49                  0.24             2.18             7.80  0.86   \n",
      "4        2.69                  0.39             1.82             4.32  1.04   \n",
      "\n",
      "   od280/od315_of_diluted_wines  proline  \n",
      "0                          3.92   1065.0  \n",
      "1                          3.40   1050.0  \n",
      "2                          3.17   1185.0  \n",
      "3                          3.45   1480.0  \n",
      "4                          2.93    735.0  \n",
      "\n",
      " De data y (multiclass discreet) van wine set: \n",
      " 0    0\n",
      "1    0\n",
      "2    0\n",
      "3    0\n",
      "4    0\n",
      "Name: Class, dtype: int32\n",
      "\n",
      " de unieke waarden zijn:  [0 1 2]\n"
     ]
    }
   ],
   "source": [
    "# Laden van een standaard dataset uit package seaborn \n",
    "diabetes = datasets.load_diabetes() #regressie\n",
    "diabetes_DF = pd.DataFrame(diabetes.data,columns=diabetes.feature_names)  # de X-data\n",
    "diabetes_DF['Progression'] = diabetes.target #de y-labels\n",
    "\n",
    "\n",
    "bc = datasets.load_breast_cancer() #datasets.load_breast_cancer(as_frame = True) #binaire classificatie\n",
    "bc_DF = pd.DataFrame(bc.data,columns=bc.feature_names) # de X-data\n",
    "bc_DF['Class'] = bc.target #de y-labels\n",
    "\n",
    "wine = datasets.load_wine() #datasets.load_wine(as_frame=True) #multiclass\n",
    "wine_DF = pd.DataFrame(wine.data,columns=wine.feature_names) # de X-data\n",
    "wine_DF['Class'] = wine.target #de y-labels\n",
    "\n",
    "\n",
    "print(\"De data X van diabetes set: \\n\", diabetes_DF.drop('Progression', axis=1).head())\n",
    "print(\"\\n De data y (numeriek) van diabetes set: \\n\", diabetes_DF['Progression'].head()) \n",
    "#Column 11 is a quantitative measure of disease progression one year after baseline\n",
    "# diabetes_DF.isna().sum() -> allen 0: geen NaN's\n",
    "\n",
    "print(\"\\n De data X van b.c. set: \\n\", bc_DF.drop('Class', axis=1).head())\n",
    "print(\"\\n De data y (binair discreet) van b.c. set: \\n\", bc_DF['Class'].head())\n",
    "print(\"\\n de unieke waarden zijn: \", np.unique(bc_DF['Class']))\n",
    "# bc_DF.isna().sum() -> allen 0: geen NaN's\n",
    "\n",
    "print(\"\\n De data X van wine set: \\n\", wine_DF.drop('Class', axis=1).head())\n",
    "print(\"\\n De data y (multiclass discreet) van wine set: \\n\", wine_DF['Class'].head())\n",
    "print(\"\\n de unieke waarden zijn: \", np.unique(wine_DF['Class']))\n",
    "# wine_DF.isna().sum() -> allen 0: geen NaN's"
   ]
  },
  {
   "cell_type": "markdown",
   "id": "9bb28ac6",
   "metadata": {},
   "source": [
    "### 3. Prestatiematen regressie\n",
    "#### Beschrijving\n",
    "In een regressiemodel wordt een numerieke waarde geschat voor de afhankelijke variabele $y$ , we noteren de geschatte waarde voor waarneming $i$ als $\\hat{y}_i$ en de werkelijke waarde met $y_i$. Dit betekent dat de *fout* in deze schatting gelijk is aan $e_i = \\hat{y}_i - y_i$. Een model *A* presteert beter dan een model *B* als deze fout *gemiddeld genomen* over een testset  van *N* waarnemingen bij model *A* kleiner is dan voor model *B*. Maar er zijn verschillende manieren om naar een dergelijk 'gemiddelde' te kijken. In ieder geval is het **niet handig** om het gemiddelde letterlijk te berekenen: (mean error) $ME = \\frac{1}{N}\\sum_{n=1}^{N} {e_i}$. Ga zelf na waarom dit een **ongeschikte prestatiemaat** is!\n",
    "\n",
    "De prestatiematen die veel gebruikt worden kijken naar:  \n",
    "\n",
    "1. De gemiddelde *absolute* fout: (mean absolute error) $MAE = \\frac{1}{N}\\sum_{n=1}^{N} {|e_i|}$  \n",
    "    - Hier wordt een fout $e_j$ die (absoluut gezien) 2 x zo groot is als een anderen fout $e_k$ ook 2 x zo zwaar 'bestraft'  \n",
    "2. De gemiddelde *gekwadrateerde* fout: (mean squared error) $MSE = \\frac{1}{N}\\sum_{n=1}^{N} {e_i^2}$  \n",
    "    - Hier wordt een fout $e_j$ die (absoluut gezien) 2 x zo groot is als een anderen fout $e_k$ ook 4 x zo zwaar 'bestraft', een model waarop deze maat wordt geminimaliseerd zal de modelcoëfficiënten zo tunen dat met name hele grote fouten worden vermeden  \n",
    "3. De gemiddelde *absolute procentuele* fout: (mean absolute percentage error) $MAPE = \\frac{100\\%}{N}\\sum_{n=1}^{N} |\\frac{e_i}{y_i}|$  \n",
    "    - Als hierop wordt geoptimaliseerd worden de modelcoëfficiënten zo getuned dat de *relatieve* fout (gemiddeld genomeen) zo gering mogelijk is: een fout van $e_j = 2$ op een werkelijke waarde van $Y_j = 100$  wordt minder zwaar 'bestraft' als een fout $e_k = 1$ op een werkelijke waarde van $Y_k = 5$.   \n",
    "    \n",
    "Een variant op de gemiddelde *gekwadrateerde* fout wordt ook de *wortel van* de gemiddelde gekwadrateerde fout (root mean squared error: *RMSE*) vaak gekozen. Voor optimalisatie zal het voor het model geen verschil maken (ga na!), alleen is de gerapporteerde waarde weer in de eenheid voor de oorspronkelijke variabele $y$, dus in het geval dat bijvoorbeeld $y = duur\\: in\\: seconden$ is, zou bijvoorbeeld de $MSE = 4\\: sec^2$ kunnen zijn terwijl dan de $RMSE = 2\\: sec$ is.\n",
    "\n",
    "#### Afsplitsen X (data) en y (targets) en split in train- en testset\n",
    "Hieronder zal een model worden gefit op een deel van de data (de trainset) en daarna word met dit model een voorspelling gedaan op de testset en voor de verschillende prestatiematen een modelscore gegeven. Het gaat in dit Tech Report nog even *niet* om de stappen rondom het modelleren (deze komen terug in de volgende T.R.'s), maar om de vaststelling van de prestatiemaat. \n",
    "\n",
    "Zie eventueel meer over train- en test set afsplitsen in *Tech Report 2 - Datapreparatie*"
   ]
  },
  {
   "cell_type": "code",
   "execution_count": 3,
   "id": "a81f647e",
   "metadata": {},
   "outputs": [
    {
     "name": "stdout",
     "output_type": "stream",
     "text": [
      "(331, 10)\n",
      "(111, 10)\n",
      "(331,)\n",
      "(111,)\n"
     ]
    }
   ],
   "source": [
    "#independent variables / explanatory variables\n",
    "X = diabetes_DF.drop(labels='Progression', axis=1)  \n",
    "\n",
    "#dependent variable / response / target variable.\n",
    "y = diabetes_DF['Progression']\n",
    "\n",
    "#splitting the dataset into 75%-25% train-test split \n",
    "train_X, test_X, train_y, test_y = train_test_split(X,y,test_size=0.25,random_state=999)\n",
    "print(train_X.shape)\n",
    "print(test_X.shape)\n",
    "print(train_y.shape)\n",
    "print(test_y.shape)"
   ]
  },
  {
   "cell_type": "markdown",
   "id": "c1010ee2",
   "metadata": {},
   "source": [
    "#### Definieren van een voorbeeldmodel voor regressie\n",
    "Zie meer over Lineaire Regressie in *Tech Report 4 - Lineaire Regressie in een CRISP-DM opzet*. Een ander modeltype voor regressie had ook kunnen worden gebruikt voor deze illustratie!"
   ]
  },
  {
   "cell_type": "code",
   "execution_count": 4,
   "id": "2262f3da",
   "metadata": {},
   "outputs": [
    {
     "data": {
      "text/html": [
       "<style>#sk-container-id-1 {color: black;background-color: white;}#sk-container-id-1 pre{padding: 0;}#sk-container-id-1 div.sk-toggleable {background-color: white;}#sk-container-id-1 label.sk-toggleable__label {cursor: pointer;display: block;width: 100%;margin-bottom: 0;padding: 0.3em;box-sizing: border-box;text-align: center;}#sk-container-id-1 label.sk-toggleable__label-arrow:before {content: \"▸\";float: left;margin-right: 0.25em;color: #696969;}#sk-container-id-1 label.sk-toggleable__label-arrow:hover:before {color: black;}#sk-container-id-1 div.sk-estimator:hover label.sk-toggleable__label-arrow:before {color: black;}#sk-container-id-1 div.sk-toggleable__content {max-height: 0;max-width: 0;overflow: hidden;text-align: left;background-color: #f0f8ff;}#sk-container-id-1 div.sk-toggleable__content pre {margin: 0.2em;color: black;border-radius: 0.25em;background-color: #f0f8ff;}#sk-container-id-1 input.sk-toggleable__control:checked~div.sk-toggleable__content {max-height: 200px;max-width: 100%;overflow: auto;}#sk-container-id-1 input.sk-toggleable__control:checked~label.sk-toggleable__label-arrow:before {content: \"▾\";}#sk-container-id-1 div.sk-estimator input.sk-toggleable__control:checked~label.sk-toggleable__label {background-color: #d4ebff;}#sk-container-id-1 div.sk-label input.sk-toggleable__control:checked~label.sk-toggleable__label {background-color: #d4ebff;}#sk-container-id-1 input.sk-hidden--visually {border: 0;clip: rect(1px 1px 1px 1px);clip: rect(1px, 1px, 1px, 1px);height: 1px;margin: -1px;overflow: hidden;padding: 0;position: absolute;width: 1px;}#sk-container-id-1 div.sk-estimator {font-family: monospace;background-color: #f0f8ff;border: 1px dotted black;border-radius: 0.25em;box-sizing: border-box;margin-bottom: 0.5em;}#sk-container-id-1 div.sk-estimator:hover {background-color: #d4ebff;}#sk-container-id-1 div.sk-parallel-item::after {content: \"\";width: 100%;border-bottom: 1px solid gray;flex-grow: 1;}#sk-container-id-1 div.sk-label:hover label.sk-toggleable__label {background-color: #d4ebff;}#sk-container-id-1 div.sk-serial::before {content: \"\";position: absolute;border-left: 1px solid gray;box-sizing: border-box;top: 0;bottom: 0;left: 50%;z-index: 0;}#sk-container-id-1 div.sk-serial {display: flex;flex-direction: column;align-items: center;background-color: white;padding-right: 0.2em;padding-left: 0.2em;position: relative;}#sk-container-id-1 div.sk-item {position: relative;z-index: 1;}#sk-container-id-1 div.sk-parallel {display: flex;align-items: stretch;justify-content: center;background-color: white;position: relative;}#sk-container-id-1 div.sk-item::before, #sk-container-id-1 div.sk-parallel-item::before {content: \"\";position: absolute;border-left: 1px solid gray;box-sizing: border-box;top: 0;bottom: 0;left: 50%;z-index: -1;}#sk-container-id-1 div.sk-parallel-item {display: flex;flex-direction: column;z-index: 1;position: relative;background-color: white;}#sk-container-id-1 div.sk-parallel-item:first-child::after {align-self: flex-end;width: 50%;}#sk-container-id-1 div.sk-parallel-item:last-child::after {align-self: flex-start;width: 50%;}#sk-container-id-1 div.sk-parallel-item:only-child::after {width: 0;}#sk-container-id-1 div.sk-dashed-wrapped {border: 1px dashed gray;margin: 0 0.4em 0.5em 0.4em;box-sizing: border-box;padding-bottom: 0.4em;background-color: white;}#sk-container-id-1 div.sk-label label {font-family: monospace;font-weight: bold;display: inline-block;line-height: 1.2em;}#sk-container-id-1 div.sk-label-container {text-align: center;}#sk-container-id-1 div.sk-container {/* jupyter's `normalize.less` sets `[hidden] { display: none; }` but bootstrap.min.css set `[hidden] { display: none !important; }` so we also need the `!important` here to be able to override the default hidden behavior on the sphinx rendered scikit-learn.org. See: https://github.com/scikit-learn/scikit-learn/issues/21755 */display: inline-block !important;position: relative;}#sk-container-id-1 div.sk-text-repr-fallback {display: none;}</style><div id=\"sk-container-id-1\" class=\"sk-top-container\"><div class=\"sk-text-repr-fallback\"><pre>LinearRegression()</pre><b>In a Jupyter environment, please rerun this cell to show the HTML representation or trust the notebook. <br />On GitHub, the HTML representation is unable to render, please try loading this page with nbviewer.org.</b></div><div class=\"sk-container\" hidden><div class=\"sk-item\"><div class=\"sk-estimator sk-toggleable\"><input class=\"sk-toggleable__control sk-hidden--visually\" id=\"sk-estimator-id-1\" type=\"checkbox\" checked><label for=\"sk-estimator-id-1\" class=\"sk-toggleable__label sk-toggleable__label-arrow\">LinearRegression</label><div class=\"sk-toggleable__content\"><pre>LinearRegression()</pre></div></div></div></div></div>"
      ],
      "text/plain": [
       "LinearRegression()"
      ]
     },
     "execution_count": 4,
     "metadata": {},
     "output_type": "execute_result"
    }
   ],
   "source": [
    "lm = LinearRegression() #de naam en het type van ons model\n",
    "lm.fit(train_X, train_y) #het fitten ervan: modelcoëfficiënten worden bepaald o.b.v. de train data"
   ]
  },
  {
   "cell_type": "markdown",
   "id": "84720c02",
   "metadata": {},
   "source": [
    "#### Genereren van een voorspelling op de test data\n",
    "Dit levert de eerder beschreven waarden $\\hat{y}_i$ op."
   ]
  },
  {
   "cell_type": "code",
   "execution_count": 5,
   "id": "f0089cb9",
   "metadata": {},
   "outputs": [],
   "source": [
    "predicted_y = lm.predict(test_X)"
   ]
  },
  {
   "cell_type": "markdown",
   "id": "8a634990",
   "metadata": {},
   "source": [
    "#### De 3 prestatiematen voor het model op testset"
   ]
  },
  {
   "cell_type": "code",
   "execution_count": 6,
   "id": "4504a6bc",
   "metadata": {},
   "outputs": [
    {
     "name": "stdout",
     "output_type": "stream",
     "text": [
      "DE MAE op de testset =  38.08151564598533\n",
      "DE MSE op de testset =  2259.8077507525495\n",
      "DE RMSE op de testset =  47.537435256359274\n",
      "DE MAPE op de testset =  0.40838480248597236\n"
     ]
    }
   ],
   "source": [
    "#MAE\n",
    "print(\"DE MAE op de testset = \", metrics.mean_absolute_error(test_y, predicted_y))\n",
    "\n",
    "#MSE\n",
    "print(\"DE MSE op de testset = \", metrics.mean_squared_error(test_y, predicted_y))\n",
    "\n",
    "#RMSE\n",
    "print("DE RMSE op de testset = ", metrics.root_mean_squared_error(test_y, predicted_y))\n",
    "\n",
    "#MAPE\n",
    "print(\"DE MAPE op de testset = \", metrics.mean_absolute_percentage_error(test_y, predicted_y))\n"
   ]
  },
  {
   "cell_type": "markdown",
   "id": "c1521b35",
   "metadata": {},
   "source": [
    "#### Weergave voorspelde waarde vs werkelijke waarde y\n",
    "Onderstaande plot kan (naast de numerieke prestatiematen) ook een idee geven van de kwaliteit en ligging van de voorspelde waarden van $y$ ten opzichte van de werkelijke "
   ]
  },
  {
   "cell_type": "code",
   "execution_count": 7,
   "id": "c85e914a",
   "metadata": {},
   "outputs": [
    {
     "data": {
      "image/png": "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\n",
      "text/plain": [
       "<Figure size 640x480 with 1 Axes>"
      ]
     },
     "metadata": {},
     "output_type": "display_data"
    }
   ],
   "source": [
    "#create scatterplot\n",
    "ax = sns.scatterplot(x=test_y, y=predicted_y)\n",
    "ax.set(xlabel='werkelijke waarde',\n",
    "       ylabel='voorspelling regressiemodel',\n",
    "       title='Werkelijke vs Voorspelde waarden testset')\n",
    "\n",
    "#add custom line to scatterplot\n",
    "lo = min(min(test_y), min(predicted_y))\n",
    "rb = max(max(test_y), max(predicted_y))\n",
    "plt.plot([lo, rb], [lo, rb])\n",
    "\n",
    "plt.show()"
   ]
  },
  {
   "cell_type": "markdown",
   "id": "34ea4d08",
   "metadata": {},
   "source": [
    "### 4. Prestatiematen binaire classificatie\n",
    "#### Beschrijving\n",
    "Indien we classificeren op *twee* klassen is sprake van een *binaire classificatie*. Als het meerdere klassen betreft een *multiclass classificatie*, die bespreken we verderop.\n",
    "\n",
    "Voor het gemak stellen we dat de *waarden* die de afhankelijke variabele (de te voorspellen klasse) kan aannemen \"$0$ of $1$\" is, maar daar kun je ook \"$man$ of $vrouw$\" lezen, of bijvoorbeeld \"$hond$ of $kat$\". Verder noemen de één van beide klassen de *positieve klasse* - soms volgt dat uit de context logisch (bijvoorbeeld als je wil voorspellen of iemand wel of niet ziek is, of wanneer een dier wel of niet een bepaald medicijn heeft gekregen), maar anders is het arbitrair. Wij zullen de $1$ beschouwen als de *positieve klasse*. De $0$ is dan de *negatieve klasse*.\n",
    "\n",
    "Definiëer net als eerder: de modelschatting voor waarneming $i$ als $\\hat{y}_i$ en de werkelijke waarde met $y_i$. In dit geval geldt dat $y_i \\in \\{0,1\\}$. Voor de waarde $\\hat{y}_i$ geldt ook $\\hat{y}_i \\in \\{0,1\\}$, maar daar is wat meer toelichting bij nodig, zie hieronder.\n",
    "\n",
    "##### threshold\n",
    "Veel modellen voor classificatie genereren in eerste instantie een *kans op de positieve klasse* - het zijn *kansmodellen*. De uitkomst van een voorspelling voor waarneming $i$ noteren we als $p_i := \\hat{P}(y_i = 1)$ (de door het model geschatte kans dat $y_i$ tot de *positieve klasse* behoort. Dus dan geldt: $p_i \\in [0,1]$. Om te kunnen besluiten *welke* klasse hier dan wordt voorspeld wordt gebruik gemaakt van een zogenaamde *threshold* $t \\in (0,1)$, zodanig dat wanneer de door het model geschatte kans *gróter* is dan deze $t$ (dus $p_i > t$) we het label 'positief' aan de voorspelling geven (dus $\\hat{y}_i = 1$) en anders 'negatief' (dus $\\hat{y}_i = 0$). \n",
    "\n",
    "##### Prestatiematen modelscore binaire classificatie\n",
    "Voor een voorspelling $\\hat{y}_i$ kunnen vier mogelijkeden optreden:\n",
    "\n",
    "1. De waarde is *positief* en tevens *juist* (dus $\\hat{y}_i = y_i = 1$): dan is deze voorspelling een *True Positive*  \n",
    "2. De waarde is *positief* maar tevens *onjuist* (dus $\\hat{y}_i = 1$ terwijl $y_i = 0$): dan is deze voorspelling een *False Positive*  \n",
    "3. De waarde is *negatief* en tevens *juist* (dus $\\hat{y}_i = y_i = 0$): dan is deze voorspelling een *True Negative*  \n",
    "41. De waarde is *negatief* en tevens *onjuist* (dus $\\hat{y}_i = 0$ terwijl $y_i = 1$): dan is deze voorspelling een *False Negative*\n",
    "\n",
    "Indien er van een reeks voorspellingen op een testset bekend is welke voorspellingen True Positive, True Negative etc. waren, noteer dan nu het *aantal True Positives* als $TP$, analoog noteren we $FP$, $TN$ en $FN$. \n",
    "\n",
    "Dan zijn veel voorkomende prestatiematen:\n",
    "\n",
    "1. De *accuracy* : $accuracy = \\frac{TP + TN}{TP + FP + TN + FN}$ : de kans dat een voorspelling correct geclassificeerd wordt  \n",
    "2. De *precision* : $precision = \\frac{TP}{TP + FP}$ de kans dat een positieve voorspelling correct geclassificeerd wordt  \n",
    "    - voorspelling = 1, werkelijke waarde is óók 1  \n",
    "3. De *recall* : $recall = \\frac{TP}{TP + FN}$ de kans dat een positieve waarneming ook als zodanig voorspeld wordt  \n",
    "    - werkelijke waarde is 1, de voorspelling is óók 1  \n",
    "    - De recall staat ook bekend als *sensitivity* of als *True Positive Rate (TPR)*. Zie ook onder ROC-curve.\n",
    "4. De *F1-score* : $f1 = \\frac{2 \\times precision \\times recall}{precision + recall}$ een meetkundig gemiddelde van beide eerder genoemde prestatiematen (zoekt een balans tussen deze beiden)   \n",
    "\n",
    "Er bestaan er meer, we gaven de meest gebruikte. Zie eventueel ook [hier](https://scikit-learn.org/stable/modules/model_evaluation.html#classification-metrics).\n",
    "\n",
    "Voordat je gaat modelleren zul je moeten nadenken welke prestatiemaat in jouw experiment het belangrijkste is om te optimaliseren, dit dioen je ook te kunnen onderbouwen. \n",
    "\n",
    "Gebruikelijk is het om naast een prestatiemaat die van belang is ook een **confusion matrix** te publiceren:\n",
    "\n",
    "|         |   |  Voorspeld | Voorspeld |\n",
    "|---------|---|------------|-----------|\n",
    "|         |   |     0      |     1     |\n",
    "|---------|---|------------|-----------|\n",
    "|**werkelijk**| 0 |    TN      |    FP     |\n",
    "|---------|---|------------|-----------|\n",
    "|**werkelijk**| 1 |    FN      |    TP     |\n",
    "|---------|---|------------|-----------|\n",
    "\n",
    "#### Afsplitsen X (data) en y (targets) en split in train- en testset\n",
    "Hieronder zal een model worden gefit op een deel van de data (de trainset)en daarna word met dit model een voorspelling gedaan op de testset en voor de verschillende prestatiematen een modelscore gegeven. Het gaat in dit Tech Report nog even *niet* om de stappen rondom het modelleren (deze komen terug in de volgende T.R.'s), maar om de vaststelling van de prestatiemaat. \n",
    "\n",
    "Zie eventueel meer over train- en test set afsplitsen in *Tech Report 2 - Datapreparatie*"
   ]
  },
  {
   "cell_type": "code",
   "execution_count": 8,
   "id": "9fc53eb8",
   "metadata": {},
   "outputs": [
    {
     "name": "stdout",
     "output_type": "stream",
     "text": [
      "(426, 30)\n",
      "(143, 30)\n",
      "(426,)\n",
      "(143,)\n"
     ]
    }
   ],
   "source": [
    "# onafhankelijke variabelen\n",
    "X = bc_DF.drop(labels='Class', axis=1)  \n",
    "\n",
    "# afhankelijke variabele\n",
    "y = bc_DF['Class']\n",
    "\n",
    "#split de dataset in 75%-25% train-test split \n",
    "train_X, test_X, train_y, test_y = train_test_split(X,y,test_size=0.25,random_state=999)\n",
    "print(train_X.shape)\n",
    "print(test_X.shape)\n",
    "print(train_y.shape)\n",
    "print(test_y.shape)"
   ]
  },
  {
   "cell_type": "markdown",
   "id": "af713b0e",
   "metadata": {},
   "source": [
    "#### Definieren van een voorbeeldmodel voor binaire classificatie\n",
    "Zie meer over Logistische Regressie in *Tech Report 5 - Logistische Regressie in een CRISP-DM opzet*. Een ander modeltype voor binaire classificatie had ook kunnen worden gebruikt voor deze illustratie!"
   ]
  },
  {
   "cell_type": "code",
   "execution_count": 9,
   "id": "d2118c1a",
   "metadata": {},
   "outputs": [
    {
     "name": "stderr",
     "output_type": "stream",
     "text": [
      "C:\\Users\\kesjs\\Anaconda3\\envs\\datalab\\lib\\site-packages\\sklearn\\linear_model\\_logistic.py:458: ConvergenceWarning: lbfgs failed to converge (status=1):\n",
      "STOP: TOTAL NO. of ITERATIONS REACHED LIMIT.\n",
      "\n",
      "Increase the number of iterations (max_iter) or scale the data as shown in:\n",
      "    https://scikit-learn.org/stable/modules/preprocessing.html\n",
      "Please also refer to the documentation for alternative solver options:\n",
      "    https://scikit-learn.org/stable/modules/linear_model.html#logistic-regression\n",
      "  n_iter_i = _check_optimize_result(\n"
     ]
    },
    {
     "data": {
      "text/html": [
       "<style>#sk-container-id-2 {color: black;background-color: white;}#sk-container-id-2 pre{padding: 0;}#sk-container-id-2 div.sk-toggleable {background-color: white;}#sk-container-id-2 label.sk-toggleable__label {cursor: pointer;display: block;width: 100%;margin-bottom: 0;padding: 0.3em;box-sizing: border-box;text-align: center;}#sk-container-id-2 label.sk-toggleable__label-arrow:before {content: \"▸\";float: left;margin-right: 0.25em;color: #696969;}#sk-container-id-2 label.sk-toggleable__label-arrow:hover:before {color: black;}#sk-container-id-2 div.sk-estimator:hover label.sk-toggleable__label-arrow:before {color: black;}#sk-container-id-2 div.sk-toggleable__content {max-height: 0;max-width: 0;overflow: hidden;text-align: left;background-color: #f0f8ff;}#sk-container-id-2 div.sk-toggleable__content pre {margin: 0.2em;color: black;border-radius: 0.25em;background-color: #f0f8ff;}#sk-container-id-2 input.sk-toggleable__control:checked~div.sk-toggleable__content {max-height: 200px;max-width: 100%;overflow: auto;}#sk-container-id-2 input.sk-toggleable__control:checked~label.sk-toggleable__label-arrow:before {content: \"▾\";}#sk-container-id-2 div.sk-estimator input.sk-toggleable__control:checked~label.sk-toggleable__label {background-color: #d4ebff;}#sk-container-id-2 div.sk-label input.sk-toggleable__control:checked~label.sk-toggleable__label {background-color: #d4ebff;}#sk-container-id-2 input.sk-hidden--visually {border: 0;clip: rect(1px 1px 1px 1px);clip: rect(1px, 1px, 1px, 1px);height: 1px;margin: -1px;overflow: hidden;padding: 0;position: absolute;width: 1px;}#sk-container-id-2 div.sk-estimator {font-family: monospace;background-color: #f0f8ff;border: 1px dotted black;border-radius: 0.25em;box-sizing: border-box;margin-bottom: 0.5em;}#sk-container-id-2 div.sk-estimator:hover {background-color: #d4ebff;}#sk-container-id-2 div.sk-parallel-item::after {content: \"\";width: 100%;border-bottom: 1px solid gray;flex-grow: 1;}#sk-container-id-2 div.sk-label:hover label.sk-toggleable__label {background-color: #d4ebff;}#sk-container-id-2 div.sk-serial::before {content: \"\";position: absolute;border-left: 1px solid gray;box-sizing: border-box;top: 0;bottom: 0;left: 50%;z-index: 0;}#sk-container-id-2 div.sk-serial {display: flex;flex-direction: column;align-items: center;background-color: white;padding-right: 0.2em;padding-left: 0.2em;position: relative;}#sk-container-id-2 div.sk-item {position: relative;z-index: 1;}#sk-container-id-2 div.sk-parallel {display: flex;align-items: stretch;justify-content: center;background-color: white;position: relative;}#sk-container-id-2 div.sk-item::before, #sk-container-id-2 div.sk-parallel-item::before {content: \"\";position: absolute;border-left: 1px solid gray;box-sizing: border-box;top: 0;bottom: 0;left: 50%;z-index: -1;}#sk-container-id-2 div.sk-parallel-item {display: flex;flex-direction: column;z-index: 1;position: relative;background-color: white;}#sk-container-id-2 div.sk-parallel-item:first-child::after {align-self: flex-end;width: 50%;}#sk-container-id-2 div.sk-parallel-item:last-child::after {align-self: flex-start;width: 50%;}#sk-container-id-2 div.sk-parallel-item:only-child::after {width: 0;}#sk-container-id-2 div.sk-dashed-wrapped {border: 1px dashed gray;margin: 0 0.4em 0.5em 0.4em;box-sizing: border-box;padding-bottom: 0.4em;background-color: white;}#sk-container-id-2 div.sk-label label {font-family: monospace;font-weight: bold;display: inline-block;line-height: 1.2em;}#sk-container-id-2 div.sk-label-container {text-align: center;}#sk-container-id-2 div.sk-container {/* jupyter's `normalize.less` sets `[hidden] { display: none; }` but bootstrap.min.css set `[hidden] { display: none !important; }` so we also need the `!important` here to be able to override the default hidden behavior on the sphinx rendered scikit-learn.org. See: https://github.com/scikit-learn/scikit-learn/issues/21755 */display: inline-block !important;position: relative;}#sk-container-id-2 div.sk-text-repr-fallback {display: none;}</style><div id=\"sk-container-id-2\" class=\"sk-top-container\"><div class=\"sk-text-repr-fallback\"><pre>LogisticRegression()</pre><b>In a Jupyter environment, please rerun this cell to show the HTML representation or trust the notebook. <br />On GitHub, the HTML representation is unable to render, please try loading this page with nbviewer.org.</b></div><div class=\"sk-container\" hidden><div class=\"sk-item\"><div class=\"sk-estimator sk-toggleable\"><input class=\"sk-toggleable__control sk-hidden--visually\" id=\"sk-estimator-id-2\" type=\"checkbox\" checked><label for=\"sk-estimator-id-2\" class=\"sk-toggleable__label sk-toggleable__label-arrow\">LogisticRegression</label><div class=\"sk-toggleable__content\"><pre>LogisticRegression()</pre></div></div></div></div></div>"
      ],
      "text/plain": [
       "LogisticRegression()"
      ]
     },
     "execution_count": 9,
     "metadata": {},
     "output_type": "execute_result"
    }
   ],
   "source": [
    "lr = LogisticRegression() #de naam en het type van ons model\n",
    "lr.fit(train_X, train_y) #het fitten ervan: modelcoëfficiënten worden bepaald o.b.v. de train data"
   ]
  },
  {
   "cell_type": "markdown",
   "id": "338150cb",
   "metadata": {},
   "source": [
    "#### Genereren van een voorspelling op de train data\n",
    "Uiteindelijk zul je altijd eindigen met de vaststelling van de prestatiematen op een *testset*, maar we zullen merken dat er bij een classificatiemodel (kansmodel) nog een keuze te maken is met betrekkening tot de *threshold* (zie verderop). Dat keuzeproces vindt plaats **op basis van de traindata**, dit is namelijk de enige data waarin je de werkelijke waarden van de labels $y_i$ in het de modellering mag betrekken.\n",
    "\n",
    "Deze voorspelling levert de eerder beschreven waarden $\\hat{y}_i$ op. Let op: standaard zal een *threshold van 0.5* worden gekozen. Hoe je dit kan aanpassen lees je in *Tech Report 5 - Logistische Regressie in een CRISP-DM opzet*."
   ]
  },
  {
   "cell_type": "code",
   "execution_count": 10,
   "id": "cdaab654",
   "metadata": {},
   "outputs": [],
   "source": [
    "# Voorspelde klassen 0 resp. 1\n",
    "predicted_y_train = lr.predict(train_X)"
   ]
  },
  {
   "cell_type": "markdown",
   "id": "f48ae234",
   "metadata": {},
   "source": [
    "#### De prestatiematen voor het model op trainset"
   ]
  },
  {
   "cell_type": "code",
   "execution_count": 11,
   "id": "b7bd280c",
   "metadata": {},
   "outputs": [
    {
     "name": "stdout",
     "output_type": "stream",
     "text": [
      "De accuracy op de trainset =  0.9553990610328639\n",
      "De precision op de trainset =  0.9607142857142857\n",
      "De recall op de trainset =  0.9711191335740073\n",
      "De f1-score op de trainset =  0.9658886894075404\n"
     ]
    }
   ],
   "source": [
    "# accuracy\n",
    "print(\"De accuracy op de trainset = \", metrics.accuracy_score(train_y, predicted_y_train))\n",
    "\n",
    "# precision\n",
    "print(\"De precision op de trainset = \", metrics.precision_score(train_y, predicted_y_train))\n",
    "\n",
    "# recall\n",
    "print(\"De recall op de trainset = \", metrics.recall_score(train_y, predicted_y_train))\n",
    "\n",
    "# f1-score\n",
    "print(\"De f1-score op de trainset = \", metrics.f1_score(train_y, predicted_y_train))"
   ]
  },
  {
   "cell_type": "markdown",
   "id": "b894045f",
   "metadata": {},
   "source": [
    "#### Confusionmatrix trainset"
   ]
  },
  {
   "cell_type": "code",
   "execution_count": 12,
   "id": "00fe941c",
   "metadata": {},
   "outputs": [
    {
     "data": {
      "text/plain": [
       "array([[138,  11],\n",
       "       [  8, 269]], dtype=int64)"
      ]
     },
     "execution_count": 12,
     "metadata": {},
     "output_type": "execute_result"
    }
   ],
   "source": [
    "from sklearn.metrics import confusion_matrix\n",
    "confusion_matrix(train_y, predicted_y_train)"
   ]
  },
  {
   "cell_type": "markdown",
   "id": "a80c203a",
   "metadata": {},
   "source": [
    "We lezen hierin af dat van de 149 (werkelijk) negatieve waarnemingen in de trainlabels er 138 correct (TN) negatief geclassificeerd zijn, en 11 onterecht als positief (FP). Van de 277 (werkelijk) positieve waarnemingen in de trainlabels zijn er 269 correct (TP) positief geclassificeerd en 8 onterecht als negatief (FN)."
   ]
  },
  {
   "cell_type": "markdown",
   "id": "739cd216",
   "metadata": {},
   "source": [
    "#### ROC-curve en AUC\n",
    "We gaan hier kort in op een dit onderwerp. De zogenaamde **Receiving Operating Curve** geeft de True Positive Rate (TPR, ook *recall*) tegen de False Positive Rate (FPR):\n",
    "\n",
    "$TPR = \\frac{TP}{TP + FN}$\n",
    "\n",
    "$FPR = \\frac{FP}{TN + FP}$\n",
    "\n",
    "Deze waarden zijn echter *afhankelijk van de gekozen threshold*!. De ROC-curve geeft het verloop van de relatie tussen TPR en FPR weer voor diverse waarden van de threshold.\n",
    "\n",
    "We geven de ROC-curve van de voorspelling op de traindata van ons voorbeeld weer, daarvoor is het nodig de *originele voorspelde kansen* (dus niet meteen al de  klassen) te kennen. "
   ]
  },
  {
   "cell_type": "code",
   "execution_count": 13,
   "id": "7d73d828",
   "metadata": {},
   "outputs": [
    {
     "name": "stdout",
     "output_type": "stream",
     "text": [
      "(426, 2)\n"
     ]
    }
   ],
   "source": [
    "# Voorspelde kansen op de klassen 0 resp. 1\n",
    "pred_prob_y_train = lr.predict_proba(train_X)\n",
    "print(pred_prob_y_train.shape) #twee kolommen: modelvoorspelling kans op '0' resp. kans op '1'"
   ]
  },
  {
   "cell_type": "markdown",
   "id": "5a2e0724",
   "metadata": {},
   "source": [
    "We gebruiken alleen de kans op positief, '1'."
   ]
  },
  {
   "cell_type": "code",
   "execution_count": 14,
   "id": "0f41602f",
   "metadata": {},
   "outputs": [
    {
     "name": "stdout",
     "output_type": "stream",
     "text": [
      "(426,)\n"
     ]
    }
   ],
   "source": [
    "pred_prob_y_train = pred_prob_y_train[:,1] \n",
    "print(pred_prob_y_train.shape) #één array: modelvoorspelling kans op '1'"
   ]
  },
  {
   "cell_type": "markdown",
   "id": "24a472da",
   "metadata": {},
   "source": [
    "We maken de afbeelding van de ROC-curve."
   ]
  },
  {
   "cell_type": "code",
   "execution_count": 15,
   "id": "04e6e27d",
   "metadata": {},
   "outputs": [
    {
     "data": {
      "text/plain": [
       "<sklearn.metrics._plot.roc_curve.RocCurveDisplay at 0x26ae3c660e0>"
      ]
     },
     "execution_count": 15,
     "metadata": {},
     "output_type": "execute_result"
    },
    {
     "data": {
      "image/png": "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\n",
      "text/plain": [
       "<Figure size 640x480 with 1 Axes>"
      ]
     },
     "metadata": {},
     "output_type": "display_data"
    }
   ],
   "source": [
    "from sklearn.metrics import roc_curve\n",
    "from sklearn.metrics import RocCurveDisplay\n",
    "fpr, tpr, threshold = roc_curve(train_y, pred_prob_y_train)\n",
    "plaatje = RocCurveDisplay(fpr=fpr, tpr=tpr)\n",
    "plaatje.plot()"
   ]
  },
  {
   "cell_type": "markdown",
   "id": "47b5c2dc",
   "metadata": {},
   "source": [
    "Het voorbeeldmodel voorspelt de waarden relatief makkelijk, we zien dit aan de vorm van de ROC-curve: de meest gunstige positie (linksboven in de figuur) wordt dicht genaderd. De vraag is echter: bij welke threshold is dit? \n",
    "\n",
    "#### AUC\n",
    "Een maat voor het 'dicht naderen van de linksboven hoek' is de Area Under the Curve (AUC). Als de waarde 0,5 is dan is het model net zo goed als gokken (de curve gaat diagonaal door het figuur van linksonder tot rechtsboven: het best haalbare is een model met een FPR = TPR = 0,5, dat wil zeggen dat de helft van alle waarden correct voorspeld wordt), als de waarde 1 is dan is er een threshold waarbij je echt linksboven komt: FPR = 0 en TPR = 1: alle waarden worden correct geclassificeerd. \n",
    "\n",
    "Het is een maatstaf waarmee je (binaire) classificatiemodellen onderling kunt vergelijken, zónder dat je de de gehanteerde threshold erin betrekt. \n",
    "\n",
    "In ons model, bepaald voor de voorspellingen op de traindata:"
   ]
  },
  {
   "cell_type": "code",
   "execution_count": 16,
   "id": "f08011b2",
   "metadata": {},
   "outputs": [
    {
     "name": "stdout",
     "output_type": "stream",
     "text": [
      "0.9930705303709446\n"
     ]
    }
   ],
   "source": [
    "from sklearn.metrics import roc_auc_score\n",
    "auc = roc_auc_score(train_y, pred_prob_y_train)\n",
    "print(auc)"
   ]
  },
  {
   "cell_type": "markdown",
   "id": "81c56d72",
   "metadata": {},
   "source": [
    "Bij het plotten van de ROC-curve gaat het package na bij welke 'sprong' in threshold de waarde TPR (en dus FPR) wijzigt. De serie waarden wordt bijgehouden:"
   ]
  },
  {
   "cell_type": "code",
   "execution_count": 17,
   "id": "449ebb57",
   "metadata": {},
   "outputs": [
    {
     "data": {
      "text/plain": [
       "array([1.99997573e+00, 9.99975726e-01, 9.66756985e-01, 9.65980339e-01,\n",
       "       9.37662374e-01, 9.33998268e-01, 8.16405415e-01, 7.88468166e-01,\n",
       "       7.64873852e-01, 7.05542351e-01, 5.89152829e-01, 5.82490755e-01,\n",
       "       5.27629488e-01, 4.65577652e-01, 4.55978744e-01, 4.53949516e-01,\n",
       "       4.00717413e-01, 3.90763949e-01, 3.88398323e-01, 3.55400893e-01,\n",
       "       3.29796455e-01, 3.01949936e-01, 2.66636261e-01, 5.36805734e-02,\n",
       "       5.35251638e-02, 8.64347668e-52])"
      ]
     },
     "execution_count": 17,
     "metadata": {},
     "output_type": "execute_result"
    }
   ],
   "source": [
    "threshold"
   ]
  },
  {
   "cell_type": "markdown",
   "id": "bcac6805",
   "metadata": {},
   "source": [
    "Ter illustratie hier het effect op de TPR van twee thresholds:\n",
    "t1 = 0.2 en t2 = 0.9. "
   ]
  },
  {
   "cell_type": "code",
   "execution_count": 18,
   "id": "8b19ac6e",
   "metadata": {
    "scrolled": true
   },
   "outputs": [
    {
     "name": "stdout",
     "output_type": "stream",
     "text": [
      "De TPR op de trainset met t1 =  0.9963898916967509\n",
      "De TPR op de trainset met t2 =  0.8844765342960289\n"
     ]
    }
   ],
   "source": [
    "t1 = 0.2\n",
    "t2 = 0.9\n",
    "\n",
    "# Zelf definieren\n",
    "def custom_predict(X, threshold):\n",
    "    probs = lr.predict_proba(X) \n",
    "    return (probs[:, 1] > threshold).astype(int)\n",
    "\n",
    "predicted_y_t1 = custom_predict(train_X, t1)\n",
    "predicted_y_t2 = custom_predict(train_X, t2)\n",
    "# recall t1\n",
    "print(\"De TPR op de trainset met t1 = \", metrics.recall_score(train_y, predicted_y_t1))\n",
    "# recall t2\n",
    "print(\"De TPR op de trainset met t2 = \", metrics.recall_score(train_y, predicted_y_t2))"
   ]
  },
  {
   "cell_type": "markdown",
   "id": "2160ac87",
   "metadata": {},
   "source": [
    "#### optimale threshold\n",
    "Wat we 'optimaal' noemen hangt af van de gekozen prestatiemaat. Hieronder staat een stukje code waarin een plot wordt gemaakt waarin op de horizontale as de mogelijke waarden voor de threshold staan en op de verticale as de waarde voor een prestatiemaat. In de praktijk zul je niet alle lijnen plotten, maar alleen diegene waarin je bent geinteresseerd. Wat we proberen te vinden is het maximum."
   ]
  },
  {
   "cell_type": "code",
   "execution_count": 19,
   "id": "3a45036a",
   "metadata": {},
   "outputs": [
    {
     "data": {
      "image/png": "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\n",
      "text/plain": [
       "<Figure size 640x480 with 1 Axes>"
      ]
     },
     "metadata": {},
     "output_type": "display_data"
    },
    {
     "name": "stdout",
     "output_type": "stream",
     "text": [
      "AUC: 0.9930705303709446\n"
     ]
    }
   ],
   "source": [
    "# Maak data aan voor metric plots\n",
    "plot_data = {'threshold': [0.0] + sorted(threshold[1:]) +[1.0], # sorted(threshold[1:]) leek me sneller dan pred_prob_y_train\n",
    "             'accuracy': [],                                    # de eerste waarde uit threshold lijkt een vreemde waarde (1.99)\n",
    "             'precision': [],                                   # die laten we weg\n",
    "             'recall': [],\n",
    "             'specificity': [],\n",
    "             'f1': []}\n",
    "for t in plot_data['threshold']:\n",
    "    plot_data['accuracy'].append(metrics.accuracy_score(train_y, pred_prob_y_train > t))\n",
    "    plot_data['precision'].append(metrics.precision_score(train_y, pred_prob_y_train > t, zero_division=1))\n",
    "    plot_data['recall'].append(metrics.recall_score(train_y, pred_prob_y_train > t))\n",
    "    plot_data['specificity'].append(metrics.recall_score(train_y, pred_prob_y_train > t, pos_label=0))\n",
    "    plot_data['f1'].append(metrics.f1_score(train_y, pred_prob_y_train > t, zero_division=1))\n",
    "plot_data = pd.DataFrame(plot_data)\n",
    "\n",
    "#import matplotlib.pyplot as plt\n",
    "# Maak metrics plot\n",
    "plt.plot('threshold', 'accuracy',  'k-', data=plot_data, label='Accuracy')\n",
    "plt.plot('threshold', 'precision', 'b-', data=plot_data, label='Precision')\n",
    "plt.plot('threshold', 'recall',    'g-', data=plot_data, label='Recall')\n",
    "plt.plot('threshold', 'f1',        'r-', data=plot_data, label='F1')\n",
    "plt.xlabel('Threshold')\n",
    "plt.title('Metrics Plot voor Logistische Regressie')\n",
    "plt.legend()\n",
    "plt.show()\n",
    "\n",
    "auc = roc_auc_score(train_y, pred_prob_y_train)\n",
    "print(\"AUC:\", auc)"
   ]
  },
  {
   "cell_type": "markdown",
   "id": "344b6b3b",
   "metadata": {},
   "source": [
    "Je ziet dat *precision* en *recall* 'tegen elkaar in' bewegen: als de ene groter wordt gaat dit ten koste van de andere, ga na dat dit altijd zo zal zijn! Voor de *accuracy* lijkt het optimum bij de 0.4 te liggen, iets preciezer:"
   ]
  },
  {
   "cell_type": "code",
   "execution_count": 20,
   "id": "29d2ec65",
   "metadata": {},
   "outputs": [
    {
     "data": {
      "text/plain": [
       "threshold    0.390764\n",
       "accuracy     0.957746\n",
       "Name: 9, dtype: float64"
      ]
     },
     "execution_count": 20,
     "metadata": {},
     "output_type": "execute_result"
    }
   ],
   "source": [
    "#plot_data['accuracy'].idxmax()\n",
    "plot_data[['threshold', 'accuracy']].iloc[plot_data['accuracy'].idxmax()]"
   ]
  },
  {
   "cell_type": "markdown",
   "id": "73a4bb21",
   "metadata": {},
   "source": [
    "Een keuze van treshold van 0.4 lijkt dus in geval van optimaliseren *accuracy* een te onderbouwen keuze. het effect in ons voorbeeld op de accuracy is echter zeer gering, dus de default van 0.5 blijven gebruiken is zeker ook te beargumenteren! Dit zal zeker niet in alle gevallen zo zijn, doe dit onderzoek dus *altijd*!"
   ]
  },
  {
   "cell_type": "markdown",
   "id": "d83f1131",
   "metadata": {},
   "source": [
    "#### Resultaten op testset\n",
    "Hieronder produceren we de voorspellingen op de testset en de hierboven besproken metrics. We starten met het genereren van een serie voorspelling op basis van de gekozen threshold op de testset. \n",
    "(NB: dit kan ook korter door gebruik te maken van de eerder gedefinieerde `custom_predict(X, threshold)`. )"
   ]
  },
  {
   "cell_type": "code",
   "execution_count": 21,
   "id": "1b9e7a50",
   "metadata": {},
   "outputs": [],
   "source": [
    "# Voorspelde kansen op de klassen 0 resp. 1 op testset\n",
    "pred_prob_y_test = lr.predict_proba(test_X)[:,1] #alleen kolom met positieven\n",
    "\n",
    "# De gekozen threshold\n",
    "t_opt = 0.4\n",
    "\n",
    "# De voorspelling op de testset ('0' of '1'):\n",
    "pred_y_test = (pred_prob_y_test > t_opt).astype(int)"
   ]
  },
  {
   "cell_type": "code",
   "execution_count": 22,
   "id": "fbb26380",
   "metadata": {},
   "outputs": [
    {
     "name": "stdout",
     "output_type": "stream",
     "text": [
      "AUC Testset: 0.9256944444444444\n"
     ]
    }
   ],
   "source": [
    "#AUC op testset\n",
    "auc_test = roc_auc_score(test_y, pred_y_test)\n",
    "print(\"AUC Testset:\", auc_test)"
   ]
  },
  {
   "cell_type": "code",
   "execution_count": 23,
   "id": "488643f9",
   "metadata": {},
   "outputs": [
    {
     "data": {
      "text/plain": [
       "array([[56,  7],\n",
       "       [ 3, 77]], dtype=int64)"
      ]
     },
     "execution_count": 23,
     "metadata": {},
     "output_type": "execute_result"
    }
   ],
   "source": [
    "# Confusion Matrix\n",
    "confusion_matrix(test_y, pred_y_test)"
   ]
  },
  {
   "cell_type": "code",
   "execution_count": 24,
   "id": "79be090f",
   "metadata": {},
   "outputs": [
    {
     "name": "stdout",
     "output_type": "stream",
     "text": [
      "De accuracy op de testset met threshold = 0.4 =  0.9300699300699301\n"
     ]
    }
   ],
   "source": [
    "# accuracy t_opt\n",
    "print(\"De accuracy op de testset met threshold = 0.4 = \", metrics.accuracy_score(test_y, pred_y_test))"
   ]
  },
  {
   "cell_type": "markdown",
   "id": "7503c155",
   "metadata": {},
   "source": [
    "### 5. Prestatiematen multiclass classificatie\n",
    "#### Beschrijving\n",
    "In dit geval zijn er méér dan 2 klassen om te classificeren, bijvoorbeeld: $y_i \\in \\{1, 2, ..., n\\}$. Waarbij bijvoorbeeld in plaats van de getallen ook kunnen denken aan $\\{'appel', 'peer', 'banaan'\\}$ bij $n = 3$.\n",
    "\n",
    "We kunnen nu niet zozeer van een *positieve* vs een *negatieve* klasse spreken. Daarmee komen een aantal van de in paragraaf 4 genoemde prestatiematen te vervallen. We zullen hier ingaan op de *accuracy* die óók over meer dan 2 klassen kan worden bepaald: \n",
    "\n",
    "$accuracy = \\frac{Aantal_{juist}}{Aantal_{totaal}}$  \n",
    "\n",
    "(met $Aantal_{juist}$ het aantal correct voorspelde waarnemingen en $Aantal_{totaal}$ het *Totaal aantal voorspelde waarden*; het aantal waarnemingen in bijvoorbeeld de testset dus).\n",
    "\n",
    "Andere prestatiematen die gangbaar zijn voor multiclass classificatiemodellen lees je terug op [deze pagina](https://scikit-learn.org/stable/modules/model_evaluation.html#multilabel-ranking-metrics) onder **3.3.3. Multilabel ranking metrics**.\n",
    "\n",
    "De modellen zullen in essentie vaak een *kans* per klasse bepalen (of anders gezegd: een *kansverdeling* over de klassen), de klasse met de grootste kans zal dan vaak de voorspelling $\\hat{y}_i$ zijn. \n",
    "\n",
    "#### Afsplitsen X (data) en y (targets) en split in train- en testset\n",
    "Hieronder zal een model worden gefit op een deel van de data (de trainset) en daarna word met dit model een voorspelling gedaan op de testset en voor de verschillende prestatiematen een modelscore gegeven. Het gaat in dit Tech Report nog even *niet* om de stappen rondom het modelleren (deze komen terug in de volgende T.R.'s), maar om de vaststelling van de prestatiemaat. \n",
    "\n",
    "Zie eventueel meer over train- en test set afsplitsen in *Tech Report 2 - Datapreparatie*"
   ]
  },
  {
   "cell_type": "code",
   "execution_count": 25,
   "id": "61f87274",
   "metadata": {},
   "outputs": [
    {
     "name": "stdout",
     "output_type": "stream",
     "text": [
      "(133, 13)\n",
      "(45, 13)\n",
      "(133,)\n",
      "(45,)\n"
     ]
    }
   ],
   "source": [
    "# onafhankelijke variabelen\n",
    "X = wine_DF.drop(labels='Class', axis=1)  \n",
    "\n",
    "# afhankelijke variabele\n",
    "y = wine_DF['Class']\n",
    "\n",
    "#split de dataset in 75%-25% train-test split \n",
    "train_X, test_X, train_y, test_y = train_test_split(X,y,test_size=0.25,random_state=999)\n",
    "print(train_X.shape)\n",
    "print(test_X.shape)\n",
    "print(train_y.shape)\n",
    "print(test_y.shape)"
   ]
  },
  {
   "cell_type": "markdown",
   "id": "7abe1ba4",
   "metadata": {},
   "source": [
    "#### Definieren van een voorbeeldmodel voor multiclass classificatie\n",
    "Zie meer over beslisbomen in *Tech Report 7 - Beslisboom Classificatie*. Een ander modeltype voor multiclass classificatie had ook kunnen worden gebruikt voor deze illustratie!"
   ]
  },
  {
   "cell_type": "code",
   "execution_count": 26,
   "id": "bcdc4c84",
   "metadata": {},
   "outputs": [],
   "source": [
    "# training a DescisionTreeClassifier\n",
    "from sklearn.tree import DecisionTreeClassifier\n",
    "dt = DecisionTreeClassifier(max_depth = 2).fit(train_X, train_y)"
   ]
  },
  {
   "cell_type": "markdown",
   "id": "01be8a4d",
   "metadata": {},
   "source": [
    "#### Genereren van een voorspelling op de test data\n",
    "Dit levert de eerder beschreven waarden $\\hat{y}_i$ op. Hier geldt nu dus $\\hat{y}_i \\in \\{0,1,2\\}$. "
   ]
  },
  {
   "cell_type": "code",
   "execution_count": 27,
   "id": "b3e3cd19",
   "metadata": {},
   "outputs": [],
   "source": [
    "predicted_y = dt.predict(test_X)"
   ]
  },
  {
   "cell_type": "code",
   "execution_count": 32,
   "id": "ecb89fba",
   "metadata": {},
   "outputs": [
    {
     "data": {
      "text/plain": [
       "array([0, 1, 0, 0, 2, 1, 0, 1, 0, 1, 2, 1, 1, 2, 1, 1, 1, 2, 0, 1, 1, 0,\n",
       "       0, 0, 0, 1, 1, 1, 2, 1, 0, 1, 2, 0, 2, 2, 0, 1, 0, 0, 1, 0, 0, 1,\n",
       "       0])"
      ]
     },
     "execution_count": 32,
     "metadata": {},
     "output_type": "execute_result"
    }
   ],
   "source": [
    "predicted_y"
   ]
  },
  {
   "cell_type": "code",
   "execution_count": 33,
   "id": "6f28d019",
   "metadata": {},
   "outputs": [
    {
     "data": {
      "text/plain": [
       "34     0\n",
       "90     1\n",
       "55     0\n",
       "95     1\n",
       "170    2\n",
       "112    1\n",
       "7      0\n",
       "86     1\n",
       "36     0\n",
       "144    2\n",
       "96     1\n",
       "111    1\n",
       "157    2\n",
       "164    2\n",
       "175    2\n",
       "109    1\n",
       "80     1\n",
       "140    2\n",
       "53     0\n",
       "106    1\n",
       "104    1\n",
       "18     0\n",
       "73     1\n",
       "45     0\n",
       "17     0\n",
       "93     1\n",
       "110    1\n",
       "82     1\n",
       "118    1\n",
       "99     1\n",
       "28     0\n",
       "85     1\n",
       "77     1\n",
       "40     0\n",
       "68     1\n",
       "91     1\n",
       "20     0\n",
       "79     1\n",
       "24     0\n",
       "29     0\n",
       "124    1\n",
       "0      0\n",
       "42     0\n",
       "176    2\n",
       "26     0\n",
       "Name: Class, dtype: int32"
      ]
     },
     "execution_count": 33,
     "metadata": {},
     "output_type": "execute_result"
    }
   ],
   "source": [
    "test_y"
   ]
  },
  {
   "cell_type": "markdown",
   "id": "ebf3fb30",
   "metadata": {},
   "source": [
    "#### Confusionmatrix testset"
   ]
  },
  {
   "cell_type": "code",
   "execution_count": 28,
   "id": "49a632c4",
   "metadata": {},
   "outputs": [
    {
     "data": {
      "text/plain": [
       "array([[16,  0,  0],\n",
       "       [ 2, 15,  5],\n",
       "       [ 0,  4,  3]], dtype=int64)"
      ]
     },
     "execution_count": 28,
     "metadata": {},
     "output_type": "execute_result"
    }
   ],
   "source": [
    "from sklearn.metrics import confusion_matrix\n",
    "confusion_matrix(test_y, predicted_y)"
   ]
  },
  {
   "cell_type": "markdown",
   "id": "8f12aebd",
   "metadata": {},
   "source": [
    "In de confusion matrix lezen we af: Van de 16 werkelijke waarden '0' in de testlabels zijn alle voorspellingen ook daadwerkelijke als '0' voorspeld. Van de 22 werkelijke waarden '1' in de testlabels zijn 15 voorspellingen ook daadwerkelijke als '1' voorspeld, 2 onterecht als '0', 5 omteecht als '2'. Etc."
   ]
  },
  {
   "cell_type": "markdown",
   "id": "80644047",
   "metadata": {},
   "source": [
    "#### Accuracy testset\n",
    "We vinden $Aantal_{juist} = 34$ en $Aantal_{totaal} = 45$. Ga na dat daarmee de *accuracy*  gelijk is aan:"
   ]
  },
  {
   "cell_type": "code",
   "execution_count": 29,
   "id": "4d5dd928",
   "metadata": {},
   "outputs": [
    {
     "name": "stdout",
     "output_type": "stream",
     "text": [
      "De accuracy op de testset =  0.7555555555555555\n"
     ]
    }
   ],
   "source": [
    "# accuracy\n",
    "print(\"De accuracy op de testset = \", metrics.accuracy_score(test_y, predicted_y))"
   ]
  },
  {
   "cell_type": "markdown",
   "id": "42411f25",
   "metadata": {},
   "source": [
    "#### Overige prestatiematen testset\n",
    "De precision, Recall en f1 zijn wat minder triviaal, immers: het is daarbij steeds van belang welke klasse 'positief' en welke 'negatief' is. De insteek is dan steeds dat je de score *per klasse* weergeeft. Als je bijvoorbeeld uitgaat van de klassen $\\{'appel', 'peer', 'banaan'\\}$ en de precision van de modelvoorspelling voor $'appel'$ wilt bepalen, zul je een $'appel'$ als *positieve* en $'peer'$ en $'banaan'$ beide als *negatieve klasse* beschouwen.\n",
    "\n",
    "Een handige functie hierbij is `classification_report()`:"
   ]
  },
  {
   "cell_type": "code",
   "execution_count": 30,
   "id": "3e70e1b4",
   "metadata": {},
   "outputs": [
    {
     "name": "stdout",
     "output_type": "stream",
     "text": [
      "              precision    recall  f1-score   support\n",
      "\n",
      "     class 0       0.89      1.00      0.94        16\n",
      "     class 1       0.79      0.68      0.73        22\n",
      "     class 2       0.38      0.43      0.40         7\n",
      "\n",
      "    accuracy                           0.76        45\n",
      "   macro avg       0.68      0.70      0.69        45\n",
      "weighted avg       0.76      0.76      0.75        45\n",
      "\n"
     ]
    }
   ],
   "source": [
    "from sklearn.metrics import classification_report\n",
    "target_names = ['class 0', 'class 1', 'class 2']\n",
    "print(classification_report(test_y, predicted_y, target_names=target_names))"
   ]
  },
  {
   "cell_type": "markdown",
   "id": "18ebd8bf",
   "metadata": {},
   "source": [
    "Er kan op verschillende wijzen over de waarden per klasse gemiddeld worden zodat er toch nog één score over alle klassen wordt bepaald, je ziet dit in de onderste twee regels. Voor de methodiek hiervoor zijn keuzen te maken, zie voor meer toelichting daarover de beschrijving voor de parameter `average` [hier](https://scikit-learn.org/stable/modules/generated/sklearn.metrics.precision_score.html). Je kunt deze waarden ook uit de eerder beschreven methoden halen, zie hieronder voor de keuze `average = 'macro'`."
   ]
  },
  {
   "cell_type": "code",
   "execution_count": 31,
   "id": "19f39649",
   "metadata": {},
   "outputs": [
    {
     "name": "stdout",
     "output_type": "stream",
     "text": [
      "De macro gemiddelde precision op de testset =  0.6844541910331383\n",
      "De macro gemiddelde recall op de testset =  0.7034632034632033\n",
      "De macro gemiddelde f1-score op de testset =  0.690961262553802\n"
     ]
    }
   ],
   "source": [
    "# precision\n",
    "print(\"De macro gemiddelde precision op de testset = \", metrics.precision_score(test_y, predicted_y, average = 'macro'))\n",
    "\n",
    "# recall\n",
    "print(\"De macro gemiddelde recall op de testset = \", metrics.recall_score(test_y, predicted_y, average = 'macro'))\n",
    "\n",
    "# f1-score\n",
    "print(\"De macro gemiddelde f1-score op de testset = \", metrics.f1_score(test_y, predicted_y, average = 'macro'))"
   ]
  },
  {
   "cell_type": "code",
   "execution_count": null,
   "id": "2e79021f",
   "metadata": {},
   "outputs": [],
   "source": []
  }
 ],
 "metadata": {
  "kernelspec": {
   "display_name": "Python 3 (ipykernel)",
   "language": "python",
   "name": "python3"
  },
  "language_info": {
   "codemirror_mode": {
    "name": "ipython",
    "version": 3
   },
   "file_extension": ".py",
   "mimetype": "text/x-python",
   "name": "python",
   "nbconvert_exporter": "python",
   "pygments_lexer": "ipython3",
   "version": "3.10.9"
  }
 },
 "nbformat": 4,
 "nbformat_minor": 5
}
