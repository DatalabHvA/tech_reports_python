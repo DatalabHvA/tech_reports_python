{
 "cells": [
  {
   "cell_type": "markdown",
   "id": "2bc53274",
   "metadata": {
    "slideshow": {
     "slide_type": ""
    },
    "tags": []
   },
   "source": [
    "<div class=\"alert alert-block alert-success\">\n",
    "    <h1>DataLab HvA - serie Machine Learning Python - Tech report 13</h1>\n",
    "</div>"
   ]
  },
  {
   "cell_type": "markdown",
   "id": "7c92d689",
   "metadata": {},
   "source": [
    "<div class=\"alert alert-block alert-warning\">\n",
    "    <h2>Clustering: K-means</h2>\n",
    "</div>"
   ]
  },
  {
   "cell_type": "markdown",
   "id": "37623910",
   "metadata": {},
   "source": [
    "### 0. Doel van deze les\n",
    "Dit is het eerste Tech report in de serie clustering technieken. Dit is een vorm van *unsupervised* learning, dat wil zeggen dat we geen *gelabelde* data tot onze beschikking hebben, oftewel: er is geen informatie op voorhand m.b.t. een *afhankelijke variabele*. Clustering is eigenlijk een vorm van *Verkennende data analyse* waarin je wil verkennen of er op basis van de data een indeling in klasses (clusters) gemaakt kan worden. Als deze onderverdeling er is dient de vraag te worden beantwoord of deze betekenisvol is m.b.t. de context van de data dan wel bruikbaar voor vervolgstappen in een datascience project. Deze laatste twee aspecten blijven buiten beschouwing.\n",
    "\n",
    "Een algoritme dat deze vorm van unsupervised learning kan uitvoeren is *K-means*. Deze methode gaat uit van een klein aantal (*K*) datapunten (als dan niet onderdeel van de dataset zelf) - *centroids* - waaromheen de overige datapunten die bij dezelfde klasse horen geclusterd worden. De gehele dataset zal dus worden verdeeld over deze *K* clusters (partitional clustering).\n",
    "\n",
    "*K-means* is een relatief eenvoudig algoritme en zal daarom relatief snel werken, waarmee het ook geschikt is voor grote datasets. \n",
    "**Je leert** \n",
    "- hoe je in Python met behulp van het package `sklearn` een K-means kan toepassen op een gegeven dataset\n",
    "- een methode om een optimaal aantal clusers te vinden\n",
    "- hoe je het het resultaat van de gevonden clustering kan weergeven\n",
    "\n",
    "**Je leert niet:**\n",
    "- wat de preciese wiskundige definitie en werking van het algoritme is\n",
    "- hoe je met het package `seaborn` eerste visuele verkenningen van de (variatie in de) data kan uitvoeren, zie hiervoor *Tech report 1: Introductie Machine Learning* uit deze serie.\n",
    "- hoe je data importeert en inlaadt in de python sessie, zie hiervoor echter wel [deze instructie](https://www.youtube.com/watch?v=1oBVx7pyuXo&list=PLwkTCAI_gJjW10xaAJpdqeQx7EQgFolfG&index=10) \n",
    "\n",
    "**Machine Learning framework**\n",
    "Omdat we geen gelabelde data hebben kunnen we - anders dan bij supervised learning - geen score metric bijhouden die we bijvoorbeeld voor een train en testset gaan vergelijken. Er zijn wel scoremetrics voor clustering in het algemeen, zie verderop.\n",
    "\n",
    "Een belangrijke bron voor dit Tech report is [dit boek](https://cssbook.net/content/chapter07.html#sec-clustering) (Hoofdstuk 7.3)."
   ]
  },
  {
   "cell_type": "markdown",
   "id": "a7ffe4c0",
   "metadata": {},
   "source": [
    "### 1. Laden van de benodigde packages\n",
    "Packages die je zelf nog niet hebt geinstalleerd dien je vooraf in Python te installeren. "
   ]
  },
  {
   "cell_type": "code",
   "execution_count": 1,
   "id": "429d3b4a",
   "metadata": {},
   "outputs": [],
   "source": [
    "# Voor de dataset en plots\n",
    "import matplotlib.pyplot as plt\n",
    "import seaborn as sns\n",
    "\n",
    "# Voor het bewerken en inspecteren van de data\n",
    "import pandas as pd\n",
    "import numpy as np\n",
    "\n",
    "# Voor het modelleren\n",
    "from sklearn.cluster import KMeans\n",
    "from sklearn.preprocessing import StandardScaler\n",
    "\n",
    "import warnings\n",
    "warnings.filterwarnings('ignore')"
   ]
  },
  {
   "cell_type": "markdown",
   "id": "c7dd14a4",
   "metadata": {},
   "source": [
    "### 2. Laden en prepareren van de data"
   ]
  },
  {
   "cell_type": "markdown",
   "id": "c88e407b",
   "metadata": {},
   "source": [
    "We gebruiken als voorbeeld een dataset van de Eurobarometer van het Leibniz Institute for the Social Sciences – GESIS. De data kan online worden geimporteerd, zie onder. Het betreft data van onderzoek met betrekking tot opvang van migranten en vluchtelingen in Europese landen.\n",
    "\n",
    "#### Laden en weergave data\n",
    "Hieronder laden we de data en geven enkele kenmerken van de set weer. "
   ]
  },
  {
   "cell_type": "code",
   "execution_count": 2,
   "id": "33d4e4c8",
   "metadata": {
    "scrolled": true
   },
   "outputs": [],
   "source": [
    "warnings.filterwarnings('ignore')\n",
    "url = \"https://cssbook.net/d/eurobarom_nov_2017.csv\"\n",
    "d2 = pd.read_csv(url)"
   ]
  },
  {
   "cell_type": "code",
   "execution_count": 3,
   "id": "ec77b3eb-344f-47d9-8629-f988bbb7e1b4",
   "metadata": {},
   "outputs": [
    {
     "name": "stdout",
     "output_type": "stream",
     "text": [
      "Shape data = (33193, 17)\n",
      "                               survey    uniqid                          date  \\\n",
      "0  Eurobarometer 88.3 (November 2017)  16692046  Wednesday, 8th November 2017   \n",
      "1  Eurobarometer 88.3 (November 2017)  16692045    Tuesday, 7th November 2017   \n",
      "2  Eurobarometer 88.3 (November 2017)  16692048    Sunday, 12th November 2017   \n",
      "\n",
      "   country                        marital_status             educational  \\\n",
      "0  Belgium     Divorced/Separated: with children                      24   \n",
      "1  Belgium              Single: without children          Still studying   \n",
      "2  Belgium  (Re-)Married: children this marriage  No full-time education   \n",
      "\n",
      "  gender  age                        occupation     type_community  \\\n",
      "0    Man   48       Professional (lawyer, etc.)         Large town   \n",
      "1    Man   18                           Student  Small/middle town   \n",
      "2    Man   65  Owner of a shop, craftsmen, etc.         Large town   \n",
      "\n",
      "  household_composition support_refugees  support_migrants  date_n  \\\n",
      "0                   One    Tend to agree  Tend to disagree     4.0   \n",
      "1                 Three    Totally agree     Totally agree     3.0   \n",
      "2                  Four    Totally agree     Totally agree     8.0   \n",
      "\n",
      "   support_refugees_n  support_migrants_n  educational_n  \n",
      "0                 3.0                 2.0           24.0  \n",
      "1                 4.0                 4.0            NaN  \n",
      "2                 4.0                 4.0            NaN  \n",
      "survey                    object\n",
      "uniqid                     int64\n",
      "date                      object\n",
      "country                   object\n",
      "marital_status            object\n",
      "educational               object\n",
      "gender                    object\n",
      "age                        int64\n",
      "occupation                object\n",
      "type_community            object\n",
      "household_composition     object\n",
      "support_refugees          object\n",
      "support_migrants          object\n",
      "date_n                   float64\n",
      "support_refugees_n       float64\n",
      "support_migrants_n       float64\n",
      "educational_n            float64\n",
      "dtype: object\n"
     ]
    }
   ],
   "source": [
    "print(\"Shape data =\", d2.shape)\n",
    "print(d2.head(3))\n",
    "print(d2.dtypes)"
   ]
  },
  {
   "cell_type": "code",
   "execution_count": 4,
   "id": "fc73e38d",
   "metadata": {
    "scrolled": true
   },
   "outputs": [
    {
     "data": {
      "image/png": "[encoded data removed]",
      "text/plain": [
       "<Figure size 1000x600 with 2 Axes>"
      ]
     },
     "metadata": {},
     "output_type": "display_data"
    }
   ],
   "source": [
    "# Een weergave van de verdeling van gegevens m.b.t. ondersteuning vluchtelingenopvang en geslacht van ondervraagde inwoner \n",
    "# Samengevat per land\n",
    "pivot_data = pd.pivot_table(\n",
    "    d2, values=\"support_refugees_n\", index=[\"country\"], columns=\"gender\"\n",
    ")\n",
    "plt.figure(figsize=(10, 6))\n",
    "sns.heatmap(pivot_data, cmap=\"Blues\", cbar_kws={\"label\": \"support_refugees_n\"})\n",
    "plt.show()"
   ]
  },
  {
   "cell_type": "markdown",
   "id": "64d138e2-4972-49a2-8c70-91f66c891dbe",
   "metadata": {},
   "source": [
    "We zetten de data om naar samenvattende (gemiddelde) data van `support_refugees_n`, `support_migrants_n`, `age` en `educational_n`, geordend naar `country`"
   ]
  },
  {
   "cell_type": "code",
   "execution_count": 5,
   "id": "50ec9ad3-58f9-49cf-90c6-5401a171c434",
   "metadata": {},
   "outputs": [
    {
     "name": "stdout",
     "output_type": "stream",
     "text": [
      "Shape data = (34, 4)\n",
      "           support_refugees_n  support_migrants_n        age  educational_n\n",
      "country                                                                    \n",
      "Austria              2.853430            2.544133  48.509843      18.871714\n",
      "Belgium              2.836901            2.334359  50.405970      19.335221\n",
      "Bulgaria             2.113025            1.770213  49.632731      19.682773\n",
      "CRNA GORA                 NaN                 NaN  41.174812      19.533693\n",
      "Croatia              2.742326            2.024928  45.089580      18.910788\n",
      "support_refugees_n    float64\n",
      "support_migrants_n    float64\n",
      "age                   float64\n",
      "educational_n         float64\n",
      "dtype: object\n"
     ]
    }
   ],
   "source": [
    "# Average variables by country and scale\n",
    "d3 = d2.groupby([\"country\"])[\n",
    "    [\"support_refugees_n\", \"support_migrants_n\", \"age\", \"educational_n\"]\n",
    "].mean()\n",
    "\n",
    "print(\"Shape data =\", d3.shape)\n",
    "print(d3.head(5))\n",
    "print(d3.dtypes)"
   ]
  },
  {
   "cell_type": "markdown",
   "id": "a5e4280f-474a-481c-accf-f610e9183a4f",
   "metadata": {},
   "source": [
    "K-means kan niet omgaan met data waarin waarden missen, we inspecteren dit vooraf:"
   ]
  },
  {
   "cell_type": "code",
   "execution_count": 6,
   "id": "f9d33a0b-fc20-428a-9b2f-4e92330970d2",
   "metadata": {},
   "outputs": [
    {
     "name": "stdout",
     "output_type": "stream",
     "text": [
      " \n",
      "Telling van aantal NaN in iedere kolom van het DataFrame : \n",
      "\n",
      " support_refugees_n    6\n",
      "support_migrants_n    6\n",
      "age                   0\n",
      "educational_n         0\n",
      "dtype: int64\n"
     ]
    }
   ],
   "source": [
    "print(\" \\nTelling van aantal NaN in iedere kolom van het DataFrame : \\n\\n\",\n",
    "      d3.isnull().sum())"
   ]
  },
  {
   "cell_type": "markdown",
   "id": "9c4a2443-f7dc-4948-a6b9-39a80deb1b06",
   "metadata": {},
   "source": [
    "Voor een 6-tal landen ontbreekt data voor `support_refugees_n` en `\n",
    "support_migrants_` :n"
   ]
  },
  {
   "cell_type": "code",
   "execution_count": 7,
   "id": "f1d631b6-dcea-4a6b-a533-55efb3f09b48",
   "metadata": {},
   "outputs": [
    {
     "name": "stdout",
     "output_type": "stream",
     "text": [
      "                               support_refugees_n  support_migrants_n  \\\n",
      "country                                                                 \n",
      "CRNA GORA                                     NaN                 NaN   \n",
      "KUZEY KIBRIS TÜRK CUMHURIYETI                 NaN                 NaN   \n",
      "REPUBLIKA MAKEDONIJA                          NaN                 NaN   \n",
      "SHQIPERIA                                     NaN                 NaN   \n",
      "SRPSKI                                        NaN                 NaN   \n",
      "TURKIYE                                       NaN                 NaN   \n",
      "\n",
      "                                     age  educational_n  \n",
      "country                                                  \n",
      "CRNA GORA                      41.174812      19.533693  \n",
      "KUZEY KIBRIS TÜRK CUMHURIYETI  39.778000      18.170543  \n",
      "REPUBLIKA MAKEDONIJA           47.713462      18.320554  \n",
      "SHQIPERIA                      40.979048      18.654428  \n",
      "SRPSKI                         44.451039      19.484524  \n",
      "TURKIYE                        34.350249      16.602165  \n"
     ]
    }
   ],
   "source": [
    "print(d3[d3['support_refugees_n'].isna()])"
   ]
  },
  {
   "cell_type": "markdown",
   "id": "f2a99ac9-01d7-4327-b8c3-81014f661c7a",
   "metadata": {},
   "source": [
    "Deze 6 waarnemingen verwijderen we:"
   ]
  },
  {
   "cell_type": "code",
   "execution_count": 8,
   "id": "2c34c4ef-a00b-4f64-bd47-c34336db2251",
   "metadata": {},
   "outputs": [],
   "source": [
    "d3 = d3[d3['support_refugees_n'].notna()]"
   ]
  },
  {
   "cell_type": "markdown",
   "id": "299dfe52-aecf-4239-ba14-82d5ecc6ce14",
   "metadata": {},
   "source": [
    "Verder van belang (zie ook korte uitleg verderop) dat de *waarden* van de variabelen vergelijkbaar zijn qua grootte. We hebben immers een bepaalde interpretatie van *afstand* tussen waarnemingen nodig die niet beinvloed mag worden door de keuze van de eenheden waarin we meten! Daarom schalen we de data naar een gestandaardiseerd waardebereik per variabele. Run eventueel de codecel hieronder om meer te lezen over deze transformatie."
   ]
  },
  {
   "cell_type": "code",
   "execution_count": 9,
   "id": "b0c5264d-495c-4044-bfa3-2a1385a2ff8b",
   "metadata": {},
   "outputs": [],
   "source": [
    "#help(StandardScaler())"
   ]
  },
  {
   "cell_type": "code",
   "execution_count": 10,
   "id": "381545a1-9822-4ea3-a391-5966ed418cdd",
   "metadata": {},
   "outputs": [
    {
     "data": {
      "text/plain": [
       "array([[ 0.33929097,  0.53054064, -0.93571757, -0.29103295],\n",
       "       [ 0.29926642,  0.05395776, -0.37553758, -0.06114791],\n",
       "       [-1.45355728, -1.22771917, -0.60397856,  0.11122725],\n",
       "       [ 0.07025736, -0.64903451, -1.9461785 , -0.27165326],\n",
       "       [ 0.75857436, -0.48595901, -0.02809874, -0.46312567]])"
      ]
     },
     "execution_count": 10,
     "metadata": {},
     "output_type": "execute_result"
    }
   ],
   "source": [
    "# Definieer een 'scaler'\n",
    "scaler = StandardScaler()\n",
    "\n",
    "# Pas de scaler toe op de kolommen van 'd3' en sla op in d3_s\n",
    "d3_s = scaler.fit_transform(d3)\n",
    "\n",
    "# het resultaat, d3_s,  is een numpy array waarvan de waarden ro:\n",
    "d3_s[:5,] #de eerste 5 getransformeerde waarnemingen"
   ]
  },
  {
   "cell_type": "markdown",
   "id": "61780f58",
   "metadata": {},
   "source": [
    "### 3. Voorbeschouwing\n",
    "We vragen ons nu af of er een indeling te maken is van de data in `d3_s` die is gegroepeerd naar verwantschap in de gecombineerde set variabelen `support_refugees_n`, `support_migrants_n`, `age` en `educational_n`. Daarvoor gaan we **K-means** gebruiken, waarbij we het *aantal clusters: K*  vooraf moeten opgeven als modelparameter. \n",
    "\n",
    "Het algoritme is gebaseerd op het minimaliseren van een totale (over alle *N* waarnemingen gesommeerde) afstandfunctie:\n",
    "\n",
    "$$ J=\\Sigma_{n = 1}^{N} \\Sigma_{k = 1}^{K} r_{nk} \\lVert \\mathbf{x_n - \\mu_k} \\rVert ^{2}$$\n",
    "\n",
    "Hierin zijn $\\mathbf{x_n}$ de waarnemingen en $\\mathbf{\\mu_k}$ de *centroids* van cluster $S_k$ en een clustertoewijzing $r_{nk}$ waarbij $r_{nk} := 1$  als $\\mathbf{x_n} \\in S_k$ en anders $r_{nk} := 0$. \n",
    "\n",
    "De functie $\\lVert . \\rVert$ definieert de afstand tussen de waarnemingen (gezien als vector, in ons voorbeeld in $\\mathbb{R}^4$).\n",
    "\n",
    "Het algoritme vindt de ligging van de *centroids* $\\mathbf{\\mu_k}$ en de toewijzing $r_{nk}$ die $J$ minimaliseert."
   ]
  },
  {
   "cell_type": "markdown",
   "id": "66d5070f",
   "metadata": {},
   "source": [
    "### 4. Modelleren\n",
    "#### lees documentatie bij package\n",
    "Voordat we een model gaan toepassen is het van belang dat je de documentatie van het algoritme dat we uit het package gaan gebruiken lezen. In dit geval is dat dus voor `KMeans()`, die lees je bijvoorbeeld online [hier](https://scikit-learn.org/stable/modules/generated/sklearn.cluster.KMeans.html). Alternatief is om de `help()` functie te gebruiken, zie hieronder. "
   ]
  },
  {
   "cell_type": "code",
   "execution_count": 11,
   "id": "27d3c650",
   "metadata": {},
   "outputs": [
    {
     "name": "stdout",
     "output_type": "stream",
     "text": [
      "Help on KMeans in module sklearn.cluster._kmeans object:\n",
      "\n",
      "class KMeans(_BaseKMeans)\n",
      " |  KMeans(n_clusters=8, *, init='k-means++', n_init='warn', max_iter=300, tol=0.0001, verbose=0, random_state=None, copy_x=True, algorithm='lloyd')\n",
      " |  \n",
      " |  K-Means clustering.\n",
      " |  \n",
      " |  Read more in the :ref:`User Guide <k_means>`.\n",
      " |  \n",
      " |  Parameters\n",
      " |  ----------\n",
      " |  \n",
      " |  n_clusters : int, default=8\n",
      " |      The number of clusters to form as well as the number of\n",
      " |      centroids to generate.\n",
      " |  \n",
      " |  init : {'k-means++', 'random'}, callable or array-like of shape             (n_clusters, n_features), default='k-means++'\n",
      " |      Method for initialization:\n",
      " |  \n",
      " |      'k-means++' : selects initial cluster centroids using sampling based on\n",
      " |      an empirical probability distribution of the points' contribution to the\n",
      " |      overall inertia. This technique speeds up convergence. The algorithm\n",
      " |      implemented is \"greedy k-means++\". It differs from the vanilla k-means++\n",
      " |      by making several trials at each sampling step and choosing the bestcentroid\n",
      " |      among them.\n",
      " |  \n",
      " |      'random': choose `n_clusters` observations (rows) at random from data\n",
      " |      for the initial centroids.\n",
      " |  \n",
      " |      If an array is passed, it should be of shape (n_clusters, n_features)\n",
      " |      and gives the initial centers.\n",
      " |  \n",
      " |      If a callable is passed, it should take arguments X, n_clusters and a\n",
      " |      random state and return an initialization.\n",
      " |  \n",
      " |  n_init : 'auto' or int, default=10\n",
      " |      Number of times the k-means algorithm is run with different centroid\n",
      " |      seeds. The final results is the best output of `n_init` consecutive runs\n",
      " |      in terms of inertia. Several runs are recommended for sparse\n",
      " |      high-dimensional problems (see :ref:`kmeans_sparse_high_dim`).\n",
      " |  \n",
      " |      When `n_init='auto'`, the number of runs will be 10 if using\n",
      " |      `init='random'`, and 1 if using `init='kmeans++'`.\n",
      " |  \n",
      " |      .. versionadded:: 1.2\n",
      " |         Added 'auto' option for `n_init`.\n",
      " |  \n",
      " |      .. versionchanged:: 1.4\n",
      " |         Default value for `n_init` will change from 10 to `'auto'` in version 1.4.\n",
      " |  \n",
      " |  max_iter : int, default=300\n",
      " |      Maximum number of iterations of the k-means algorithm for a\n",
      " |      single run.\n",
      " |  \n",
      " |  tol : float, default=1e-4\n",
      " |      Relative tolerance with regards to Frobenius norm of the difference\n",
      " |      in the cluster centers of two consecutive iterations to declare\n",
      " |      convergence.\n",
      " |  \n",
      " |  verbose : int, default=0\n",
      " |      Verbosity mode.\n",
      " |  \n",
      " |  random_state : int, RandomState instance or None, default=None\n",
      " |      Determines random number generation for centroid initialization. Use\n",
      " |      an int to make the randomness deterministic.\n",
      " |      See :term:`Glossary <random_state>`.\n",
      " |  \n",
      " |  copy_x : bool, default=True\n",
      " |      When pre-computing distances it is more numerically accurate to center\n",
      " |      the data first. If copy_x is True (default), then the original data is\n",
      " |      not modified. If False, the original data is modified, and put back\n",
      " |      before the function returns, but small numerical differences may be\n",
      " |      introduced by subtracting and then adding the data mean. Note that if\n",
      " |      the original data is not C-contiguous, a copy will be made even if\n",
      " |      copy_x is False. If the original data is sparse, but not in CSR format,\n",
      " |      a copy will be made even if copy_x is False.\n",
      " |  \n",
      " |  algorithm : {\"lloyd\", \"elkan\", \"auto\", \"full\"}, default=\"lloyd\"\n",
      " |      K-means algorithm to use. The classical EM-style algorithm is `\"lloyd\"`.\n",
      " |      The `\"elkan\"` variation can be more efficient on some datasets with\n",
      " |      well-defined clusters, by using the triangle inequality. However it's\n",
      " |      more memory intensive due to the allocation of an extra array of shape\n",
      " |      `(n_samples, n_clusters)`.\n",
      " |  \n",
      " |      `\"auto\"` and `\"full\"` are deprecated and they will be removed in\n",
      " |      Scikit-Learn 1.3. They are both aliases for `\"lloyd\"`.\n",
      " |  \n",
      " |      .. versionchanged:: 0.18\n",
      " |          Added Elkan algorithm\n",
      " |  \n",
      " |      .. versionchanged:: 1.1\n",
      " |          Renamed \"full\" to \"lloyd\", and deprecated \"auto\" and \"full\".\n",
      " |          Changed \"auto\" to use \"lloyd\" instead of \"elkan\".\n",
      " |  \n",
      " |  Attributes\n",
      " |  ----------\n",
      " |  cluster_centers_ : ndarray of shape (n_clusters, n_features)\n",
      " |      Coordinates of cluster centers. If the algorithm stops before fully\n",
      " |      converging (see ``tol`` and ``max_iter``), these will not be\n",
      " |      consistent with ``labels_``.\n",
      " |  \n",
      " |  labels_ : ndarray of shape (n_samples,)\n",
      " |      Labels of each point\n",
      " |  \n",
      " |  inertia_ : float\n",
      " |      Sum of squared distances of samples to their closest cluster center,\n",
      " |      weighted by the sample weights if provided.\n",
      " |  \n",
      " |  n_iter_ : int\n",
      " |      Number of iterations run.\n",
      " |  \n",
      " |  n_features_in_ : int\n",
      " |      Number of features seen during :term:`fit`.\n",
      " |  \n",
      " |      .. versionadded:: 0.24\n",
      " |  \n",
      " |  feature_names_in_ : ndarray of shape (`n_features_in_`,)\n",
      " |      Names of features seen during :term:`fit`. Defined only when `X`\n",
      " |      has feature names that are all strings.\n",
      " |  \n",
      " |      .. versionadded:: 1.0\n",
      " |  \n",
      " |  See Also\n",
      " |  --------\n",
      " |  MiniBatchKMeans : Alternative online implementation that does incremental\n",
      " |      updates of the centers positions using mini-batches.\n",
      " |      For large scale learning (say n_samples > 10k) MiniBatchKMeans is\n",
      " |      probably much faster than the default batch implementation.\n",
      " |  \n",
      " |  Notes\n",
      " |  -----\n",
      " |  The k-means problem is solved using either Lloyd's or Elkan's algorithm.\n",
      " |  \n",
      " |  The average complexity is given by O(k n T), where n is the number of\n",
      " |  samples and T is the number of iteration.\n",
      " |  \n",
      " |  The worst case complexity is given by O(n^(k+2/p)) with\n",
      " |  n = n_samples, p = n_features.\n",
      " |  Refer to :doi:`\"How slow is the k-means method?\" D. Arthur and S. Vassilvitskii -\n",
      " |  SoCG2006.<10.1145/1137856.1137880>` for more details.\n",
      " |  \n",
      " |  In practice, the k-means algorithm is very fast (one of the fastest\n",
      " |  clustering algorithms available), but it falls in local minima. That's why\n",
      " |  it can be useful to restart it several times.\n",
      " |  \n",
      " |  If the algorithm stops before fully converging (because of ``tol`` or\n",
      " |  ``max_iter``), ``labels_`` and ``cluster_centers_`` will not be consistent,\n",
      " |  i.e. the ``cluster_centers_`` will not be the means of the points in each\n",
      " |  cluster. Also, the estimator will reassign ``labels_`` after the last\n",
      " |  iteration to make ``labels_`` consistent with ``predict`` on the training\n",
      " |  set.\n",
      " |  \n",
      " |  Examples\n",
      " |  --------\n",
      " |  \n",
      " |  >>> from sklearn.cluster import KMeans\n",
      " |  >>> import numpy as np\n",
      " |  >>> X = np.array([[1, 2], [1, 4], [1, 0],\n",
      " |  ...               [10, 2], [10, 4], [10, 0]])\n",
      " |  >>> kmeans = KMeans(n_clusters=2, random_state=0, n_init=\"auto\").fit(X)\n",
      " |  >>> kmeans.labels_\n",
      " |  array([1, 1, 1, 0, 0, 0], dtype=int32)\n",
      " |  >>> kmeans.predict([[0, 0], [12, 3]])\n",
      " |  array([1, 0], dtype=int32)\n",
      " |  >>> kmeans.cluster_centers_\n",
      " |  array([[10.,  2.],\n",
      " |         [ 1.,  2.]])\n",
      " |  \n",
      " |  Method resolution order:\n",
      " |      KMeans\n",
      " |      _BaseKMeans\n",
      " |      sklearn.base.ClassNamePrefixFeaturesOutMixin\n",
      " |      sklearn.base.TransformerMixin\n",
      " |      sklearn.utils._set_output._SetOutputMixin\n",
      " |      sklearn.base.ClusterMixin\n",
      " |      sklearn.base.BaseEstimator\n",
      " |      abc.ABC\n",
      " |      builtins.object\n",
      " |  \n",
      " |  Methods defined here:\n",
      " |  \n",
      " |  __init__(self, n_clusters=8, *, init='k-means++', n_init='warn', max_iter=300, tol=0.0001, verbose=0, random_state=None, copy_x=True, algorithm='lloyd')\n",
      " |      Initialize self.  See help(type(self)) for accurate signature.\n",
      " |  \n",
      " |  fit(self, X, y=None, sample_weight=None)\n",
      " |      Compute k-means clustering.\n",
      " |      \n",
      " |      Parameters\n",
      " |      ----------\n",
      " |      X : {array-like, sparse matrix} of shape (n_samples, n_features)\n",
      " |          Training instances to cluster. It must be noted that the data\n",
      " |          will be converted to C ordering, which will cause a memory\n",
      " |          copy if the given data is not C-contiguous.\n",
      " |          If a sparse matrix is passed, a copy will be made if it's not in\n",
      " |          CSR format.\n",
      " |      \n",
      " |      y : Ignored\n",
      " |          Not used, present here for API consistency by convention.\n",
      " |      \n",
      " |      sample_weight : array-like of shape (n_samples,), default=None\n",
      " |          The weights for each observation in X. If None, all observations\n",
      " |          are assigned equal weight.\n",
      " |      \n",
      " |          .. versionadded:: 0.20\n",
      " |      \n",
      " |      Returns\n",
      " |      -------\n",
      " |      self : object\n",
      " |          Fitted estimator.\n",
      " |  \n",
      " |  fit_transform(self, X, y=None, sample_weight=None)\n",
      " |      Compute clustering and transform X to cluster-distance space.\n",
      " |      \n",
      " |      Equivalent to fit(X).transform(X), but more efficiently implemented.\n",
      " |      \n",
      " |      Parameters\n",
      " |      ----------\n",
      " |      X : {array-like, sparse matrix} of shape (n_samples, n_features)\n",
      " |          New data to transform.\n",
      " |      \n",
      " |      y : Ignored\n",
      " |          Not used, present here for API consistency by convention.\n",
      " |      \n",
      " |      sample_weight : array-like of shape (n_samples,), default=None\n",
      " |          The weights for each observation in X. If None, all observations\n",
      " |          are assigned equal weight.\n",
      " |      \n",
      " |      Returns\n",
      " |      -------\n",
      " |      X_new : ndarray of shape (n_samples, n_clusters)\n",
      " |          X transformed in the new space.\n",
      " |  \n",
      " |  transform(self, X)\n",
      " |      Transform X to a cluster-distance space.\n",
      " |      \n",
      " |      In the new space, each dimension is the distance to the cluster\n",
      " |      centers. Note that even if X is sparse, the array returned by\n",
      " |      `transform` will typically be dense.\n",
      " |      \n",
      " |      Parameters\n",
      " |      ----------\n",
      " |      X : {array-like, sparse matrix} of shape (n_samples, n_features)\n",
      " |          New data to transform.\n",
      " |      \n",
      " |      Returns\n",
      " |      -------\n",
      " |      X_new : ndarray of shape (n_samples, n_clusters)\n",
      " |          X transformed in the new space.\n",
      " |  \n",
      " |  ----------------------------------------------------------------------\n",
      " |  Data and other attributes defined here:\n",
      " |  \n",
      " |  __abstractmethods__ = frozenset()\n",
      " |  \n",
      " |  __annotations__ = {'_parameter_constraints': <class 'dict'>}\n",
      " |  \n",
      " |  ----------------------------------------------------------------------\n",
      " |  Methods inherited from _BaseKMeans:\n",
      " |  \n",
      " |  fit_predict(self, X, y=None, sample_weight=None)\n",
      " |      Compute cluster centers and predict cluster index for each sample.\n",
      " |      \n",
      " |      Convenience method; equivalent to calling fit(X) followed by\n",
      " |      predict(X).\n",
      " |      \n",
      " |      Parameters\n",
      " |      ----------\n",
      " |      X : {array-like, sparse matrix} of shape (n_samples, n_features)\n",
      " |          New data to transform.\n",
      " |      \n",
      " |      y : Ignored\n",
      " |          Not used, present here for API consistency by convention.\n",
      " |      \n",
      " |      sample_weight : array-like of shape (n_samples,), default=None\n",
      " |          The weights for each observation in X. If None, all observations\n",
      " |          are assigned equal weight.\n",
      " |      \n",
      " |      Returns\n",
      " |      -------\n",
      " |      labels : ndarray of shape (n_samples,)\n",
      " |          Index of the cluster each sample belongs to.\n",
      " |  \n",
      " |  predict(self, X, sample_weight=None)\n",
      " |      Predict the closest cluster each sample in X belongs to.\n",
      " |      \n",
      " |      In the vector quantization literature, `cluster_centers_` is called\n",
      " |      the code book and each value returned by `predict` is the index of\n",
      " |      the closest code in the code book.\n",
      " |      \n",
      " |      Parameters\n",
      " |      ----------\n",
      " |      X : {array-like, sparse matrix} of shape (n_samples, n_features)\n",
      " |          New data to predict.\n",
      " |      \n",
      " |      sample_weight : array-like of shape (n_samples,), default=None\n",
      " |          The weights for each observation in X. If None, all observations\n",
      " |          are assigned equal weight.\n",
      " |      \n",
      " |      Returns\n",
      " |      -------\n",
      " |      labels : ndarray of shape (n_samples,)\n",
      " |          Index of the cluster each sample belongs to.\n",
      " |  \n",
      " |  score(self, X, y=None, sample_weight=None)\n",
      " |      Opposite of the value of X on the K-means objective.\n",
      " |      \n",
      " |      Parameters\n",
      " |      ----------\n",
      " |      X : {array-like, sparse matrix} of shape (n_samples, n_features)\n",
      " |          New data.\n",
      " |      \n",
      " |      y : Ignored\n",
      " |          Not used, present here for API consistency by convention.\n",
      " |      \n",
      " |      sample_weight : array-like of shape (n_samples,), default=None\n",
      " |          The weights for each observation in X. If None, all observations\n",
      " |          are assigned equal weight.\n",
      " |      \n",
      " |      Returns\n",
      " |      -------\n",
      " |      score : float\n",
      " |          Opposite of the value of X on the K-means objective.\n",
      " |  \n",
      " |  ----------------------------------------------------------------------\n",
      " |  Methods inherited from sklearn.base.ClassNamePrefixFeaturesOutMixin:\n",
      " |  \n",
      " |  get_feature_names_out(self, input_features=None)\n",
      " |      Get output feature names for transformation.\n",
      " |      \n",
      " |      The feature names out will prefixed by the lowercased class name. For\n",
      " |      example, if the transformer outputs 3 features, then the feature names\n",
      " |      out are: `[\"class_name0\", \"class_name1\", \"class_name2\"]`.\n",
      " |      \n",
      " |      Parameters\n",
      " |      ----------\n",
      " |      input_features : array-like of str or None, default=None\n",
      " |          Only used to validate feature names with the names seen in :meth:`fit`.\n",
      " |      \n",
      " |      Returns\n",
      " |      -------\n",
      " |      feature_names_out : ndarray of str objects\n",
      " |          Transformed feature names.\n",
      " |  \n",
      " |  ----------------------------------------------------------------------\n",
      " |  Data descriptors inherited from sklearn.base.ClassNamePrefixFeaturesOutMixin:\n",
      " |  \n",
      " |  __dict__\n",
      " |      dictionary for instance variables (if defined)\n",
      " |  \n",
      " |  __weakref__\n",
      " |      list of weak references to the object (if defined)\n",
      " |  \n",
      " |  ----------------------------------------------------------------------\n",
      " |  Methods inherited from sklearn.utils._set_output._SetOutputMixin:\n",
      " |  \n",
      " |  set_output(self, *, transform=None)\n",
      " |      Set output container.\n",
      " |      \n",
      " |      See :ref:`sphx_glr_auto_examples_miscellaneous_plot_set_output.py`\n",
      " |      for an example on how to use the API.\n",
      " |      \n",
      " |      Parameters\n",
      " |      ----------\n",
      " |      transform : {\"default\", \"pandas\"}, default=None\n",
      " |          Configure output of `transform` and `fit_transform`.\n",
      " |      \n",
      " |          - `\"default\"`: Default output format of a transformer\n",
      " |          - `\"pandas\"`: DataFrame output\n",
      " |          - `None`: Transform configuration is unchanged\n",
      " |      \n",
      " |      Returns\n",
      " |      -------\n",
      " |      self : estimator instance\n",
      " |          Estimator instance.\n",
      " |  \n",
      " |  ----------------------------------------------------------------------\n",
      " |  Class methods inherited from sklearn.utils._set_output._SetOutputMixin:\n",
      " |  \n",
      " |  __init_subclass__(auto_wrap_output_keys=('transform',), **kwargs) from abc.ABCMeta\n",
      " |      This method is called when a class is subclassed.\n",
      " |      \n",
      " |      The default implementation does nothing. It may be\n",
      " |      overridden to extend subclasses.\n",
      " |  \n",
      " |  ----------------------------------------------------------------------\n",
      " |  Methods inherited from sklearn.base.BaseEstimator:\n",
      " |  \n",
      " |  __getstate__(self)\n",
      " |  \n",
      " |  __repr__(self, N_CHAR_MAX=700)\n",
      " |      Return repr(self).\n",
      " |  \n",
      " |  __setstate__(self, state)\n",
      " |  \n",
      " |  get_params(self, deep=True)\n",
      " |      Get parameters for this estimator.\n",
      " |      \n",
      " |      Parameters\n",
      " |      ----------\n",
      " |      deep : bool, default=True\n",
      " |          If True, will return the parameters for this estimator and\n",
      " |          contained subobjects that are estimators.\n",
      " |      \n",
      " |      Returns\n",
      " |      -------\n",
      " |      params : dict\n",
      " |          Parameter names mapped to their values.\n",
      " |  \n",
      " |  set_params(self, **params)\n",
      " |      Set the parameters of this estimator.\n",
      " |      \n",
      " |      The method works on simple estimators as well as on nested objects\n",
      " |      (such as :class:`~sklearn.pipeline.Pipeline`). The latter have\n",
      " |      parameters of the form ``<component>__<parameter>`` so that it's\n",
      " |      possible to update each component of a nested object.\n",
      " |      \n",
      " |      Parameters\n",
      " |      ----------\n",
      " |      **params : dict\n",
      " |          Estimator parameters.\n",
      " |      \n",
      " |      Returns\n",
      " |      -------\n",
      " |      self : estimator instance\n",
      " |          Estimator instance.\n",
      "\n"
     ]
    }
   ],
   "source": [
    "# We gaan de methode DecisionTreeClassifier() uit het sklearn package gebruiken, inspecteer hiervoor de documentatie. Dat kan \n",
    "help(KMeans())"
   ]
  },
  {
   "cell_type": "markdown",
   "id": "4f1bd7ba",
   "metadata": {},
   "source": [
    "Zie bijvoorbeeld de parameters: `n_clusters`, `algorithm`, `init` en `n_init`. Ook lees je dat er een *method*  `fit()` voor deze *object class* gedefinieerd is om het model te *fitten*."
   ]
  },
  {
   "cell_type": "markdown",
   "id": "e92aae34",
   "metadata": {},
   "source": [
    "#### model fitten stap 1: bepaal het aantal clusters K\n",
    "Allereerst moeten we het aantal clusters *K* gaan vaststellen. Wat we daarvoor doen is een aantal waarden voor *K* doorlopen en de *within-cluster sum of squares (WCSS)* (ook wel *inertia* genoemd) plotten van de resulterende clusterindeling. Een goede clustering heeft én een lage waarde voor de *WCSS* én slechts een beperkt aantal clusters (*K*). Hoe meer clusters, hoe lager de waarde *WCSS* zal worden (de clusters worden kleiner), beide voorwaarden werken elkaar dus tegen.\n",
    "\n",
    "Om tóch een optimaal aantal te vinden is het gebruikelijk de 'knie' (of 'elleboog') in onderstaande plot te identificeren. Dat is waar de afname van de *WCSS* minder hard begint te dalen dan de trend daarvoor. Dit is en blijft wat subjectief!. In onderstaande plot is het optimale aantal *K = 3*  te verdedigen"
   ]
  },
  {
   "cell_type": "code",
   "execution_count": 12,
   "id": "c5b6b7e3-993c-4828-9949-501b524fd8b0",
   "metadata": {},
   "outputs": [
    {
     "data": {
      "image/png": "[encoded data removed]",
      "text/plain": [
       "<Figure size 640x480 with 1 Axes>"
      ]
     },
     "metadata": {},
     "output_type": "display_data"
    }
   ],
   "source": [
    "# Store sum of squares for 1..15 clusters\n",
    "wss = []\n",
    "for i in range(1, 15):\n",
    "    km_out = KMeans(n_clusters=i, n_init=20)\n",
    "    km_out.fit(d3_s)\n",
    "    wss.append(km_out.inertia_)\n",
    "\n",
    "plt.plot(range(1, 15), wss, marker=\"o\")\n",
    "plt.xlabel(\"Number of clusters\")\n",
    "plt.ylabel(\"Within groups sum of squares\")\n",
    "plt.show()"
   ]
  },
  {
   "cell_type": "markdown",
   "id": "58494268-0682-441f-ab0e-48eef7c9b83f",
   "metadata": {},
   "source": [
    "#### model fitten stap 2: fit model"
   ]
  },
  {
   "cell_type": "code",
   "execution_count": 13,
   "id": "28dc8f46",
   "metadata": {},
   "outputs": [
    {
     "name": "stdout",
     "output_type": "stream",
     "text": [
      "KMeans(n_clusters=3, n_init=25)\n"
     ]
    }
   ],
   "source": [
    "# Compute k-means with k = 3\n",
    "km_res = KMeans(n_clusters=3, n_init=25).fit(d3_s)\n",
    "print(km_res)"
   ]
  },
  {
   "cell_type": "markdown",
   "id": "9161ee58",
   "metadata": {},
   "source": [
    "### 5. Model weergeven\n",
    "Voor het weergeven van (kenmerken van) een de clusterindeling volgen hier enkele voorbeelden:"
   ]
  },
  {
   "cell_type": "markdown",
   "id": "bce8a7a1-cfec-4ae5-aad1-6c12f5330d2f",
   "metadata": {},
   "source": [
    "#### De omvang van elk cluster"
   ]
  },
  {
   "cell_type": "code",
   "execution_count": 14,
   "id": "caa2b57d",
   "metadata": {},
   "outputs": [
    {
     "name": "stdout",
     "output_type": "stream",
     "text": [
      "K-means cluster sizes: [12 13  3]\n"
     ]
    }
   ],
   "source": [
    "print(\"K-means cluster sizes:\", np.bincount(km_res.labels_[km_res.labels_ >= 0]))"
   ]
  },
  {
   "cell_type": "markdown",
   "id": "d9fd2f37-f719-4763-ab74-d42deeb7362a",
   "metadata": {},
   "source": [
    "#### De ligging van de centroids"
   ]
  },
  {
   "cell_type": "code",
   "execution_count": 15,
   "id": "2534f899-c627-4825-9780-b62ac2487273",
   "metadata": {},
   "outputs": [
    {
     "name": "stdout",
     "output_type": "stream",
     "text": [
      "Cluster means: [[ 0.66509211  0.64333892 -0.03329616 -0.40111921]\n",
      " [-0.88805399 -0.82663477 -0.37655062 -0.2043732 ]\n",
      " [ 1.18786548  1.00872835  1.76490399  2.49009407]]\n"
     ]
    }
   ],
   "source": [
    "print(f\"Cluster means: {km_res.cluster_centers_}\")"
   ]
  },
  {
   "cell_type": "markdown",
   "id": "7f2c0a5d-dc2f-43be-b13b-6e06505db487",
   "metadata": {},
   "source": [
    "#### De toewijzing"
   ]
  },
  {
   "cell_type": "code",
   "execution_count": 16,
   "id": "0f18b375-b81c-4828-a4d1-e53a1453cd66",
   "metadata": {},
   "outputs": [
    {
     "name": "stdout",
     "output_type": "stream",
     "text": [
      "Clustering vector:\n",
      "[['Austria' 0]\n",
      " ['Spain' 0]\n",
      " ['Portugal' 0]\n",
      " ['Netherlands' 0]\n",
      " ['Malta' 0]\n",
      " ['Luxemburg' 0]\n",
      " ['Germany' 0]\n",
      " ['France' 0]\n",
      " ['Ireland' 0]\n",
      " ['Cyprus' 0]\n",
      " ['Belgium' 0]\n",
      " ['UK' 0]\n",
      " ['Hungary' 1]\n",
      " ['Italy' 1]\n",
      " ['Latvia' 1]\n",
      " ['Lithuania' 1]\n",
      " ['Czech republic' 1]\n",
      " ['Croatia' 1]\n",
      " ['Poland' 1]\n",
      " ['Bulgaria' 1]\n",
      " ['Romania' 1]\n",
      " ['Slovakia' 1]\n",
      " ['Slovenia' 1]\n",
      " ['Greece' 1]\n",
      " ['Estonia' 1]\n",
      " ['Sweden' 2]\n",
      " ['Finland' 2]\n",
      " ['Denmark' 2]]\n"
     ]
    }
   ],
   "source": [
    "print(\"Clustering vector:\")\n",
    "toew = np.column_stack((d3.index, km_res.labels_))\n",
    "print(toew[toew[:,1].argsort()])\n"
   ]
  },
  {
   "cell_type": "markdown",
   "id": "72bacb28-c51a-4d93-b46e-dbfd46ee87ba",
   "metadata": {},
   "source": [
    "#### Een plot van de gevonden clusters\n",
    "Let op: we geven hier op de x en y-as weer: de *herschaalde waarden* voor `support_refugees_n` resp `support_migrants_n`.\n",
    "Varieer zelf bijvoorbeeld eens over de andere variabelen!"
   ]
  },
  {
   "cell_type": "code",
   "execution_count": 17,
   "id": "56a4509a-76ac-4bac-bcfd-ee28a70dd91b",
   "metadata": {},
   "outputs": [
    {
     "data": {
      "text/plain": [
       "Index(['support_refugees_n', 'support_migrants_n', 'age', 'educational_n'], dtype='object')"
      ]
     },
     "execution_count": 17,
     "metadata": {},
     "output_type": "execute_result"
    }
   ],
   "source": [
    "d3.columns"
   ]
  },
  {
   "cell_type": "code",
   "execution_count": 18,
   "id": "76f4a68f-25f7-447a-915e-56dc25759bc2",
   "metadata": {},
   "outputs": [
    {
     "name": "stderr",
     "output_type": "stream",
     "text": [
      "No artists with labels found to put in legend.  Note that artists whose label start with an underscore are ignored when legend() is called with no argument.\n"
     ]
    },
    {
     "data": {
      "image/png": "[encoded data removed]",
      "text/plain": [
       "<Figure size 640x480 with 1 Axes>"
      ]
     },
     "metadata": {},
     "output_type": "display_data"
    }
   ],
   "source": [
    "#Keuze van variabelen in de plot:\n",
    "xas = 0 #'support_refugees_n' = 0, 'support_migrants_n' = 1, 'age' = 2, 'educational_n' = 3\n",
    "yas = 1 #'support_refugees_n' = 0, 'support_migrants_n' = 1, 'age' = 2, 'educational_n' = 3\n",
    "\n",
    "for cluster in range(km_res.n_clusters):\n",
    "    plt.scatter(\n",
    "        d3_s[km_res.labels_ == cluster, xas], d3_s[km_res.labels_ == cluster, yas]\n",
    "    )\n",
    "plt.scatter(\n",
    "    km_res.cluster_centers_[:, xas],\n",
    "    km_res.cluster_centers_[:, yas],\n",
    "    s=250,\n",
    "    marker=\"*\",\n",
    ")\n",
    "plt.legend(scatterpoints=1)\n",
    "plt.show()"
   ]
  }
 ],
 "metadata": {
  "kernelspec": {
   "display_name": "Python 3 (ipykernel)",
   "language": "python",
   "name": "python3"
  },
  "language_info": {
   "codemirror_mode": {
    "name": "ipython",
    "version": 3
   },
   "file_extension": ".py",
   "mimetype": "text/x-python",
   "name": "python",
   "nbconvert_exporter": "python",
   "pygments_lexer": "ipython3",
   "version": "3.10.9"
  }
 },
 "nbformat": 4,
 "nbformat_minor": 5
}
